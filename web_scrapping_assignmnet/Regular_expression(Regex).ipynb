{
 "cells": [
  {
   "cell_type": "markdown",
   "id": "c29c1cdc",
   "metadata": {},
   "source": [
    "# Question 1- Write a Python program to check that a string contains only a certain set of characters (in this case a-z, A-Z and 0-9).\n"
   ]
  },
  {
   "cell_type": "markdown",
   "id": "48108761",
   "metadata": {},
   "source": [
    "## For the above question : space or any special characters are not allowed in string. "
   ]
  },
  {
   "cell_type": "code",
   "execution_count": 1,
   "id": "68efac64",
   "metadata": {},
   "outputs": [
    {
     "name": "stdout",
     "output_type": "stream",
     "text": [
      "Enter a string (or 'quit' to exit): Speak Now !\n",
      "String contains characters outside a-z, A-Z, and 0-9. NO MATCH \n",
      "\n",
      "Enter a string (or 'quit' to exit): Speak Now\n",
      "String contains characters outside a-z, A-Z, and 0-9. NO MATCH \n",
      "\n",
      "Enter a string (or 'quit' to exit): SpeakNow\n",
      "String contains only a-z, A-Z, and 0-9. MATCH \n",
      "\n",
      "Enter a string (or 'quit' to exit): quit\n"
     ]
    }
   ],
   "source": [
    "import re\n",
    "\n",
    "def check_character_set(string):\n",
    "    pattern = r\"^[a-zA-Z0-9]+$\"\n",
    "    match = re.match(pattern, string)\n",
    "    if match:\n",
    "        return True\n",
    "    else:\n",
    "        return False\n",
    "\n",
    "# Example usage\n",
    "while True:\n",
    "    user_input = input(\"Enter a string (or 'quit' to exit): \")\n",
    "    \n",
    "    if user_input.lower() == \"quit\":\n",
    "        break\n",
    "    \n",
    "    if check_character_set(user_input):\n",
    "        print(\"String contains only a-z, A-Z, and 0-9. MATCH \\n\")\n",
    "    else:\n",
    "        print(\"String contains characters outside a-z, A-Z, and 0-9. NO MATCH \\n\")\n"
   ]
  },
  {
   "cell_type": "markdown",
   "id": "c485dce9",
   "metadata": {},
   "source": [
    "# Question 2- Create a function in python that matches a string that has an a followed by zero or more b's\n"
   ]
  },
  {
   "cell_type": "markdown",
   "id": "dfef1610",
   "metadata": {},
   "source": [
    "## Example of allowed strings are : \n",
    "1. a\n",
    "2. ab\n",
    "3. abbb's\n",
    "4. ..a..\n",
    "5. ..ab's..\n",
    "\n",
    "where .. means any character."
   ]
  },
  {
   "cell_type": "code",
   "execution_count": 2,
   "id": "16ae710f",
   "metadata": {},
   "outputs": [
    {
     "name": "stdout",
     "output_type": "stream",
     "text": [
      "Enter a string (or 'quit' to exit): a\n",
      "MATCH found\n",
      "\n",
      "Enter a string (or 'quit' to exit): ab\n",
      "MATCH found\n",
      "\n",
      "Enter a string (or 'quit' to exit): abbb\n",
      "MATCH found\n",
      "\n",
      "Enter a string (or 'quit' to exit): ccbba\n",
      "MATCH found\n",
      "\n",
      "Enter a string (or 'quit' to exit): ccbbabbb\n",
      "MATCH found\n",
      "\n",
      "Enter a string (or 'quit' to exit): ccddbbdd\n",
      "NO Match found\n",
      "\n",
      "Enter a string (or 'quit' to exit): quit\n"
     ]
    }
   ],
   "source": [
    "def match_a_followed_by_b(string):\n",
    "    pattern = r'a[b]*'\n",
    "    return bool(re.search(pattern, string))\n",
    "\n",
    "# Example usage\n",
    "while True:\n",
    "    user_input = input(\"Enter a string (or 'quit' to exit): \")\n",
    "    \n",
    "    if user_input.lower() == \"quit\":\n",
    "        break\n",
    "\n",
    "    if match_a_followed_by_b(user_input):\n",
    "        print(\"MATCH found\\n\")\n",
    "    else:\n",
    "        print(\"NO Match found\\n\")\n"
   ]
  },
  {
   "cell_type": "markdown",
   "id": "499779d9",
   "metadata": {},
   "source": [
    "# Question 3-  Create a function in python that matches a string that has an a followed by one or more b's\n"
   ]
  },
  {
   "cell_type": "markdown",
   "id": "cb0ccedf",
   "metadata": {},
   "source": [
    "## Allowed strings are :\n",
    "1. ab\n",
    "2. abb's\n",
    "3. ..ab.."
   ]
  },
  {
   "cell_type": "code",
   "execution_count": 3,
   "id": "6505b751",
   "metadata": {},
   "outputs": [
    {
     "name": "stdout",
     "output_type": "stream",
     "text": [
      "Enter a string (or 'quit' to exit): a\n",
      "NO Match Found\n",
      "\n",
      "Enter a string (or 'quit' to exit): ab\n",
      "MATCH found\n",
      "\n",
      "Enter a string (or 'quit' to exit): abbb\n",
      "MATCH found\n",
      "\n",
      "Enter a string (or 'quit' to exit): ccbba\n",
      "NO Match Found\n",
      "\n",
      "Enter a string (or 'quit' to exit): ccbbabbbb\n",
      "MATCH found\n",
      "\n",
      "Enter a string (or 'quit' to exit): ccddbbb\n",
      "NO Match Found\n",
      "\n",
      "Enter a string (or 'quit' to exit): quit\n"
     ]
    }
   ],
   "source": [
    "import re\n",
    "\n",
    "def match_a_followed_by_b(string):\n",
    "    pattern = r'ab+'\n",
    "    return bool(re.search(pattern, string))\n",
    "\n",
    "# Example usage\n",
    "\n",
    "while True:\n",
    "    user_input = input(\"Enter a string (or 'quit' to exit): \")\n",
    "    \n",
    "    if user_input.lower() == \"quit\":\n",
    "        break\n",
    "\n",
    "    if match_a_followed_by_b(user_input):\n",
    "        print(\"MATCH found\\n\")\n",
    "    else:\n",
    "        print(\"NO Match Found\\n\")\n"
   ]
  },
  {
   "cell_type": "markdown",
   "id": "2d5d9ffa",
   "metadata": {},
   "source": [
    "# 4. Create a function in Python and use RegEx that matches a string that has an a followed by zero or one 'b'.\n"
   ]
  },
  {
   "cell_type": "markdown",
   "id": "4879ae48",
   "metadata": {},
   "source": [
    "## Allowed String :\n",
    "1. a\n",
    "2. ab\n",
    "3. ..a..\n",
    "4. ..ab.."
   ]
  },
  {
   "cell_type": "code",
   "execution_count": 4,
   "id": "a5a47616",
   "metadata": {},
   "outputs": [
    {
     "name": "stdout",
     "output_type": "stream",
     "text": [
      "Enter a string (or 'quit' to exit): a\n",
      "MATCH found\n",
      "\n",
      "Enter a string (or 'quit' to exit): ab\n",
      "MATCH found\n",
      "\n",
      "Enter a string (or 'quit' to exit): ccbba\n",
      "MATCH found\n",
      "\n",
      "Enter a string (or 'quit' to exit): ccddbbbabbb\n",
      "NO Match Found\n",
      "\n",
      "Enter a string (or 'quit' to exit): ccddabcbb\n",
      "MATCH found\n",
      "\n",
      "Enter a string (or 'quit' to exit): ccddbbbb\n",
      "NO Match Found\n",
      "\n",
      "Enter a string (or 'quit' to exit): quit\n"
     ]
    }
   ],
   "source": [
    "import re\n",
    "\n",
    "def match_string_with_a_but_not_multiple_b(string):\n",
    "    pattern = r'^.*a(?!b{2,}).*$'\n",
    "    return bool(re.match(pattern, string))\n",
    "\n",
    "while True:\n",
    "    user_input = input(\"Enter a string (or 'quit' to exit): \")\n",
    "    \n",
    "    if user_input.lower() == \"quit\":\n",
    "        break\n",
    "\n",
    "    if match_string_with_a_but_not_multiple_b(user_input):\n",
    "        print(\"MATCH found\\n\")\n",
    "    else:\n",
    "        print(\"NO Match Found\\n\")"
   ]
  },
  {
   "cell_type": "markdown",
   "id": "617ef644",
   "metadata": {},
   "source": [
    "# Question 5- Write a Python program that matches a string that has an a followed by three 'b'.\n"
   ]
  },
  {
   "cell_type": "markdown",
   "id": "0fceaa1a",
   "metadata": {},
   "source": [
    "## Allowed String :\n",
    "1. abbb\n",
    "2. ...abbb...\n",
    "\n",
    "### Not allowed\n",
    "1. ..a..\n",
    "2. ..ab..\n",
    "3. ..abbbb.."
   ]
  },
  {
   "cell_type": "code",
   "execution_count": 5,
   "id": "73d73ada",
   "metadata": {},
   "outputs": [
    {
     "name": "stdout",
     "output_type": "stream",
     "text": [
      "Enter a string (or 'quit' to exit): a\n",
      "NO Match Found\n",
      "\n",
      "Enter a string (or 'quit' to exit): ab\n",
      "NO Match Found\n",
      "\n",
      "Enter a string (or 'quit' to exit): abbbb\n",
      "NO Match Found\n",
      "\n",
      "Enter a string (or 'quit' to exit): abbb\n",
      "MATCH Found\n",
      "\n",
      "Enter a string (or 'quit' to exit): ccbbbdddabbbnnmm\n",
      "MATCH Found\n",
      "\n",
      "Enter a string (or 'quit' to exit): ccddbbabbbb\n",
      "NO Match Found\n",
      "\n",
      "Enter a string (or 'quit' to exit): quit\n"
     ]
    }
   ],
   "source": [
    "import re\n",
    "\n",
    "def match_a_followed_by_three_b(string):\n",
    "    pattern = r'a{1}b{3}(?![b])'\n",
    "    match = re.search(pattern, string)\n",
    "    if match:\n",
    "        return True\n",
    "    else:\n",
    "        return False\n",
    "\n",
    "while True:\n",
    "    user_input = input(\"Enter a string (or 'quit' to exit): \")\n",
    "    \n",
    "    if user_input.lower() == \"quit\":\n",
    "        break\n",
    "\n",
    "    if match_a_followed_by_three_b(user_input):\n",
    "        print(\"MATCH Found\\n\")\n",
    "    else:\n",
    "        print(\"NO Match Found\\n\")"
   ]
  },
  {
   "cell_type": "markdown",
   "id": "faf2e5d9",
   "metadata": {},
   "source": [
    "# Question 6- Write a regular expression in Python to split a string into uppercase letters.\n",
    "Sample text: “ImportanceOfRegularExpressionsInPython”\n",
    "Output: [‘Importance’, ‘Of’, ‘Regular’, ‘Expression’, ‘In’, ‘Python’]\n"
   ]
  },
  {
   "cell_type": "code",
   "execution_count": 6,
   "id": "fcaf9f17",
   "metadata": {},
   "outputs": [
    {
     "name": "stdout",
     "output_type": "stream",
     "text": [
      "Enter a string: ImportanceOfRegularExpressionsInPython\n",
      "['Importance', 'Of', 'Regular', 'Expressions', 'In', 'Python']\n"
     ]
    }
   ],
   "source": [
    "import re\n",
    "\n",
    "def split_uppercase(string):\n",
    "    pattern = r'(?<=[a-z])(?=[A-Z])'\n",
    "    result = re.split(pattern, string)\n",
    "    return result\n",
    "\n",
    "# Example usage\n",
    "input_string = input(\"Enter a string: \")\n",
    "uppercase_letters = split_uppercase(input_string)\n",
    "uppercase_letters = list(filter(None, uppercase_letters))\n",
    "print(uppercase_letters)\n"
   ]
  },
  {
   "cell_type": "markdown",
   "id": "a8f82bc3",
   "metadata": {},
   "source": [
    "#  Question 7- Write a Python program that matches a string that has an a followed by two to three 'b'.\n"
   ]
  },
  {
   "cell_type": "markdown",
   "id": "1f1401f9",
   "metadata": {},
   "source": [
    "## Allowed strings : \n",
    "1. abb\n",
    "2. abbb\n",
    "3. ..abb/bbb..\n",
    "\n",
    "## not allowed\n",
    "1. ..a..\n",
    "2. ..ab..\n",
    "3. ..abbbb's.."
   ]
  },
  {
   "cell_type": "code",
   "execution_count": 7,
   "id": "e5043604",
   "metadata": {},
   "outputs": [
    {
     "name": "stdout",
     "output_type": "stream",
     "text": [
      "Enter a string (or 'quit' to exit): a\n",
      "NO Match Found\n",
      "\n",
      "Enter a string (or 'quit' to exit): ab\n",
      "NO Match Found\n",
      "\n",
      "Enter a string (or 'quit' to exit): abb\n",
      "MATCH Found\n",
      "\n",
      "Enter a string (or 'quit' to exit): abbb\n",
      "MATCH Found\n",
      "\n",
      "Enter a string (or 'quit' to exit): ccggddhhabbb\n",
      "MATCH Found\n",
      "\n",
      "Enter a string (or 'quit' to exit): ccggbbbbbabbbb\n",
      "NO Match Found\n",
      "\n",
      "Enter a string (or 'quit' to exit): gghhddbbnnnsss\n",
      "NO Match Found\n",
      "\n",
      "Enter a string (or 'quit' to exit): quit\n"
     ]
    }
   ],
   "source": [
    "import re\n",
    "\n",
    "def match_a_followed_by_two_to_three_b(string):\n",
    "    pattern = r'a{1}b{2,3}(?![b])'\n",
    "    match = re.search(pattern, string)\n",
    "    if match:\n",
    "        return True\n",
    "    else:\n",
    "        return False\n",
    "\n",
    "\n",
    "# Example usage\n",
    "\n",
    "while True:\n",
    "    user_input = input(\"Enter a string (or 'quit' to exit): \")\n",
    "    \n",
    "    if user_input.lower() == \"quit\":\n",
    "        break\n",
    "\n",
    "    if match_a_followed_by_two_to_three_b(user_input):\n",
    "        print(\"MATCH Found\\n\")\n",
    "    else:\n",
    "        print(\"NO Match Found\\n\")\n"
   ]
  },
  {
   "cell_type": "markdown",
   "id": "a06f96e6",
   "metadata": {},
   "source": [
    "# Question 8- Write a Python program to find sequences of lowercase letters joined with a underscore.\n"
   ]
  },
  {
   "cell_type": "code",
   "execution_count": 9,
   "id": "3dd8335e",
   "metadata": {},
   "outputs": [
    {
     "name": "stdout",
     "output_type": "stream",
     "text": [
      "Enter a string (or 'quit' to exit): Hi_World_hi_peeps\n",
      "Sequences found: ['Hi_World', 'hi_peeps']\n",
      "Enter a string (or 'quit' to exit): quit\n"
     ]
    }
   ],
   "source": [
    "import re\n",
    "\n",
    "def find_letter_sequences_with_underscore(string):\n",
    "    pattern = r'[a-zA-Z]+_[a-zA-Z]+'\n",
    "    result = re.findall(pattern, string)\n",
    "    return result\n",
    "\n",
    "while True:\n",
    "    user_input = input(\"Enter a string (or 'quit' to exit): \")\n",
    "    \n",
    "    if user_input.lower() == \"quit\":\n",
    "        break\n",
    "\n",
    "    sequences = find_letter_sequences_with_underscore(user_input)\n",
    "    print(\"Sequences found:\", sequences)\n"
   ]
  },
  {
   "cell_type": "markdown",
   "id": "237fccc5",
   "metadata": {},
   "source": [
    "# Question 9- Write a Python program that matches a string that has an 'a' followed by anything, ending in 'b'.\n"
   ]
  },
  {
   "cell_type": "markdown",
   "id": "2154f5ef",
   "metadata": {},
   "source": [
    "## Allowed Strings:\n",
    "1. ..a...b"
   ]
  },
  {
   "cell_type": "code",
   "execution_count": 10,
   "id": "e34d8d96",
   "metadata": {},
   "outputs": [
    {
     "name": "stdout",
     "output_type": "stream",
     "text": [
      "Enter a string (or 'quit' to exit): qqxxyybbbaggghhhb\n",
      "MATCH Found\n",
      "\n",
      "Enter a string (or 'quit' to exit): a\n",
      "NO Match Found\n",
      "\n",
      "Enter a string (or 'quit' to exit): ab\n",
      "MATCH Found\n",
      "\n",
      "Enter a string (or 'quit' to exit): b\n",
      "NO Match Found\n",
      "\n",
      "Enter a string (or 'quit' to exit): xxxyyyyaa\n",
      "NO Match Found\n",
      "\n",
      "Enter a string (or 'quit' to exit): quit\n"
     ]
    }
   ],
   "source": [
    "import re\n",
    "\n",
    "def match_a_followed_by_anything_ending_with_b(string):\n",
    "    pattern = r'^.*a.*b$'\n",
    "    return bool(re.match(pattern, string))\n",
    "\n",
    "while True:\n",
    "    user_input = input(\"Enter a string (or 'quit' to exit): \")\n",
    "    \n",
    "    if user_input.lower() == \"quit\":\n",
    "        break\n",
    "\n",
    "    if match_a_followed_by_anything_ending_with_b(user_input):\n",
    "        print(\"MATCH Found\\n\")\n",
    "    else:\n",
    "        print(\"NO Match Found\\n\")"
   ]
  },
  {
   "cell_type": "markdown",
   "id": "e5b97d36",
   "metadata": {},
   "source": [
    "# Question 10- Write a Python program that matches a word at the beginning of a string.\n"
   ]
  },
  {
   "cell_type": "code",
   "execution_count": 3,
   "id": "97afa3b0",
   "metadata": {},
   "outputs": [
    {
     "name": "stdout",
     "output_type": "stream",
     "text": [
      "Enter a word (or 'quit' to exit): Hello\n",
      "Enter a String (or 'quit' to exit): Hello World\n",
      "MATCH ! Word matches at the beginning of the string.\n",
      "Enter a String (or 'quit' to exit): This is fliprobo\n",
      "NO MAtch ! Word does not match at the beginning of the string.\n",
      "Enter a String (or 'quit' to exit): quit\n",
      "Enter a word (or 'quit' to exit): quit\n"
     ]
    }
   ],
   "source": [
    "import re\n",
    "\n",
    "def match_word_at_beginning(word, string):\n",
    "    pattern = r'^' + word\n",
    "    return bool(re.match(pattern, string))\n",
    "\n",
    "# Example usage\n",
    "\n",
    "while True:\n",
    "    input_word = input(\"Enter a word (or 'quit' to exit): \")\n",
    "    \n",
    "    if input_word.lower() == \"quit\":\n",
    "        break\n",
    "    \n",
    "    while True:\n",
    "        input_string = input(\"Enter a String (or 'quit' to exit): \")\n",
    "        if input_string.lower() == \"quit\":\n",
    "            break\n",
    "        \n",
    "        if match_word_at_beginning(input_word, input_string):\n",
    "            print(\"MATCH ! Word matches at the beginning of the string.\")\n",
    "        else:\n",
    "            print(\"NO MAtch ! Word does not match at the beginning of the string.\")\n"
   ]
  },
  {
   "cell_type": "markdown",
   "id": "c2e8e10c",
   "metadata": {},
   "source": [
    "# Question 11- Write a Python program to match a string that contains only upper and lowercase letters, numbers, and underscores.\n"
   ]
  },
  {
   "cell_type": "code",
   "execution_count": 4,
   "id": "f5d2724a",
   "metadata": {},
   "outputs": [
    {
     "name": "stdout",
     "output_type": "stream",
     "text": [
      "Enter a string (or 'quit' to exit): Aeg3_gh\n",
      "MATCH Found\n",
      "\n",
      "Enter a string (or 'quit' to exit): fghtih\n",
      "NO Match Found\n",
      "\n",
      "Enter a string (or 'quit' to exit): AFTDG\n",
      "MATCH Found\n",
      "\n",
      "Enter a string (or 'quit' to exit): quit\n"
     ]
    }
   ],
   "source": [
    "import re\n",
    "\n",
    "def match_string_with_allowed_characters(string):\n",
    "    pattern = r'^(?=.*[A-Z])[a-zA-Z0-9_]+$'\n",
    "    return bool(re.match(pattern, string))\n",
    "\n",
    "while True:\n",
    "    user_input = input(\"Enter a string (or 'quit' to exit): \")\n",
    "    \n",
    "    if user_input.lower() == \"quit\":\n",
    "        break\n",
    "\n",
    "    if match_string_with_allowed_characters(user_input):\n",
    "        print(\"MATCH Found\\n\")\n",
    "    else:\n",
    "        print(\"NO Match Found\\n\")"
   ]
  },
  {
   "cell_type": "markdown",
   "id": "278cc269",
   "metadata": {},
   "source": [
    "# Question 12- Write a Python program where a string will start with a specific number. \n"
   ]
  },
  {
   "cell_type": "code",
   "execution_count": 7,
   "id": "2aeed765",
   "metadata": {},
   "outputs": [
    {
     "name": "stdout",
     "output_type": "stream",
     "text": [
      "Enter a number (or 'quit' to exit): 0\n",
      "Enter a String (or 'quit' to exit): 0fght\n",
      "MATCH ! String starts with the specified number.\n",
      "Enter a String (or 'quit' to exit): ghyiu890\n",
      "NO MAtch ! String does not start with the specified number.\n",
      "Enter a String (or 'quit' to exit): 998ggduh\n",
      "NO MAtch ! String does not start with the specified number.\n",
      "Enter a String (or 'quit' to exit): quit\n",
      "Enter a number (or 'quit' to exit): 8\n",
      "Enter a String (or 'quit' to exit): 87ghdjl\n",
      "MATCH ! String starts with the specified number.\n",
      "Enter a String (or 'quit' to exit): quit\n",
      "Enter a number (or 'quit' to exit): quit\n"
     ]
    }
   ],
   "source": [
    "import re\n",
    "\n",
    "def starts_with_number(number, string):\n",
    "    pattern = r'^' + re.escape(number)\n",
    "    return bool(re.match(pattern, string))\n",
    "while True:\n",
    "    input_number = input(\"Enter a number (or 'quit' to exit): \")\n",
    "    \n",
    "    if input_number.lower() == \"quit\":\n",
    "        break\n",
    "    \n",
    "    while True:\n",
    "        input_string = input(\"Enter a String (or 'quit' to exit): \")\n",
    "        if input_string.lower() == \"quit\":\n",
    "            break\n",
    "        \n",
    "        if starts_with_number(input_number, input_string):\n",
    "            print(\"MATCH ! String starts with the specified number.\")\n",
    "        else:\n",
    "            print(\"NO MAtch ! String does not start with the specified number.\")"
   ]
  },
  {
   "cell_type": "markdown",
   "id": "4dbd8eb8",
   "metadata": {},
   "source": [
    "# Question 13- Write a Python program to remove leading zeros from an IP address\n"
   ]
  },
  {
   "cell_type": "code",
   "execution_count": 1,
   "id": "2d7b0f63",
   "metadata": {},
   "outputs": [
    {
     "name": "stdout",
     "output_type": "stream",
     "text": [
      "Cleaned IP address: 192.168.1.1\n"
     ]
    }
   ],
   "source": [
    "def remove_leading_zeros(ip_address):\n",
    "    # Split the IP address into octets\n",
    "    octets = ip_address.split(\".\")\n",
    "\n",
    "    # Remove leading zeros from each octet\n",
    "    cleaned_octets = [str(int(octet)) for octet in octets]\n",
    "\n",
    "    # Join the cleaned octets with dots\n",
    "    cleaned_ip = \".\".join(cleaned_octets)\n",
    "\n",
    "    return cleaned_ip\n",
    "\n",
    "\n",
    "# Example usage\n",
    "ip_address = \"192.168.001.001\"\n",
    "cleaned_ip = remove_leading_zeros(ip_address)\n",
    "print(\"Cleaned IP address:\", cleaned_ip)\n"
   ]
  },
  {
   "cell_type": "markdown",
   "id": "855cb243",
   "metadata": {},
   "source": [
    "# Question 14- Write a regular expression in python to match a date string in the form of Month name followed by day number and year stored in a text file.\n",
    "\n",
    "Sample text : ' On August 15th 1947 that India was declared independent from British colonialism, and the reins of control were handed over to the leaders of the Country’.\n",
    "Output- August 15th 1947\n",
    "\n"
   ]
  },
  {
   "cell_type": "code",
   "execution_count": 46,
   "id": "0d6b9c32",
   "metadata": {},
   "outputs": [
    {
     "name": "stdout",
     "output_type": "stream",
     "text": [
      "Enter the filename for the text file: Sample\n",
      "Enter text (or 'exit' to quit): On August 15th 1947 that India was declared independent from British colonialism, and the reins of control were handed over to the leaders of the Country\n",
      "Enter text (or 'exit' to quit): exit\n",
      "Contents have been added to Sample.\n"
     ]
    }
   ],
   "source": [
    "def create_text_file(filename):\n",
    "    with open(filename, \"w\") as file:\n",
    "        while True:\n",
    "            line = input(\"Enter text (or 'exit' to quit): \")\n",
    "            if line.lower() == \"exit\":\n",
    "                break\n",
    "            file.write(line + \"\\n\")\n",
    "        print(f\"Contents have been added to {filename}.\")\n",
    "\n",
    "\n",
    "# Example usage\n",
    "filename = input(\"Enter the filename for the text file: \")\n",
    "create_text_file(filename)\n"
   ]
  },
  {
   "cell_type": "code",
   "execution_count": 47,
   "id": "e1fe6f35",
   "metadata": {},
   "outputs": [
    {
     "name": "stdout",
     "output_type": "stream",
     "text": [
      "Enter the filename of the text file: Sample\n",
      "['August 15th 1947']\n",
      "Date matches found in the file:\n",
      "August 15th 1947\n"
     ]
    }
   ],
   "source": [
    "\n",
    "import re\n",
    "\n",
    "def find_dates_in_file(filename):\n",
    "    with open(filename, \"r\") as file:\n",
    "        text = file.read()\n",
    "        pattern = r\"\\b([A-Za-z]+ \\d{1,2}(?:st|nd|rd|th) \\d{4})\\b\"\n",
    "        matches = re.findall(pattern, text)\n",
    "        print(matches)\n",
    "        return matches\n",
    "\n",
    "# Example usage\n",
    "filename = input(\"Enter the filename of the text file: \")\n",
    "dates = find_dates_in_file(filename)\n",
    "print(\"Date matches found in the file:\")\n",
    "for date in dates:\n",
    "    print(date)"
   ]
  },
  {
   "cell_type": "markdown",
   "id": "51250dfc",
   "metadata": {},
   "source": [
    "# Question 15- Write a Python program to search some literals strings in a string. Go to the editor\n",
    "Sample text : 'The quick brown fox jumps over the lazy dog.'\n",
    "Searched words : 'fox', 'dog', 'horse'\n"
   ]
  },
  {
   "cell_type": "code",
   "execution_count": 25,
   "id": "3f8b437a",
   "metadata": {},
   "outputs": [
    {
     "name": "stdout",
     "output_type": "stream",
     "text": [
      "Enter the text: The quick brown fox jumps over the lazy dog\n",
      "Enter the words to search (separated by spaces): fox dog horse\n",
      "Found words:\n",
      "fox\n",
      "dog\n"
     ]
    }
   ],
   "source": [
    "def search_words(text, words):\n",
    "    found_words = []\n",
    "    for word in words:\n",
    "        if word in text:\n",
    "            found_words.append(word)\n",
    "    return found_words\n",
    "\n",
    "# Prompt user for input\n",
    "sample_text = input(\"Enter the text: \")\n",
    "searched_words = input(\"Enter the words to search (separated by spaces): \").split()\n",
    "\n",
    "found_words = search_words(sample_text, searched_words)\n",
    "\n",
    "print(\"Found words:\")\n",
    "for word in found_words:\n",
    "    print(word)\n"
   ]
  },
  {
   "cell_type": "markdown",
   "id": "df6e2480",
   "metadata": {},
   "source": [
    "# Question 16- Write a Python program to search a literals string in a string and also find the location within the original string where the pattern occurs\n",
    "Sample text : 'The quick brown fox jumps over the lazy dog.'\n",
    "Searched words : 'fox'\n"
   ]
  },
  {
   "cell_type": "code",
   "execution_count": 28,
   "id": "13175a00",
   "metadata": {},
   "outputs": [
    {
     "name": "stdout",
     "output_type": "stream",
     "text": [
      "Enter the text: The quick brown fox jumps over the lazy dog\n",
      "Enter a word to search : fox\n",
      "Found positions:\n",
      "16\n"
     ]
    }
   ],
   "source": [
    "def search_pattern(text, pattern):\n",
    "    found_positions = []\n",
    "    start = 0\n",
    "\n",
    "    while True:\n",
    "        position = text.find(pattern, start)\n",
    "        if position == -1:\n",
    "            break\n",
    "        found_positions.append(position)\n",
    "        start = position + 1\n",
    "\n",
    "    return found_positions\n",
    "\n",
    "# Prompt user for input\n",
    "sample_text = input(\"Enter the text: \")\n",
    "searched_word = input(\"Enter a word to search : \")\n",
    "found_positions = search_pattern(sample_text, searched_word)\n",
    "\n",
    "print(\"Found positions:\")\n",
    "for position in found_positions:\n",
    "    print(position)\n"
   ]
  },
  {
   "cell_type": "markdown",
   "id": "162691f3",
   "metadata": {},
   "source": [
    "# Question 17- Write a Python program to find the substrings within a string.\n",
    "Sample text : 'Python exercises, PHP exercises, C# exercises'\n",
    "Pattern : 'exercises'.\n"
   ]
  },
  {
   "cell_type": "code",
   "execution_count": 29,
   "id": "a47cecab",
   "metadata": {},
   "outputs": [
    {
     "name": "stdout",
     "output_type": "stream",
     "text": [
      "Enter the text: 'Python exercises, PHP exercises, C# exercises'\n",
      "Enter a word to search : exercises\n",
      "Found substrings:\n",
      "exercises\n",
      "exercises\n",
      "exercises\n"
     ]
    }
   ],
   "source": [
    "import re\n",
    "\n",
    "def find_substrings(text, pattern):\n",
    "    substrings = []\n",
    "    regex = re.compile(pattern)\n",
    "\n",
    "    matches = regex.finditer(text)\n",
    "    for match in matches:\n",
    "        substrings.append(match.group())\n",
    "\n",
    "    return substrings\n",
    "\n",
    "\n",
    "# Prompt user for input\n",
    "sample_text = input(\"Enter the text: \")\n",
    "pattern = input(\"Enter a word to search : \")\n",
    "\n",
    "found_substrings = find_substrings(sample_text, pattern)\n",
    "\n",
    "print(\"Found substrings:\")\n",
    "for substring in found_substrings:\n",
    "    print(substring)\n"
   ]
  },
  {
   "cell_type": "markdown",
   "id": "ac79e088",
   "metadata": {},
   "source": [
    "# Question 18- Write a Python program to find the occurrence and position of the substrings within a string.\n"
   ]
  },
  {
   "cell_type": "code",
   "execution_count": 30,
   "id": "0914857d",
   "metadata": {},
   "outputs": [
    {
     "name": "stdout",
     "output_type": "stream",
     "text": [
      "Enter the text: Python exercises, PHP exercises, C# exercises\n",
      "Enter a word to search : exercises\n",
      "Found occurrences of the substring:\n",
      "Substring: exercises\n",
      "Start Position: 7\n",
      "End Position: 15\n",
      "\n",
      "Substring: exercises\n",
      "Start Position: 22\n",
      "End Position: 30\n",
      "\n",
      "Substring: exercises\n",
      "Start Position: 36\n",
      "End Position: 44\n",
      "\n"
     ]
    }
   ],
   "source": [
    "import re\n",
    "\n",
    "def find_substring_occurrences_positions(text, substring):\n",
    "    occurrences = []\n",
    "    pattern = re.compile(substring)\n",
    "    \n",
    "    for match in pattern.finditer(text):\n",
    "        occurrence = {\n",
    "            'substring': match.group(),\n",
    "            'start_position': match.start(),\n",
    "            'end_position': match.end() - 1,\n",
    "        }\n",
    "        occurrences.append(occurrence)\n",
    "    \n",
    "    return occurrences\n",
    "\n",
    "# Example usage\n",
    "\n",
    "# Prompt user for input\n",
    "sample_text = input(\"Enter the text: \")\n",
    "pattern = input(\"Enter a word to search : \")\n",
    "\n",
    "found_occurrences = find_substring_occurrences_positions(sample_text, substring)\n",
    "\n",
    "print(\"Found occurrences of the substring:\")\n",
    "for occurrence in found_occurrences:\n",
    "    print(f\"Substring: {occurrence['substring']}\")\n",
    "    print(f\"Start Position: {occurrence['start_position']}\")\n",
    "    print(f\"End Position: {occurrence['end_position']}\")\n",
    "    print()\n"
   ]
  },
  {
   "cell_type": "markdown",
   "id": "06e8f142",
   "metadata": {},
   "source": [
    "# Question 19- Write a Python program to convert a date of yyyy-mm-dd format to dd-mm-yyyy format.\n"
   ]
  },
  {
   "cell_type": "code",
   "execution_count": 32,
   "id": "28e91c2a",
   "metadata": {},
   "outputs": [
    {
     "name": "stdout",
     "output_type": "stream",
     "text": [
      "Enter a date (yyyy-mm-dd): 1998-07-29\n",
      "Original date: 1998-07-29\n",
      "Converted date: 29-07-1998\n"
     ]
    }
   ],
   "source": [
    "from datetime import datetime\n",
    "\n",
    "def convert_date_format(date):\n",
    "    # Convert the date string to a datetime object\n",
    "    datetime_obj = datetime.strptime(date, \"%Y-%m-%d\")\n",
    "    \n",
    "    # Format the datetime object to the desired format\n",
    "    new_date_format = datetime_obj.strftime(\"%d-%m-%Y\")\n",
    "    \n",
    "    return new_date_format\n",
    "\n",
    "# Prompt user for input\n",
    "date = input(\"Enter a date (yyyy-mm-dd): \")\n",
    "new_date_format = convert_date_format(date)\n",
    "\n",
    "print(\"Original date:\", date)\n",
    "print(\"Converted date:\", new_date_format)\n"
   ]
  },
  {
   "cell_type": "markdown",
   "id": "2b69b540",
   "metadata": {},
   "source": [
    "# Question 20- Write a Python program to find all words starting with 'a' or 'e' in a given string.\n"
   ]
  },
  {
   "cell_type": "code",
   "execution_count": 33,
   "id": "569a5c89",
   "metadata": {},
   "outputs": [
    {
     "name": "stdout",
     "output_type": "stream",
     "text": [
      "Enter the text: The apple is on the table. An elephant is in the room. Eat an apple every day.\n",
      "Words starting with 'a' or 'e':\n",
      "apple\n",
      "An\n",
      "elephant\n",
      "Eat\n",
      "an\n",
      "apple\n",
      "every\n"
     ]
    }
   ],
   "source": [
    "import re\n",
    "\n",
    "def find_words_starting_with_a_or_e(text):\n",
    "    pattern = r\"\\b[aAeE]\\w+\\b\"\n",
    "    words = re.findall(pattern, text)\n",
    "    return words\n",
    "\n",
    "# Prompt user for input\n",
    "sample_text = input(\"Enter the text: \")\n",
    "\n",
    "\n",
    "found_words = find_words_starting_with_a_or_e(sample_text)\n",
    "\n",
    "print(\"Words starting with 'a' or 'e':\")\n",
    "for word in found_words:\n",
    "    print(word)\n"
   ]
  },
  {
   "cell_type": "markdown",
   "id": "5be4fb1d",
   "metadata": {},
   "source": [
    "# Question 21- Write a Python program to separate and print the numbers and their position of a given string.\n",
    "\n"
   ]
  },
  {
   "cell_type": "code",
   "execution_count": 34,
   "id": "2a19d971",
   "metadata": {},
   "outputs": [
    {
     "name": "stdout",
     "output_type": "stream",
     "text": [
      "Enter the text: I have 10 apples, 5 oranges, and 3 bananas.\n",
      "Numbers and their positions:\n",
      "Number: 10 | Position: 7\n",
      "Number: 5 | Position: 18\n",
      "Number: 3 | Position: 33\n"
     ]
    }
   ],
   "source": [
    "import re\n",
    "\n",
    "def separate_numbers_with_positions(text):\n",
    "    pattern = r\"\\d+\"\n",
    "    numbers = re.findall(pattern, text)\n",
    "    positions = [match.start() for match in re.finditer(pattern, text)]\n",
    "    \n",
    "    return numbers, positions\n",
    "\n",
    "# Prompt user for input\n",
    "sample_text = input(\"Enter the text: \")\n",
    "\n",
    "\n",
    "numbers, positions = separate_numbers_with_positions(sample_text)\n",
    "\n",
    "print(\"Numbers and their positions:\")\n",
    "for number, position in zip(numbers, positions):\n",
    "    print(f\"Number: {number} | Position: {position}\")\n"
   ]
  },
  {
   "cell_type": "markdown",
   "id": "05d7df54",
   "metadata": {},
   "source": [
    "# Question 22- Write a regular expression in python program to extract maximum numeric value from a string\n",
    "\n"
   ]
  },
  {
   "cell_type": "code",
   "execution_count": 35,
   "id": "d9724fa1",
   "metadata": {},
   "outputs": [
    {
     "name": "stdout",
     "output_type": "stream",
     "text": [
      "Enter the text: The maximum value is 42, but there are other numbers like 15, 7, and 99\n",
      "Maximum numeric value: 99\n"
     ]
    }
   ],
   "source": [
    "import re\n",
    "\n",
    "def extract_max_numeric_value(text):\n",
    "    pattern = r\"\\d+\"\n",
    "    matches = re.findall(pattern, text)\n",
    "    \n",
    "    if matches:\n",
    "        max_value = max(map(int, matches))\n",
    "        return max_value\n",
    "    else:\n",
    "        return None\n",
    "\n",
    "# Prompt user for input\n",
    "sample_text = input(\"Enter the text: \")\n",
    "\n",
    "\n",
    "max_value = extract_max_numeric_value(sample_text)\n",
    "\n",
    "if max_value is not None:\n",
    "    print(\"Maximum numeric value:\", max_value)\n",
    "else:\n",
    "    print(\"No numeric values found.\")\n"
   ]
  },
  {
   "cell_type": "markdown",
   "id": "030f5e84",
   "metadata": {},
   "source": [
    "# Question 23- Write a Regex in Python to put spaces between words starting with capital letters\n"
   ]
  },
  {
   "cell_type": "code",
   "execution_count": 36,
   "id": "33f0eaba",
   "metadata": {},
   "outputs": [
    {
     "name": "stdout",
     "output_type": "stream",
     "text": [
      "Enter the text: TheQuickBrownFoxJumpsOverTheLazyDog\n",
      "Modified text: The Quick Brown Fox Jumps Over The Lazy Dog\n"
     ]
    }
   ],
   "source": [
    "import re\n",
    "\n",
    "def add_spaces_between_capital_words(text):\n",
    "    pattern = r\"([A-Z][a-z]+)\"\n",
    "    modified_text = re.sub(pattern, r\" \\1\", text)\n",
    "    return modified_text.strip()\n",
    "\n",
    "\n",
    "# Prompt user for input\n",
    "sample_text = input(\"Enter the text: \")\n",
    "\n",
    "\n",
    "\n",
    "modified_text = add_spaces_between_capital_words(sample_text)\n",
    "\n",
    "print(\"Modified text:\", modified_text)\n"
   ]
  },
  {
   "cell_type": "markdown",
   "id": "5e9f85d5",
   "metadata": {},
   "source": [
    "# Question 24- Python regex to find sequences of one upper case letter followed by lower case letters\n"
   ]
  },
  {
   "cell_type": "code",
   "execution_count": 37,
   "id": "6a117efc",
   "metadata": {},
   "outputs": [
    {
     "name": "stdout",
     "output_type": "stream",
     "text": [
      "Enter the text: The quick Brown Fox Jumps over the Lazy dog\n",
      "Found sequences:\n",
      "The\n",
      "Brown\n",
      "Fox\n",
      "Jumps\n",
      "Lazy\n"
     ]
    }
   ],
   "source": [
    "import re\n",
    "\n",
    "def find_sequences(text):\n",
    "    pattern = r\"[A-Z][a-z]+\"\n",
    "    sequences = re.findall(pattern, text)\n",
    "    return sequences\n",
    "\n",
    "# Example usage\n",
    "\n",
    "# Prompt user for input\n",
    "sample_text = input(\"Enter the text: \")\n",
    "\n",
    "\n",
    "\n",
    "found_sequences = find_sequences(sample_text)\n",
    "\n",
    "print(\"Found sequences:\")\n",
    "for sequence in found_sequences:\n",
    "    print(sequence)\n"
   ]
  },
  {
   "cell_type": "markdown",
   "id": "49b14c58",
   "metadata": {},
   "source": [
    "# Question 25- Write a Python program to remove duplicate words from Sentence using Regular Expression\n"
   ]
  },
  {
   "cell_type": "code",
   "execution_count": 38,
   "id": "ed1d0274",
   "metadata": {},
   "outputs": [
    {
     "name": "stdout",
     "output_type": "stream",
     "text": [
      "Enter the text: This is is a sample sentence with duplicate words words\n",
      "Modified sentence: This is a sample sentence with duplicate words\n"
     ]
    }
   ],
   "source": [
    "import re\n",
    "\n",
    "def remove_duplicate_words(sentence):\n",
    "    pattern = r\"\\b(\\w+)\\b\\s+(?=.*\\b\\1\\b)\"\n",
    "    modified_sentence = re.sub(pattern, \"\", sentence)\n",
    "    return modified_sentence.strip()\n",
    "\n",
    "# Prompt user for input\n",
    "sample_sentence = input(\"Enter the text: \")\n",
    "\n",
    "modified_sentence = remove_duplicate_words(sample_sentence)\n",
    "\n",
    "print(\"Modified sentence:\", modified_sentence)\n",
    "\n"
   ]
  },
  {
   "cell_type": "markdown",
   "id": "72f2ee56",
   "metadata": {},
   "source": [
    "# Question 26-  Write a python program using RegEx to accept string ending with alphanumeric character.\n"
   ]
  },
  {
   "cell_type": "code",
   "execution_count": 40,
   "id": "7ec6887a",
   "metadata": {},
   "outputs": [
    {
     "name": "stdout",
     "output_type": "stream",
     "text": [
      "Enter the text: Hello World @ fliprobo !29\n",
      "The string ends with an alphanumeric character.\n"
     ]
    }
   ],
   "source": [
    "import re\n",
    "\n",
    "def check_string_ending_alphanumeric(string):\n",
    "    pattern = r\"[A-Za-z0-9*&@]$\"\n",
    "    match = re.search(pattern, string)\n",
    "    if match:\n",
    "        return True\n",
    "    else:\n",
    "        return False\n",
    "\n",
    "sample_string = input(\"Enter the text: \")\n",
    "\n",
    "result = check_string_ending_alphanumeric(sample_string)\n",
    "\n",
    "if result:\n",
    "    print(\"The string ends with an alphanumeric character.\")\n",
    "else:\n",
    "    print(\"The string does not end with an alphanumeric character.\")\n"
   ]
  },
  {
   "cell_type": "markdown",
   "id": "b500a84a",
   "metadata": {},
   "source": [
    "# Question 27-Write a python program using RegEx to extract the hashtags.\n",
    "Sample Text: text = \"\"\"RT @kapil_kausik: #Doltiwal I mean #xyzabc is \"hurt\" by #Demonetization as the same has rendered USELESS <ed><U+00A0><U+00BD><ed><U+00B1><U+0089> \"acquired funds\" No wo\"\"\"\n",
    "Output: ['#Doltiwal', '#xyzabc', '#Demonetization']\n"
   ]
  },
  {
   "cell_type": "code",
   "execution_count": 41,
   "id": "aa26058c",
   "metadata": {},
   "outputs": [
    {
     "name": "stdout",
     "output_type": "stream",
     "text": [
      "Extracted hashtags:\n",
      "#Doltiwal\n",
      "#xyzabc\n",
      "#Demonetization\n"
     ]
    }
   ],
   "source": [
    "import re\n",
    "\n",
    "def extract_hashtags(text):\n",
    "    pattern = r\"#\\w+\"\n",
    "    hashtags = re.findall(pattern, text)\n",
    "    return hashtags\n",
    "\n",
    "# Example usage\n",
    "sample_text = 'RT @kapil_kausik: #Doltiwal I mean #xyzabc is \"hurt\" by #Demonetization as the same has rendered USELESS <ed><U+00A0><U+00BD><ed><U+00B1><U+0089> \"acquired funds\" No wo'\n",
    "\n",
    "hashtags = extract_hashtags(sample_text)\n",
    "\n",
    "print(\"Extracted hashtags:\")\n",
    "for hashtag in hashtags:\n",
    "    print(hashtag)\n"
   ]
  },
  {
   "cell_type": "markdown",
   "id": "01aa8e97",
   "metadata": {},
   "source": [
    "# Question 28- Write a python program using RegEx to remove <U+..> like symbols\n",
    "Check the below sample text, there are strange symbols something of the sort <U+..> all over the place. You need to come up with a general Regex expression that will cover all such symbols.\n",
    "Sample Text: \"@Jags123456 Bharat band on 28??<ed><U+00A0><U+00BD><ed><U+00B8><U+0082>Those who  are protesting #demonetization  are all different party leaders\"\n",
    "Output: @Jags123456 Bharat band on 28??<ed><ed>Those who  are protesting #demonetization  are all different party leaders\n"
   ]
  },
  {
   "cell_type": "code",
   "execution_count": 42,
   "id": "f836590b",
   "metadata": {},
   "outputs": [
    {
     "name": "stdout",
     "output_type": "stream",
     "text": [
      "Modified text: @Jags123456 Bharat band on 28??<ed><ed>Those who are protesting #demonetization are all different party leaders\n"
     ]
    }
   ],
   "source": [
    "import re\n",
    "\n",
    "def remove_u_symbols(text):\n",
    "    pattern = r\"<U\\+[A-Za-z0-9]+>\"\n",
    "    modified_text = re.sub(pattern, \"\", text)\n",
    "    return modified_text\n",
    "\n",
    "# Example usage\n",
    "sample_text = \"@Jags123456 Bharat band on 28??<ed><U+00A0><U+00BD><ed><U+00B8><U+0082>Those who are protesting #demonetization are all different party leaders\"\n",
    "\n",
    "modified_text = remove_u_symbols(sample_text)\n",
    "\n",
    "print(\"Modified text:\", modified_text)\n"
   ]
  },
  {
   "cell_type": "markdown",
   "id": "a9529b77",
   "metadata": {},
   "source": [
    "# Question 29- Write a python program to extract dates from the text stored in the text file.\n",
    "Sample Text: Ron was born on 12-09-1992 and he was admitted to school 15-12-1999.\n",
    "Store this sample text in the file and then extract dates.\n"
   ]
  },
  {
   "cell_type": "code",
   "execution_count": 43,
   "id": "d0cea044",
   "metadata": {},
   "outputs": [
    {
     "name": "stdout",
     "output_type": "stream",
     "text": [
      "Enter the filename for the text file: Sample29\n",
      "Enter text (or 'exit' to quit): Ron was born on 12-09-1992 and he was admitted to school 15-12-1999\n",
      "Enter text (or 'exit' to quit): exit\n",
      "Contents have been added to Sample29.\n"
     ]
    }
   ],
   "source": [
    "def create_text_file(filename):\n",
    "    with open(filename, \"w\") as file:\n",
    "        while True:\n",
    "            line = input(\"Enter text (or 'exit' to quit): \")\n",
    "            if line.lower() == \"exit\":\n",
    "                break\n",
    "            file.write(line + \"\\n\")\n",
    "        print(f\"Contents have been added to {filename}.\")\n",
    "\n",
    "\n",
    "# Example usage\n",
    "filename = input(\"Enter the filename for the text file: \")\n",
    "create_text_file(filename)"
   ]
  },
  {
   "cell_type": "code",
   "execution_count": 44,
   "id": "f0cd8e6c",
   "metadata": {},
   "outputs": [
    {
     "name": "stdout",
     "output_type": "stream",
     "text": [
      "Extracted dates:\n",
      "12-09-1992\n",
      "15-12-1999\n"
     ]
    }
   ],
   "source": [
    "import re\n",
    "\n",
    "def extract_dates_from_file(file_path):\n",
    "    dates = []\n",
    "    pattern = r\"\\d{2}-\\d{2}-\\d{4}\"\n",
    "    \n",
    "    with open(file_path, 'r') as file:\n",
    "        text = file.read()\n",
    "        dates = re.findall(pattern, text)\n",
    "    \n",
    "    return dates\n",
    "\n",
    "# Example usage\n",
    "file_path = \"Sample29\"\n",
    "dates = extract_dates_from_file(file_path)\n",
    "\n",
    "print(\"Extracted dates:\")\n",
    "for date in dates:\n",
    "    print(date)\n"
   ]
  },
  {
   "cell_type": "markdown",
   "id": "51cc1e9b",
   "metadata": {},
   "source": [
    "# Question 30- Write a Python program to replace all occurrences of a space, comma, or dot with a colon.\n",
    "Sample Text- 'Python Exercises, PHP exercises.'\n",
    "Output: Python:Exercises::PHP:exercises:\n"
   ]
  },
  {
   "cell_type": "code",
   "execution_count": 45,
   "id": "1e8a1746",
   "metadata": {},
   "outputs": [
    {
     "name": "stdout",
     "output_type": "stream",
     "text": [
      "Modified text: Python:Exercises::PHP:exercises:\n"
     ]
    }
   ],
   "source": [
    "def replace_spaces_commas_dots_with_colons(text):\n",
    "    replacements = [' ', ',', '.']\n",
    "    for char in replacements:\n",
    "        text = text.replace(char, ':')\n",
    "    return text\n",
    "\n",
    "# Example usage\n",
    "sample_text = 'Python Exercises, PHP exercises.'\n",
    "modified_text = replace_spaces_commas_dots_with_colons(sample_text)\n",
    "\n",
    "print(\"Modified text:\", modified_text)\n"
   ]
  },
  {
   "cell_type": "code",
   "execution_count": null,
   "id": "1fd3d658",
   "metadata": {},
   "outputs": [],
   "source": []
  }
 ],
 "metadata": {
  "kernelspec": {
   "display_name": "Python 3 (ipykernel)",
   "language": "python",
   "name": "python3"
  },
  "language_info": {
   "codemirror_mode": {
    "name": "ipython",
    "version": 3
   },
   "file_extension": ".py",
   "mimetype": "text/x-python",
   "name": "python",
   "nbconvert_exporter": "python",
   "pygments_lexer": "ipython3",
   "version": "3.9.7"
  }
 },
 "nbformat": 4,
 "nbformat_minor": 5
}
