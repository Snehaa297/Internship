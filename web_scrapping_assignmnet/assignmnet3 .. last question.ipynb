{
 "cells": [
  {
   "cell_type": "markdown",
   "id": "4e5196cf",
   "metadata": {},
   "source": [
    "Write a python program to scrape a data for all available Hostels from https://www.hostelworld.com/ in\n",
    "“London” location. You have to scrape hostel name, distance from city centre, ratings, total reviews, overall reviews, privates from price, dorms from price, facilities and property description"
   ]
  },
  {
   "cell_type": "code",
   "execution_count": 1,
   "id": "248c4c15",
   "metadata": {},
   "outputs": [],
   "source": [
    "from selenium import webdriver\n",
    "from selenium.webdriver.chrome.service import Service\n",
    "from selenium.webdriver.common.by import By\n",
    "from selenium.webdriver.chrome.options import Options\n",
    "import pandas as pd\n",
    "import time\n",
    "from selenium.webdriver.common.by import By\n",
    "from selenium.webdriver.support import expected_conditions as EC\n",
    "\n",
    "from selenium.webdriver.support.ui import WebDriverWait\n",
    "from selenium.common.exceptions import NoSuchElementException\n",
    "\n",
    "from selenium.common.exceptions import WebDriverException\n"
   ]
  },
  {
   "cell_type": "code",
   "execution_count": 2,
   "id": "994b93ed",
   "metadata": {},
   "outputs": [],
   "source": [
    "# Setup the chrome browser in headless mode\n",
    "driver = webdriver.Chrome()"
   ]
  },
  {
   "cell_type": "code",
   "execution_count": 3,
   "id": "6ad1eb3f",
   "metadata": {},
   "outputs": [],
   "source": [
    "driver.get(\"https://www.hostelworld.com/\")"
   ]
  },
  {
   "cell_type": "code",
   "execution_count": 4,
   "id": "a85fbcd1",
   "metadata": {},
   "outputs": [],
   "source": [
    "search_input =driver.find_element(By.XPATH,'//*[@id=\"__layout\"]/div/div[2]/div[2]/div[2]/div/div/div/div[1]/div/div/div[2]/input')\n",
    "\n",
    "search_input.send_keys(\"London\")"
   ]
  },
  {
   "cell_type": "code",
   "execution_count": 5,
   "id": "5a487cdb",
   "metadata": {},
   "outputs": [],
   "source": [
    "driver.execute_script(\"arguments[0].click();\",driver.find_element(By.XPATH,'//*[@id=\"3\"]/button/div[2]'))\n"
   ]
  },
  {
   "cell_type": "code",
   "execution_count": 6,
   "id": "0efc6bc4",
   "metadata": {},
   "outputs": [],
   "source": [
    "driver.execute_script(\"arguments[0].click();\",driver.find_element(By.XPATH,'//*[@id=\"__layout\"]/div/div[2]/div[2]/div[2]/div/div/div/div[5]/button'))\n"
   ]
  },
  {
   "cell_type": "code",
   "execution_count": 7,
   "id": "f4535f60",
   "metadata": {},
   "outputs": [],
   "source": [
    "table = driver.find_element(By.XPATH,'//*[@id=\"__layout\"]/div/div[2]/div[2]/div[2]/div[1]/div/div/div/div/div[4]')\n"
   ]
  },
  {
   "cell_type": "code",
   "execution_count": 8,
   "id": "1369a9b4",
   "metadata": {},
   "outputs": [
    {
     "data": {
      "text/plain": [
       "31"
      ]
     },
     "execution_count": 8,
     "metadata": {},
     "output_type": "execute_result"
    }
   ],
   "source": [
    "cards = table.find_elements(By.XPATH,'//div[\"data-v-57a595a4\"]//div[@class=\"property-card\"]')\n",
    "\n",
    "len(cards)"
   ]
  },
  {
   "cell_type": "code",
   "execution_count": 9,
   "id": "2a490547",
   "metadata": {},
   "outputs": [
    {
     "name": "stdout",
     "output_type": "stream",
     "text": [
      "[\"St Christopher's Village\\n7.9\\nVery Good\\nFrom\\n₹2,491\"]\n",
      "['Selling out fast!\\nKensal Green Backpackers\\n5.3\\n(3712)\\nHostel\\n- 8.2km from city centre\\nFollows Covid-19 sanitation guidance\\nPrivates From\\n₹10,119\\nDorms From\\n₹2,816']\n",
      "['No.8 Seven Sisters\\n5.6\\n(4015)\\nHostel\\n- 9km from city centre\\nFollows Covid-19 sanitation guidance\\nNo Privates Available\\nDorms From\\n₹1,559']\n",
      "['London Waterloo Hostel\\n5.5\\n(2534)\\nHostel\\n- 0.7km from city centre\\nFollows Covid-19 sanitation guidance\\nNo Privates Available\\nDorms From\\n₹4,882']\n",
      "['Selling out fast!\\nThe London Home Hostel\\n4.1\\n(265)\\nHostel\\n- 8.2km from city centre\\nPrivates From\\n₹5,737\\nDorms From\\n₹2,990']\n",
      "[\"Wombat's City Hostel London\\n9.0\\nSuperb\\n(14961)\\nHostel\\n- 3.6km from city centre\\nFollows Covid-19 sanitation guidance\\n-20%\\nPrivates From\\n₹25,263\\n₹20,210\\n-20%\\nDorms From\\n₹6,082\\n₹4,866\"]\n",
      "[\"St Christopher's Village\\n7.9\\nVery Good\\n(12185)\\nHostel\\n- 1.8km from city centre\\nFollows Covid-19 sanitation guidance\\nNo Privates Available\\n-10%\\nDorms From\\n₹2,768\\n₹2,491\"]\n",
      "['Selling out fast!\\nSafestay London Elephant & Castle\\n7.6\\nVery Good\\n(4978)\\nHostel\\n- 1.7km from city centre\\nFollows Covid-19 sanitation guidance\\nPrivates From\\n₹17,758\\nDorms From\\n₹2,536']\n",
      "['Generator London\\n7.4\\nVery Good\\n(7527)\\nHostel\\n- 3km from city centre\\nNo Privates Available\\nDorms From\\n₹2,870']\n",
      "['Safestay London Kensington Holland Park\\n6.9\\nGood\\n(1545)\\nHostel\\n- 5.8km from city centre\\nNo Privates Available\\nDorms From\\n₹1,796']\n",
      "['Selling out fast!\\nClink261\\n8.4\\nFabulous\\n(289)\\nHostel\\n- 3.2km from city centre\\nFollows Covid-19 sanitation guidance\\nNo Privates Available\\nDorms From\\n₹4,188']\n",
      "[\"St Christopher's Hammersmith\\n7.7\\nVery Good\\n(4252)\\nHostel\\n- 7.5km from city centre\\nFollows Covid-19 sanitation guidance\\nNo Privates Available\\n-10%\\nDorms From\\n₹2,304\\n₹2,074\"]\n",
      "[\"St Christopher's Camden\\n6.9\\nGood\\n(4042)\\nHostel\\n- 4.3km from city centre\\nFollows Covid-19 sanitation guidance\\nNo Privates Available\\n-10%\\nDorms From\\n₹2,304\\n₹2,074\"]\n",
      "[\"Selling out fast!\\nSt Christopher's Greenwich\\n7.8\\nVery Good\\n(3361)\\nHostel\\n- 7.6km from city centre\\nFollows Covid-19 sanitation guidance\\nNo Privates Available\\n-10%\\nDorms From\\n₹2,188\\n₹1,969\"]\n",
      "['Selling out fast!\\nBell House Hostel\\n7.8\\nVery Good\\n(64)\\nHostel\\n- 4.2km from city centre\\nPrivates From\\n₹8,731\\nDorms From\\n₹2,754']\n",
      "['Saint James Backpackers\\n7.7\\nVery Good\\n(1893)\\nHostel\\n- 5.5km from city centre\\nFollows Covid-19 sanitation guidance\\nPrivates From\\n₹10,374\\nDorms From\\n₹3,025']\n",
      "['PubLove @ The Steam Engine, Waterloo\\n8.2\\nFabulous\\n(397)\\nHostel\\n- 0.5km from city centre\\nNo Privates Available\\nDorms From\\n₹4,694']\n",
      "[\"St Christopher's Shepherds Bush\\n7.6\\nVery Good\\n(774)\\nHostel\\n- 7km from city centre\\nFollows Covid-19 sanitation guidance\\nNo Privates Available\\n-10%\\nDorms From\\n₹2,265\\n₹2,039\"]\n",
      "['Selling out fast!\\nBook a Bed Hostels\\n7.5\\nVery Good\\n(1257)\\nHostel\\n- 6.9km from city centre\\nNo Privates Available\\n-10%\\nDorms From\\n₹2,449\\n₹2,204']\n",
      "['Selling out fast!\\nSelina Camden\\n9.0\\nSuperb\\n(52)\\nHostel\\n- 5.5km from city centre\\nPrivates From\\n₹24,909\\nDorms From\\n₹7,594']\n",
      "['PubLove @ The White Ferry, Victoria\\n7.6\\nVery Good\\n(340)\\nHostel\\n- 2.4km from city centre\\nNo Privates Available\\nDorms From\\n₹4,694']\n",
      "['Hostelle London\\n8.7\\nFabulous\\n(11)\\nHostel\\n- 5.1km from city centre\\nFollows Covid-19 sanitation guidance\\nNo Privates Available\\nDorms From\\n₹6,467']\n",
      "['PubLove @ The Rose & Crown\\n7.6\\nVery Good\\n(193)\\nHostel\\n- 1.6km from city centre\\nNo Privates Available\\nDorms From\\n₹5,216']\n",
      "['PubLove @ The Exmouth Arms, Euston\\n7.0\\nVery Good\\n(1083)\\nHostel\\n- 3.4km from city centre\\nNo Privates Available\\nDorms From\\n₹4,172']\n",
      "['PubLove @ The Green Man, Paddington\\n5.4\\n(447)\\nHostel\\n- 4.3km from city centre\\nNo Privates Available\\nDorms From\\n₹3,129']\n",
      "[\"Selling out fast!\\nLitsa's Central Studios\\nHostel\\n- 4.3km from city centre\\nPrivates From\\n₹17,524\\nNo Dorms Available\"]\n",
      "['Selling out fast!\\nNX London Hostel\\n8.3\\nFabulous\\n(1913)\\nHostel\\n- 6.1km from city centre\\nNo Privates Available\\n-19%\\nDorms From\\n₹2,662\\n₹2,149']\n",
      "['Selling out fast!\\nUrbany Hostel London\\n9.4\\nSuperb\\n(802)\\nHostel\\n- 5.4km from city centre\\nFollows Covid-19 sanitation guidance\\nPrivates From\\n₹18,183\\nNo Dorms Available']\n",
      "['Selling out fast!\\nQueen Elizabeth Chelsea\\n7.4\\nVery Good\\n(3495)\\nHostel\\n- 5.7km from city centre\\nNo Privates Available\\nDorms From\\n₹2,276']\n",
      "['Prime Backpackers Angel\\n8.1\\nFabulous\\n(759)\\nHostel\\n- 3.6km from city centre\\nFollows Covid-19 sanitation guidance\\nNo Privates Available\\nDorms From\\n₹3,386']\n",
      "['Selling out fast!\\nThe Backpackshack\\n9.0\\nSuperb\\n(764)\\nHostel\\n- 10.9km from city centre\\nPrivates From\\n₹7,302\\nNo Dorms Available']\n"
     ]
    }
   ],
   "source": [
    "for i in range(len(cards)):\n",
    "    print(cards[i].text.split('/n'))"
   ]
  },
  {
   "cell_type": "code",
   "execution_count": 13,
   "id": "89523530",
   "metadata": {},
   "outputs": [],
   "source": [
    "hostel_names=[]\n",
    "distances=[]\n",
    "ratings=[]\n",
    "t_reviews=[]\n",
    "o_reviews=[]\n",
    "private_prices=[]\n",
    "dorms_prices=[]\n",
    "facilities=[]\n",
    "property_descs=[]\n",
    "\n",
    "for card in cards:\n",
    "    hostel_name = card.find_element(By.XPATH,'.//div[@class=\"property-name\"]').text\n",
    "    \n",
    "    url = card.find_element(By.XPATH,'.//a[@class=\"nuxt-link\"]').get_attribute(\"href\")\n",
    "    try:\n",
    "        distance = card.find_element(By.XPATH,'.//div[@class=\"property-distance\"]').text.split('from')[0]\n",
    "    except:\n",
    "        distance=\"-\"\n",
    "    try:\n",
    "        t_r = card.find_element(By.XPATH,'.//div[@class=\"review\"]').text\n",
    "    except:\n",
    "        t_r =\"-\"\n",
    "    try:\n",
    "        rating = card.find_element(By.XPATH,'.//div[@class=\"score\"]').text\n",
    "        \n",
    "    except:\n",
    "        rating =\"-\"\n",
    "        \n",
    "    try:\n",
    "        o_r = card.find_element(By.XPATH,'.//div[@class=\"keyword\"]').text\n",
    "        \n",
    "    except:\n",
    "        o_r=\"_\"\n",
    "    prices = card.find_elements(By.XPATH,'.//div[@class=\"property-accommodation-price\"]')\n",
    "    try: #print(len(prices))\n",
    "        if len(prices)>=2:\n",
    "            p_prices=prices.text[0]\n",
    "            d_prices=prices.text[1]\n",
    "            print(p_prices)\n",
    "            print(d_prices)\n",
    "    except:\n",
    "        pass"
   ]
  },
  {
   "cell_type": "code",
   "execution_count": 22,
   "id": "10f27cd0",
   "metadata": {},
   "outputs": [],
   "source": [
    "prices = card.find_elements(By.XPATH,'.//div[@class=\"property-accommodation-price\"]')"
   ]
  },
  {
   "cell_type": "code",
   "execution_count": 24,
   "id": "4f94ba68",
   "metadata": {},
   "outputs": [
    {
     "name": "stdout",
     "output_type": "stream",
     "text": [
      "Privates From\n",
      "₹7,302\n",
      "No Dorms Available\n"
     ]
    }
   ],
   "source": [
    "for i in range(len(prices)):\n",
    "    print(prices[i].text)"
   ]
  },
  {
   "cell_type": "code",
   "execution_count": null,
   "id": "41cc5b66",
   "metadata": {},
   "outputs": [],
   "source": []
  },
  {
   "cell_type": "code",
   "execution_count": null,
   "id": "a0f8e347",
   "metadata": {},
   "outputs": [],
   "source": []
  },
  {
   "cell_type": "code",
   "execution_count": null,
   "id": "9f78be48",
   "metadata": {},
   "outputs": [],
   "source": []
  },
  {
   "cell_type": "code",
   "execution_count": null,
   "id": "7df4302f",
   "metadata": {},
   "outputs": [],
   "source": []
  },
  {
   "cell_type": "code",
   "execution_count": null,
   "id": "7e05baff",
   "metadata": {},
   "outputs": [],
   "source": []
  },
  {
   "cell_type": "code",
   "execution_count": null,
   "id": "dbf4c600",
   "metadata": {},
   "outputs": [],
   "source": []
  },
  {
   "cell_type": "code",
   "execution_count": null,
   "id": "70f56ed8",
   "metadata": {},
   "outputs": [],
   "source": []
  },
  {
   "cell_type": "code",
   "execution_count": null,
   "id": "5ef9d071",
   "metadata": {},
   "outputs": [],
   "source": []
  },
  {
   "cell_type": "code",
   "execution_count": null,
   "id": "0ea38dd7",
   "metadata": {},
   "outputs": [],
   "source": []
  },
  {
   "cell_type": "code",
   "execution_count": null,
   "id": "3e9d90ed",
   "metadata": {},
   "outputs": [],
   "source": []
  },
  {
   "cell_type": "code",
   "execution_count": null,
   "id": "40cf35fd",
   "metadata": {},
   "outputs": [],
   "source": []
  },
  {
   "cell_type": "code",
   "execution_count": null,
   "id": "a1d14590",
   "metadata": {},
   "outputs": [],
   "source": []
  },
  {
   "cell_type": "code",
   "execution_count": null,
   "id": "dac34d56",
   "metadata": {},
   "outputs": [],
   "source": []
  }
 ],
 "metadata": {
  "kernelspec": {
   "display_name": "Python 3 (ipykernel)",
   "language": "python",
   "name": "python3"
  },
  "language_info": {
   "codemirror_mode": {
    "name": "ipython",
    "version": 3
   },
   "file_extension": ".py",
   "mimetype": "text/x-python",
   "name": "python",
   "nbconvert_exporter": "python",
   "pygments_lexer": "ipython3",
   "version": "3.9.7"
  }
 },
 "nbformat": 4,
 "nbformat_minor": 5
}
