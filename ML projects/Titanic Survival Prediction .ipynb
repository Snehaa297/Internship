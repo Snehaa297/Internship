{
 "cells": [
  {
   "cell_type": "markdown",
   "id": "1d15cd6e",
   "metadata": {},
   "source": [
    "## Titanic survived Project\n",
    "Project Description\n",
    "The Titanic Problem is based on the sinking of the ‘Unsinkable’ ship Titanic in early 1912. It gives you information about multiple people like their ages, sexes, sibling counts, embarkment points, and whether or not they survived the disaster. \n",
    "Based on these features, you have to predict if an arbitrary passenger on Titanic would survive the sinking or not.\n",
    "\n",
    "\n",
    "\n",
    "Data Dictionary\n",
    "\n",
    "Survived: 0 = No, 1 = Yes\n",
    "pclass: Ticket class 1 = 1st, 2 = 2nd, 3 = 3rd\n",
    "sibsp: # of siblings / spouses aboard the Titanic\n",
    "parch: # of parents / children aboard the Titanic\n",
    "ticket: Ticket number\n",
    "cabin: Cabin number\n",
    "embarked: Port of Embarkation C = Cherbourg, Q = Queenstown, S = Southampton\n"
   ]
  },
  {
   "cell_type": "markdown",
   "id": "14d59c59",
   "metadata": {},
   "source": [
    "## Step 1: Importing Basic Libraries"
   ]
  },
  {
   "cell_type": "code",
   "execution_count": 1,
   "id": "56318ad9",
   "metadata": {},
   "outputs": [],
   "source": [
    "import numpy as np \n",
    "import pandas as pd\n",
    "import matplotlib.pyplot as plt\n",
    "import seaborn as sns"
   ]
  },
  {
   "cell_type": "markdown",
   "id": "b345a0c6",
   "metadata": {},
   "source": [
    "## Step 2 : Loading Data :  Importing the dataset into our data analysis environment"
   ]
  },
  {
   "cell_type": "code",
   "execution_count": 2,
   "id": "2b1345b0",
   "metadata": {},
   "outputs": [
    {
     "data": {
      "text/html": [
       "<div>\n",
       "<style scoped>\n",
       "    .dataframe tbody tr th:only-of-type {\n",
       "        vertical-align: middle;\n",
       "    }\n",
       "\n",
       "    .dataframe tbody tr th {\n",
       "        vertical-align: top;\n",
       "    }\n",
       "\n",
       "    .dataframe thead th {\n",
       "        text-align: right;\n",
       "    }\n",
       "</style>\n",
       "<table border=\"1\" class=\"dataframe\">\n",
       "  <thead>\n",
       "    <tr style=\"text-align: right;\">\n",
       "      <th></th>\n",
       "      <th>PassengerId</th>\n",
       "      <th>Survived</th>\n",
       "      <th>Pclass</th>\n",
       "      <th>Name</th>\n",
       "      <th>Sex</th>\n",
       "      <th>Age</th>\n",
       "      <th>SibSp</th>\n",
       "      <th>Parch</th>\n",
       "      <th>Ticket</th>\n",
       "      <th>Fare</th>\n",
       "      <th>Cabin</th>\n",
       "      <th>Embarked</th>\n",
       "    </tr>\n",
       "  </thead>\n",
       "  <tbody>\n",
       "    <tr>\n",
       "      <th>0</th>\n",
       "      <td>1</td>\n",
       "      <td>0</td>\n",
       "      <td>3</td>\n",
       "      <td>Braund, Mr. Owen Harris</td>\n",
       "      <td>male</td>\n",
       "      <td>22.0</td>\n",
       "      <td>1</td>\n",
       "      <td>0</td>\n",
       "      <td>A/5 21171</td>\n",
       "      <td>7.2500</td>\n",
       "      <td>NaN</td>\n",
       "      <td>S</td>\n",
       "    </tr>\n",
       "    <tr>\n",
       "      <th>1</th>\n",
       "      <td>2</td>\n",
       "      <td>1</td>\n",
       "      <td>1</td>\n",
       "      <td>Cumings, Mrs. John Bradley (Florence Briggs Th...</td>\n",
       "      <td>female</td>\n",
       "      <td>38.0</td>\n",
       "      <td>1</td>\n",
       "      <td>0</td>\n",
       "      <td>PC 17599</td>\n",
       "      <td>71.2833</td>\n",
       "      <td>C85</td>\n",
       "      <td>C</td>\n",
       "    </tr>\n",
       "    <tr>\n",
       "      <th>2</th>\n",
       "      <td>3</td>\n",
       "      <td>1</td>\n",
       "      <td>3</td>\n",
       "      <td>Heikkinen, Miss. Laina</td>\n",
       "      <td>female</td>\n",
       "      <td>26.0</td>\n",
       "      <td>0</td>\n",
       "      <td>0</td>\n",
       "      <td>STON/O2. 3101282</td>\n",
       "      <td>7.9250</td>\n",
       "      <td>NaN</td>\n",
       "      <td>S</td>\n",
       "    </tr>\n",
       "    <tr>\n",
       "      <th>3</th>\n",
       "      <td>4</td>\n",
       "      <td>1</td>\n",
       "      <td>1</td>\n",
       "      <td>Futrelle, Mrs. Jacques Heath (Lily May Peel)</td>\n",
       "      <td>female</td>\n",
       "      <td>35.0</td>\n",
       "      <td>1</td>\n",
       "      <td>0</td>\n",
       "      <td>113803</td>\n",
       "      <td>53.1000</td>\n",
       "      <td>C123</td>\n",
       "      <td>S</td>\n",
       "    </tr>\n",
       "    <tr>\n",
       "      <th>4</th>\n",
       "      <td>5</td>\n",
       "      <td>0</td>\n",
       "      <td>3</td>\n",
       "      <td>Allen, Mr. William Henry</td>\n",
       "      <td>male</td>\n",
       "      <td>35.0</td>\n",
       "      <td>0</td>\n",
       "      <td>0</td>\n",
       "      <td>373450</td>\n",
       "      <td>8.0500</td>\n",
       "      <td>NaN</td>\n",
       "      <td>S</td>\n",
       "    </tr>\n",
       "    <tr>\n",
       "      <th>...</th>\n",
       "      <td>...</td>\n",
       "      <td>...</td>\n",
       "      <td>...</td>\n",
       "      <td>...</td>\n",
       "      <td>...</td>\n",
       "      <td>...</td>\n",
       "      <td>...</td>\n",
       "      <td>...</td>\n",
       "      <td>...</td>\n",
       "      <td>...</td>\n",
       "      <td>...</td>\n",
       "      <td>...</td>\n",
       "    </tr>\n",
       "    <tr>\n",
       "      <th>886</th>\n",
       "      <td>887</td>\n",
       "      <td>0</td>\n",
       "      <td>2</td>\n",
       "      <td>Montvila, Rev. Juozas</td>\n",
       "      <td>male</td>\n",
       "      <td>27.0</td>\n",
       "      <td>0</td>\n",
       "      <td>0</td>\n",
       "      <td>211536</td>\n",
       "      <td>13.0000</td>\n",
       "      <td>NaN</td>\n",
       "      <td>S</td>\n",
       "    </tr>\n",
       "    <tr>\n",
       "      <th>887</th>\n",
       "      <td>888</td>\n",
       "      <td>1</td>\n",
       "      <td>1</td>\n",
       "      <td>Graham, Miss. Margaret Edith</td>\n",
       "      <td>female</td>\n",
       "      <td>19.0</td>\n",
       "      <td>0</td>\n",
       "      <td>0</td>\n",
       "      <td>112053</td>\n",
       "      <td>30.0000</td>\n",
       "      <td>B42</td>\n",
       "      <td>S</td>\n",
       "    </tr>\n",
       "    <tr>\n",
       "      <th>888</th>\n",
       "      <td>889</td>\n",
       "      <td>0</td>\n",
       "      <td>3</td>\n",
       "      <td>Johnston, Miss. Catherine Helen \"Carrie\"</td>\n",
       "      <td>female</td>\n",
       "      <td>NaN</td>\n",
       "      <td>1</td>\n",
       "      <td>2</td>\n",
       "      <td>W./C. 6607</td>\n",
       "      <td>23.4500</td>\n",
       "      <td>NaN</td>\n",
       "      <td>S</td>\n",
       "    </tr>\n",
       "    <tr>\n",
       "      <th>889</th>\n",
       "      <td>890</td>\n",
       "      <td>1</td>\n",
       "      <td>1</td>\n",
       "      <td>Behr, Mr. Karl Howell</td>\n",
       "      <td>male</td>\n",
       "      <td>26.0</td>\n",
       "      <td>0</td>\n",
       "      <td>0</td>\n",
       "      <td>111369</td>\n",
       "      <td>30.0000</td>\n",
       "      <td>C148</td>\n",
       "      <td>C</td>\n",
       "    </tr>\n",
       "    <tr>\n",
       "      <th>890</th>\n",
       "      <td>891</td>\n",
       "      <td>0</td>\n",
       "      <td>3</td>\n",
       "      <td>Dooley, Mr. Patrick</td>\n",
       "      <td>male</td>\n",
       "      <td>32.0</td>\n",
       "      <td>0</td>\n",
       "      <td>0</td>\n",
       "      <td>370376</td>\n",
       "      <td>7.7500</td>\n",
       "      <td>NaN</td>\n",
       "      <td>Q</td>\n",
       "    </tr>\n",
       "  </tbody>\n",
       "</table>\n",
       "<p>891 rows × 12 columns</p>\n",
       "</div>"
      ],
      "text/plain": [
       "     PassengerId  Survived  Pclass  \\\n",
       "0              1         0       3   \n",
       "1              2         1       1   \n",
       "2              3         1       3   \n",
       "3              4         1       1   \n",
       "4              5         0       3   \n",
       "..           ...       ...     ...   \n",
       "886          887         0       2   \n",
       "887          888         1       1   \n",
       "888          889         0       3   \n",
       "889          890         1       1   \n",
       "890          891         0       3   \n",
       "\n",
       "                                                  Name     Sex   Age  SibSp  \\\n",
       "0                              Braund, Mr. Owen Harris    male  22.0      1   \n",
       "1    Cumings, Mrs. John Bradley (Florence Briggs Th...  female  38.0      1   \n",
       "2                               Heikkinen, Miss. Laina  female  26.0      0   \n",
       "3         Futrelle, Mrs. Jacques Heath (Lily May Peel)  female  35.0      1   \n",
       "4                             Allen, Mr. William Henry    male  35.0      0   \n",
       "..                                                 ...     ...   ...    ...   \n",
       "886                              Montvila, Rev. Juozas    male  27.0      0   \n",
       "887                       Graham, Miss. Margaret Edith  female  19.0      0   \n",
       "888           Johnston, Miss. Catherine Helen \"Carrie\"  female   NaN      1   \n",
       "889                              Behr, Mr. Karl Howell    male  26.0      0   \n",
       "890                                Dooley, Mr. Patrick    male  32.0      0   \n",
       "\n",
       "     Parch            Ticket     Fare Cabin Embarked  \n",
       "0        0         A/5 21171   7.2500   NaN        S  \n",
       "1        0          PC 17599  71.2833   C85        C  \n",
       "2        0  STON/O2. 3101282   7.9250   NaN        S  \n",
       "3        0            113803  53.1000  C123        S  \n",
       "4        0            373450   8.0500   NaN        S  \n",
       "..     ...               ...      ...   ...      ...  \n",
       "886      0            211536  13.0000   NaN        S  \n",
       "887      0            112053  30.0000   B42        S  \n",
       "888      2        W./C. 6607  23.4500   NaN        S  \n",
       "889      0            111369  30.0000  C148        C  \n",
       "890      0            370376   7.7500   NaN        Q  \n",
       "\n",
       "[891 rows x 12 columns]"
      ]
     },
     "execution_count": 2,
     "metadata": {},
     "output_type": "execute_result"
    }
   ],
   "source": [
    "df= pd.read_csv('/Users/sneha/Downloads/titanic_train.csv')\n",
    "df"
   ]
  },
  {
   "cell_type": "markdown",
   "id": "2376dfbd",
   "metadata": {},
   "source": [
    "## Step 3: Perfrom EDA on Data\n"
   ]
  },
  {
   "cell_type": "code",
   "execution_count": 3,
   "id": "a772a49e",
   "metadata": {},
   "outputs": [
    {
     "data": {
      "text/html": [
       "<div>\n",
       "<style scoped>\n",
       "    .dataframe tbody tr th:only-of-type {\n",
       "        vertical-align: middle;\n",
       "    }\n",
       "\n",
       "    .dataframe tbody tr th {\n",
       "        vertical-align: top;\n",
       "    }\n",
       "\n",
       "    .dataframe thead th {\n",
       "        text-align: right;\n",
       "    }\n",
       "</style>\n",
       "<table border=\"1\" class=\"dataframe\">\n",
       "  <thead>\n",
       "    <tr style=\"text-align: right;\">\n",
       "      <th></th>\n",
       "      <th>PassengerId</th>\n",
       "      <th>Survived</th>\n",
       "      <th>Pclass</th>\n",
       "      <th>Name</th>\n",
       "      <th>Sex</th>\n",
       "      <th>Age</th>\n",
       "      <th>SibSp</th>\n",
       "      <th>Parch</th>\n",
       "      <th>Ticket</th>\n",
       "      <th>Fare</th>\n",
       "      <th>Cabin</th>\n",
       "      <th>Embarked</th>\n",
       "    </tr>\n",
       "  </thead>\n",
       "  <tbody>\n",
       "    <tr>\n",
       "      <th>0</th>\n",
       "      <td>1</td>\n",
       "      <td>0</td>\n",
       "      <td>3</td>\n",
       "      <td>Braund, Mr. Owen Harris</td>\n",
       "      <td>male</td>\n",
       "      <td>22.0</td>\n",
       "      <td>1</td>\n",
       "      <td>0</td>\n",
       "      <td>A/5 21171</td>\n",
       "      <td>7.2500</td>\n",
       "      <td>NaN</td>\n",
       "      <td>S</td>\n",
       "    </tr>\n",
       "    <tr>\n",
       "      <th>1</th>\n",
       "      <td>2</td>\n",
       "      <td>1</td>\n",
       "      <td>1</td>\n",
       "      <td>Cumings, Mrs. John Bradley (Florence Briggs Th...</td>\n",
       "      <td>female</td>\n",
       "      <td>38.0</td>\n",
       "      <td>1</td>\n",
       "      <td>0</td>\n",
       "      <td>PC 17599</td>\n",
       "      <td>71.2833</td>\n",
       "      <td>C85</td>\n",
       "      <td>C</td>\n",
       "    </tr>\n",
       "    <tr>\n",
       "      <th>2</th>\n",
       "      <td>3</td>\n",
       "      <td>1</td>\n",
       "      <td>3</td>\n",
       "      <td>Heikkinen, Miss. Laina</td>\n",
       "      <td>female</td>\n",
       "      <td>26.0</td>\n",
       "      <td>0</td>\n",
       "      <td>0</td>\n",
       "      <td>STON/O2. 3101282</td>\n",
       "      <td>7.9250</td>\n",
       "      <td>NaN</td>\n",
       "      <td>S</td>\n",
       "    </tr>\n",
       "    <tr>\n",
       "      <th>3</th>\n",
       "      <td>4</td>\n",
       "      <td>1</td>\n",
       "      <td>1</td>\n",
       "      <td>Futrelle, Mrs. Jacques Heath (Lily May Peel)</td>\n",
       "      <td>female</td>\n",
       "      <td>35.0</td>\n",
       "      <td>1</td>\n",
       "      <td>0</td>\n",
       "      <td>113803</td>\n",
       "      <td>53.1000</td>\n",
       "      <td>C123</td>\n",
       "      <td>S</td>\n",
       "    </tr>\n",
       "    <tr>\n",
       "      <th>4</th>\n",
       "      <td>5</td>\n",
       "      <td>0</td>\n",
       "      <td>3</td>\n",
       "      <td>Allen, Mr. William Henry</td>\n",
       "      <td>male</td>\n",
       "      <td>35.0</td>\n",
       "      <td>0</td>\n",
       "      <td>0</td>\n",
       "      <td>373450</td>\n",
       "      <td>8.0500</td>\n",
       "      <td>NaN</td>\n",
       "      <td>S</td>\n",
       "    </tr>\n",
       "  </tbody>\n",
       "</table>\n",
       "</div>"
      ],
      "text/plain": [
       "   PassengerId  Survived  Pclass  \\\n",
       "0            1         0       3   \n",
       "1            2         1       1   \n",
       "2            3         1       3   \n",
       "3            4         1       1   \n",
       "4            5         0       3   \n",
       "\n",
       "                                                Name     Sex   Age  SibSp  \\\n",
       "0                            Braund, Mr. Owen Harris    male  22.0      1   \n",
       "1  Cumings, Mrs. John Bradley (Florence Briggs Th...  female  38.0      1   \n",
       "2                             Heikkinen, Miss. Laina  female  26.0      0   \n",
       "3       Futrelle, Mrs. Jacques Heath (Lily May Peel)  female  35.0      1   \n",
       "4                           Allen, Mr. William Henry    male  35.0      0   \n",
       "\n",
       "   Parch            Ticket     Fare Cabin Embarked  \n",
       "0      0         A/5 21171   7.2500   NaN        S  \n",
       "1      0          PC 17599  71.2833   C85        C  \n",
       "2      0  STON/O2. 3101282   7.9250   NaN        S  \n",
       "3      0            113803  53.1000  C123        S  \n",
       "4      0            373450   8.0500   NaN        S  "
      ]
     },
     "execution_count": 3,
     "metadata": {},
     "output_type": "execute_result"
    }
   ],
   "source": [
    "## Diaplay first 5 data \n",
    "df.head(5)"
   ]
  },
  {
   "cell_type": "code",
   "execution_count": 4,
   "id": "f50aa1a8",
   "metadata": {},
   "outputs": [
    {
     "name": "stdout",
     "output_type": "stream",
     "text": [
      "<class 'pandas.core.frame.DataFrame'>\n",
      "RangeIndex: 891 entries, 0 to 890\n",
      "Data columns (total 12 columns):\n",
      " #   Column       Non-Null Count  Dtype  \n",
      "---  ------       --------------  -----  \n",
      " 0   PassengerId  891 non-null    int64  \n",
      " 1   Survived     891 non-null    int64  \n",
      " 2   Pclass       891 non-null    int64  \n",
      " 3   Name         891 non-null    object \n",
      " 4   Sex          891 non-null    object \n",
      " 5   Age          714 non-null    float64\n",
      " 6   SibSp        891 non-null    int64  \n",
      " 7   Parch        891 non-null    int64  \n",
      " 8   Ticket       891 non-null    object \n",
      " 9   Fare         891 non-null    float64\n",
      " 10  Cabin        204 non-null    object \n",
      " 11  Embarked     889 non-null    object \n",
      "dtypes: float64(2), int64(5), object(5)\n",
      "memory usage: 83.7+ KB\n"
     ]
    }
   ],
   "source": [
    "df.info()"
   ]
  },
  {
   "cell_type": "code",
   "execution_count": 5,
   "id": "1430fd1f",
   "metadata": {},
   "outputs": [
    {
     "name": "stdout",
     "output_type": "stream",
     "text": [
      "Number of rows: 891\n",
      "Number of columns: 12\n"
     ]
    }
   ],
   "source": [
    "# Check dimensions\n",
    "num_rows, num_columns = df.shape\n",
    "print(f\"Number of rows: {num_rows}\")\n",
    "print(f\"Number of columns: {num_columns}\")"
   ]
  },
  {
   "cell_type": "code",
   "execution_count": 6,
   "id": "537d7225",
   "metadata": {},
   "outputs": [
    {
     "name": "stdout",
     "output_type": "stream",
     "text": [
      "Data Types:\n",
      "PassengerId      int64\n",
      "Survived         int64\n",
      "Pclass           int64\n",
      "Name            object\n",
      "Sex             object\n",
      "Age            float64\n",
      "SibSp            int64\n",
      "Parch            int64\n",
      "Ticket          object\n",
      "Fare           float64\n",
      "Cabin           object\n",
      "Embarked        object\n",
      "dtype: object\n"
     ]
    }
   ],
   "source": [
    "# Data types\n",
    "data_types = df.dtypes\n",
    "print(\"Data Types:\")\n",
    "print(data_types)"
   ]
  },
  {
   "cell_type": "code",
   "execution_count": 8,
   "id": "fb3acbc7",
   "metadata": {},
   "outputs": [
    {
     "data": {
      "text/plain": [
       "PassengerId    891\n",
       "Survived         2\n",
       "Pclass           3\n",
       "Name           891\n",
       "Sex              2\n",
       "Age             88\n",
       "SibSp            7\n",
       "Parch            7\n",
       "Ticket         681\n",
       "Fare           248\n",
       "Cabin          147\n",
       "Embarked         3\n",
       "dtype: int64"
      ]
     },
     "execution_count": 8,
     "metadata": {},
     "output_type": "execute_result"
    }
   ],
   "source": [
    "df.nunique()"
   ]
  },
  {
   "cell_type": "markdown",
   "id": "477ee3bd",
   "metadata": {},
   "source": [
    "## The values in column \"Survived\" can be used to determine whether each passenger survived or not:\n",
    "# if it’s a “1”, the passenger survived.\n",
    "# if it’s a “0”, the passenger died.\n",
    "## Which is also our OUtput Column , Since The output column is categorical A Classification model is to be designed. "
   ]
  },
  {
   "cell_type": "markdown",
   "id": "1ac54f21",
   "metadata": {},
   "source": [
    "### 3.1 Summary Statistics: Compute summary statistics (e.g., mean, median, standard deviation, min, max) for numerical variables. This helps to understand the central tendencies and distributions of the data. "
   ]
  },
  {
   "cell_type": "code",
   "execution_count": 7,
   "id": "b58baa45",
   "metadata": {},
   "outputs": [
    {
     "data": {
      "text/html": [
       "<div>\n",
       "<style scoped>\n",
       "    .dataframe tbody tr th:only-of-type {\n",
       "        vertical-align: middle;\n",
       "    }\n",
       "\n",
       "    .dataframe tbody tr th {\n",
       "        vertical-align: top;\n",
       "    }\n",
       "\n",
       "    .dataframe thead th {\n",
       "        text-align: right;\n",
       "    }\n",
       "</style>\n",
       "<table border=\"1\" class=\"dataframe\">\n",
       "  <thead>\n",
       "    <tr style=\"text-align: right;\">\n",
       "      <th></th>\n",
       "      <th>PassengerId</th>\n",
       "      <th>Survived</th>\n",
       "      <th>Pclass</th>\n",
       "      <th>Age</th>\n",
       "      <th>SibSp</th>\n",
       "      <th>Parch</th>\n",
       "      <th>Fare</th>\n",
       "    </tr>\n",
       "  </thead>\n",
       "  <tbody>\n",
       "    <tr>\n",
       "      <th>count</th>\n",
       "      <td>891.000000</td>\n",
       "      <td>891.000000</td>\n",
       "      <td>891.000000</td>\n",
       "      <td>714.000000</td>\n",
       "      <td>891.000000</td>\n",
       "      <td>891.000000</td>\n",
       "      <td>891.000000</td>\n",
       "    </tr>\n",
       "    <tr>\n",
       "      <th>mean</th>\n",
       "      <td>446.000000</td>\n",
       "      <td>0.383838</td>\n",
       "      <td>2.308642</td>\n",
       "      <td>29.699118</td>\n",
       "      <td>0.523008</td>\n",
       "      <td>0.381594</td>\n",
       "      <td>32.204208</td>\n",
       "    </tr>\n",
       "    <tr>\n",
       "      <th>std</th>\n",
       "      <td>257.353842</td>\n",
       "      <td>0.486592</td>\n",
       "      <td>0.836071</td>\n",
       "      <td>14.526497</td>\n",
       "      <td>1.102743</td>\n",
       "      <td>0.806057</td>\n",
       "      <td>49.693429</td>\n",
       "    </tr>\n",
       "    <tr>\n",
       "      <th>min</th>\n",
       "      <td>1.000000</td>\n",
       "      <td>0.000000</td>\n",
       "      <td>1.000000</td>\n",
       "      <td>0.420000</td>\n",
       "      <td>0.000000</td>\n",
       "      <td>0.000000</td>\n",
       "      <td>0.000000</td>\n",
       "    </tr>\n",
       "    <tr>\n",
       "      <th>25%</th>\n",
       "      <td>223.500000</td>\n",
       "      <td>0.000000</td>\n",
       "      <td>2.000000</td>\n",
       "      <td>20.125000</td>\n",
       "      <td>0.000000</td>\n",
       "      <td>0.000000</td>\n",
       "      <td>7.910400</td>\n",
       "    </tr>\n",
       "    <tr>\n",
       "      <th>50%</th>\n",
       "      <td>446.000000</td>\n",
       "      <td>0.000000</td>\n",
       "      <td>3.000000</td>\n",
       "      <td>28.000000</td>\n",
       "      <td>0.000000</td>\n",
       "      <td>0.000000</td>\n",
       "      <td>14.454200</td>\n",
       "    </tr>\n",
       "    <tr>\n",
       "      <th>75%</th>\n",
       "      <td>668.500000</td>\n",
       "      <td>1.000000</td>\n",
       "      <td>3.000000</td>\n",
       "      <td>38.000000</td>\n",
       "      <td>1.000000</td>\n",
       "      <td>0.000000</td>\n",
       "      <td>31.000000</td>\n",
       "    </tr>\n",
       "    <tr>\n",
       "      <th>max</th>\n",
       "      <td>891.000000</td>\n",
       "      <td>1.000000</td>\n",
       "      <td>3.000000</td>\n",
       "      <td>80.000000</td>\n",
       "      <td>8.000000</td>\n",
       "      <td>6.000000</td>\n",
       "      <td>512.329200</td>\n",
       "    </tr>\n",
       "  </tbody>\n",
       "</table>\n",
       "</div>"
      ],
      "text/plain": [
       "       PassengerId    Survived      Pclass         Age       SibSp  \\\n",
       "count   891.000000  891.000000  891.000000  714.000000  891.000000   \n",
       "mean    446.000000    0.383838    2.308642   29.699118    0.523008   \n",
       "std     257.353842    0.486592    0.836071   14.526497    1.102743   \n",
       "min       1.000000    0.000000    1.000000    0.420000    0.000000   \n",
       "25%     223.500000    0.000000    2.000000   20.125000    0.000000   \n",
       "50%     446.000000    0.000000    3.000000   28.000000    0.000000   \n",
       "75%     668.500000    1.000000    3.000000   38.000000    1.000000   \n",
       "max     891.000000    1.000000    3.000000   80.000000    8.000000   \n",
       "\n",
       "            Parch        Fare  \n",
       "count  891.000000  891.000000  \n",
       "mean     0.381594   32.204208  \n",
       "std      0.806057   49.693429  \n",
       "min      0.000000    0.000000  \n",
       "25%      0.000000    7.910400  \n",
       "50%      0.000000   14.454200  \n",
       "75%      0.000000   31.000000  \n",
       "max      6.000000  512.329200  "
      ]
     },
     "execution_count": 7,
     "metadata": {},
     "output_type": "execute_result"
    }
   ],
   "source": [
    "df.describe()"
   ]
  },
  {
   "cell_type": "markdown",
   "id": "01f74291",
   "metadata": {},
   "source": [
    "### 3.2 Check for missing values "
   ]
  },
  {
   "cell_type": "code",
   "execution_count": 8,
   "id": "b42d6368",
   "metadata": {},
   "outputs": [
    {
     "data": {
      "text/plain": [
       "PassengerId    False\n",
       "Survived       False\n",
       "Pclass         False\n",
       "Name           False\n",
       "Sex            False\n",
       "Age             True\n",
       "SibSp          False\n",
       "Parch          False\n",
       "Ticket         False\n",
       "Fare           False\n",
       "Cabin           True\n",
       "Embarked        True\n",
       "dtype: bool"
      ]
     },
     "execution_count": 8,
     "metadata": {},
     "output_type": "execute_result"
    }
   ],
   "source": [
    "df.isnull().any()"
   ]
  },
  {
   "cell_type": "code",
   "execution_count": 9,
   "id": "dc21bb50",
   "metadata": {},
   "outputs": [
    {
     "data": {
      "text/plain": [
       "PassengerId      0\n",
       "Survived         0\n",
       "Pclass           0\n",
       "Name             0\n",
       "Sex              0\n",
       "Age            177\n",
       "SibSp            0\n",
       "Parch            0\n",
       "Ticket           0\n",
       "Fare             0\n",
       "Cabin          687\n",
       "Embarked         2\n",
       "dtype: int64"
      ]
     },
     "execution_count": 9,
     "metadata": {},
     "output_type": "execute_result"
    }
   ],
   "source": [
    "df.isnull().sum()"
   ]
  },
  {
   "cell_type": "markdown",
   "id": "5fa20fb3",
   "metadata": {},
   "source": [
    "## Cabin , Age and Embarked has missing values. "
   ]
  },
  {
   "cell_type": "markdown",
   "id": "5b0bb95a",
   "metadata": {},
   "source": [
    "### Step 3.3 Compute these missing values. Either delete or Replace. \n",
    "# Since it is not a huge data set I will try to replace those missing values to utmost Accuracy. "
   ]
  },
  {
   "cell_type": "markdown",
   "id": "412644c2",
   "metadata": {},
   "source": [
    "## 1. For EMbarked only 2 missing values : \n",
    "## Replacing the missing value with a value with highest frequency.  "
   ]
  },
  {
   "cell_type": "code",
   "execution_count": 11,
   "id": "d6b61773",
   "metadata": {},
   "outputs": [],
   "source": [
    "df['Embarked'] = df['Embarked'].fillna(df['Embarked'].mode()[0])"
   ]
  },
  {
   "cell_type": "markdown",
   "id": "c0d6e74b",
   "metadata": {},
   "source": [
    "## 2.  For Age with 177 missing values : \n",
    "# Step 1 : Extracting Titles from Name : \n",
    "# Step 2 : Group Age according to the titles , SibSp, Parch.\n",
    "# Step 3 : With titles mean age fill na. \n",
    "# Step 4 : If a certain combination has NA then replace it with Age mean. "
   ]
  },
  {
   "cell_type": "code",
   "execution_count": 12,
   "id": "7126245e",
   "metadata": {},
   "outputs": [
    {
     "name": "stdout",
     "output_type": "stream",
     "text": [
      "Mr          517\n",
      "Miss        182\n",
      "Mrs         125\n",
      "Master       40\n",
      "Dr            7\n",
      "Rev           6\n",
      "Major         2\n",
      "Mlle          2\n",
      "Col           2\n",
      "Don           1\n",
      "Mme           1\n",
      "Ms            1\n",
      "Lady          1\n",
      "Sir           1\n",
      "Capt          1\n",
      "Jonkheer      1\n",
      "Name: Title, dtype: int64\n"
     ]
    }
   ],
   "source": [
    "# Extract titles using regular expressions\n",
    "df['Title'] = df['Name'].str.extract(',\\s([A-Za-z]+)\\.', expand=False)\n",
    "\n",
    "# Display the extracted titles\n",
    "print(df['Title'].value_counts())"
   ]
  },
  {
   "cell_type": "code",
   "execution_count": 13,
   "id": "341565ab",
   "metadata": {},
   "outputs": [
    {
     "data": {
      "text/plain": [
       "Title\n",
       "Capt        70.000000\n",
       "Col         58.000000\n",
       "Don         40.000000\n",
       "Dr          42.000000\n",
       "Jonkheer    38.000000\n",
       "Lady        48.000000\n",
       "Major       48.500000\n",
       "Master       4.574167\n",
       "Miss        21.773973\n",
       "Mlle        24.000000\n",
       "Mme         24.000000\n",
       "Mr          32.368090\n",
       "Mrs         35.898148\n",
       "Ms          28.000000\n",
       "Rev         43.166667\n",
       "Sir         49.000000\n",
       "Name: Age, dtype: float64"
      ]
     },
     "execution_count": 13,
     "metadata": {},
     "output_type": "execute_result"
    }
   ],
   "source": [
    "age_by_title = df.groupby('Title')['Age'].mean() \n",
    "age_by_title"
   ]
  },
  {
   "cell_type": "code",
   "execution_count": 14,
   "id": "542bd58e",
   "metadata": {},
   "outputs": [
    {
     "data": {
      "text/plain": [
       "Title  Parch  SibSp\n",
       "Capt   1      1        70.00\n",
       "Col    0      0        58.00\n",
       "Don    0      0        40.00\n",
       "Dr     0      0        39.50\n",
       "              2        47.00\n",
       "                       ...  \n",
       "Ms     0      0        28.00\n",
       "Rev    0      0        44.25\n",
       "              1        54.00\n",
       "       1      0        28.00\n",
       "Sir    0      1        49.00\n",
       "Name: Age, Length: 73, dtype: float64"
      ]
     },
     "execution_count": 14,
     "metadata": {},
     "output_type": "execute_result"
    }
   ],
   "source": [
    "grouped_means = df.groupby(['Title', 'Parch','SibSp'])['Age'].mean()\n",
    "grouped_means"
   ]
  },
  {
   "cell_type": "code",
   "execution_count": 15,
   "id": "12463c05",
   "metadata": {},
   "outputs": [],
   "source": [
    "# Create a mask for rows with NaN 'Age' values\n",
    "nan_age_mask = df['Age'].isna()\n",
    "\n",
    "# Get unique combinations of 'Title', 'Sibsp', and 'Parch' for rows with NaN 'Age'\n",
    "unique_combinations = df.loc[nan_age_mask, ['Title', 'SibSp', 'Parch']].drop_duplicates()\n",
    "\n",
    "# Iterate through unique combinations and fill NaN 'Age' values\n",
    "for index, row in unique_combinations.iterrows():\n",
    "    title = row['Title']\n",
    "    sibsp = row['SibSp']\n",
    "    parch = row['Parch']\n",
    "    \n",
    "    group_mask = (df['Title'] == title) & (df['SibSp'] == sibsp) & (df['Parch'] == parch)\n",
    "    nan_age_mask = group_mask & df['Age'].isna()\n",
    "    \n",
    "    # Calculate the mean age for the current group\n",
    "    mean_age = df.loc[group_mask, 'Age'].mean()\n",
    "    \n",
    "    # If mean age is NaN, replace with Title and Parch group mean age\n",
    "    if pd.isna(mean_age):\n",
    "        title_parch_group_mean_age = df.loc[(df['Title'] == title) & (df['Parch'] == parch), 'Age'].mean()\n",
    "        mean_age = title_parch_group_mean_age\n",
    "    \n",
    "    df.loc[nan_age_mask, 'Age'] = mean_age"
   ]
  },
  {
   "cell_type": "code",
   "execution_count": 16,
   "id": "99c962b8",
   "metadata": {},
   "outputs": [
    {
     "data": {
      "text/plain": [
       "PassengerId      0\n",
       "Survived         0\n",
       "Pclass           0\n",
       "Name             0\n",
       "Sex              0\n",
       "Age              0\n",
       "SibSp            0\n",
       "Parch            0\n",
       "Ticket           0\n",
       "Fare             0\n",
       "Cabin          687\n",
       "Embarked         0\n",
       "Title            1\n",
       "dtype: int64"
      ]
     },
     "execution_count": 16,
     "metadata": {},
     "output_type": "execute_result"
    }
   ],
   "source": [
    "## Check wheather Null Values have been replaced\n",
    "df.isnull().sum()"
   ]
  },
  {
   "cell_type": "markdown",
   "id": "4d596c1e",
   "metadata": {},
   "source": [
    "## 3. For column Cabin with more than 50 % missing values : Lets understand how can we replace the null values. \n",
    "Step 1 : I create a group by Pclass, fare and Embared . \n",
    "Step 2 : Replacing with Similar combinations \n",
    "Step 3 : If combation has no value then create its own value ."
   ]
  },
  {
   "cell_type": "code",
   "execution_count": 17,
   "id": "c82fa7ad",
   "metadata": {},
   "outputs": [
    {
     "data": {
      "text/plain": [
       "PassengerId     0.000000\n",
       "Survived        0.000000\n",
       "Pclass          0.000000\n",
       "Name            0.000000\n",
       "Sex             0.000000\n",
       "Age             0.000000\n",
       "SibSp           0.000000\n",
       "Parch           0.000000\n",
       "Ticket          0.000000\n",
       "Fare            0.000000\n",
       "Cabin          77.104377\n",
       "Embarked        0.000000\n",
       "Title           0.112233\n",
       "dtype: float64"
      ]
     },
     "execution_count": 17,
     "metadata": {},
     "output_type": "execute_result"
    }
   ],
   "source": [
    "null_percentage = (df.isnull().sum() / len(df)) * 100\n",
    "null_percentage"
   ]
  },
  {
   "cell_type": "markdown",
   "id": "4fc0e108",
   "metadata": {},
   "source": [
    "## Lets see if Fare and Pclass have any relation with Cabin "
   ]
  },
  {
   "cell_type": "code",
   "execution_count": 18,
   "id": "7161eebe",
   "metadata": {},
   "outputs": [],
   "source": [
    "nan_cabin_mask = df['Cabin'].isna()\n",
    "\n",
    "# Get unique combinations of 'Pclass' and 'Fare' for rows with NaN 'Cabin'\n",
    "unique_combinations = df.loc[nan_cabin_mask, ['Pclass', 'Fare' ,'Embarked']].drop_duplicates()\n",
    "\n",
    "# Iterate through unique combinations and fill NaN 'Cabin' values\n",
    "for index, row in unique_combinations.iterrows():\n",
    "    pclass = row['Pclass']\n",
    "    fare = row['Fare']\n",
    "    embarked = row['Embarked']\n",
    "    \n",
    "    group_mask = (df['Pclass'] == pclass) & (df['Fare'] == fare) & (df['Embarked']== embarked)\n",
    "    mode_cabin = df.loc[group_mask, 'Cabin'].mode()\n",
    "    \n",
    "    if not mode_cabin.empty:\n",
    "        mode_cabin_value = mode_cabin.iloc[0]\n",
    "        df.loc[group_mask & nan_cabin_mask, 'Cabin'] = mode_cabin_value\n",
    "    else:\n",
    "        new_cabin_value = f\"C{pclass}_{int(fare)}\"\n",
    "        df.loc[group_mask & nan_cabin_mask, 'Cabin'] = new_cabin_value\n"
   ]
  },
  {
   "cell_type": "code",
   "execution_count": 19,
   "id": "6dc8ebad",
   "metadata": {},
   "outputs": [
    {
     "data": {
      "text/plain": [
       "C3_7     179\n",
       "E10       43\n",
       "D         41\n",
       "F38       30\n",
       "F2        29\n",
       "        ... \n",
       "C110       1\n",
       "A34        1\n",
       "C2_32      1\n",
       "D47        1\n",
       "C148       1\n",
       "Name: Cabin, Length: 209, dtype: int64"
      ]
     },
     "execution_count": 19,
     "metadata": {},
     "output_type": "execute_result"
    }
   ],
   "source": [
    "df['Cabin'].value_counts()"
   ]
  },
  {
   "cell_type": "code",
   "execution_count": 20,
   "id": "a69868ed",
   "metadata": {},
   "outputs": [],
   "source": [
    "df['Cabin'] =  df['Cabin'].str[:1]"
   ]
  },
  {
   "cell_type": "code",
   "execution_count": 21,
   "id": "516351bb",
   "metadata": {},
   "outputs": [
    {
     "data": {
      "text/plain": [
       "C    566\n",
       "F     92\n",
       "E     78\n",
       "D     71\n",
       "B     58\n",
       "A     21\n",
       "G      4\n",
       "T      1\n",
       "Name: Cabin, dtype: int64"
      ]
     },
     "execution_count": 21,
     "metadata": {},
     "output_type": "execute_result"
    }
   ],
   "source": [
    "df['Cabin'].value_counts()"
   ]
  },
  {
   "cell_type": "code",
   "execution_count": 22,
   "id": "ba772b49",
   "metadata": {},
   "outputs": [
    {
     "data": {
      "text/plain": [
       "PassengerId    0\n",
       "Survived       0\n",
       "Pclass         0\n",
       "Name           0\n",
       "Sex            0\n",
       "Age            0\n",
       "SibSp          0\n",
       "Parch          0\n",
       "Ticket         0\n",
       "Fare           0\n",
       "Cabin          0\n",
       "Embarked       0\n",
       "Title          1\n",
       "dtype: int64"
      ]
     },
     "execution_count": 22,
     "metadata": {},
     "output_type": "execute_result"
    }
   ],
   "source": [
    "df.isnull().sum()"
   ]
  },
  {
   "cell_type": "code",
   "execution_count": 23,
   "id": "daacf4b9",
   "metadata": {},
   "outputs": [],
   "source": [
    "df['Title'] = df['Title'].fillna(df['Title'].mode()[0])\n"
   ]
  },
  {
   "cell_type": "code",
   "execution_count": 24,
   "id": "a29d4bfb",
   "metadata": {},
   "outputs": [
    {
     "data": {
      "text/plain": [
       "PassengerId    0\n",
       "Survived       0\n",
       "Pclass         0\n",
       "Name           0\n",
       "Sex            0\n",
       "Age            0\n",
       "SibSp          0\n",
       "Parch          0\n",
       "Ticket         0\n",
       "Fare           0\n",
       "Cabin          0\n",
       "Embarked       0\n",
       "Title          0\n",
       "dtype: int64"
      ]
     },
     "execution_count": 24,
     "metadata": {},
     "output_type": "execute_result"
    }
   ],
   "source": [
    "df.isnull().sum()"
   ]
  },
  {
   "cell_type": "markdown",
   "id": "04450795",
   "metadata": {},
   "source": [
    "## We have successfully replaced Null values without hampering the dataset. "
   ]
  },
  {
   "cell_type": "markdown",
   "id": "427dcb32",
   "metadata": {},
   "source": [
    "## Step 3.4 Understanding Object data type in dataset , then converting them into integers. "
   ]
  },
  {
   "cell_type": "code",
   "execution_count": 25,
   "id": "bcd15e76",
   "metadata": {},
   "outputs": [
    {
     "data": {
      "text/plain": [
       "PassengerId      int64\n",
       "Survived         int64\n",
       "Pclass           int64\n",
       "Name            object\n",
       "Sex             object\n",
       "Age            float64\n",
       "SibSp            int64\n",
       "Parch            int64\n",
       "Ticket          object\n",
       "Fare           float64\n",
       "Cabin           object\n",
       "Embarked        object\n",
       "Title           object\n",
       "dtype: object"
      ]
     },
     "execution_count": 25,
     "metadata": {},
     "output_type": "execute_result"
    }
   ],
   "source": [
    "df.dtypes"
   ]
  },
  {
   "cell_type": "code",
   "execution_count": 26,
   "id": "f1ce5254",
   "metadata": {},
   "outputs": [
    {
     "data": {
      "text/html": [
       "<div>\n",
       "<style scoped>\n",
       "    .dataframe tbody tr th:only-of-type {\n",
       "        vertical-align: middle;\n",
       "    }\n",
       "\n",
       "    .dataframe tbody tr th {\n",
       "        vertical-align: top;\n",
       "    }\n",
       "\n",
       "    .dataframe thead th {\n",
       "        text-align: right;\n",
       "    }\n",
       "</style>\n",
       "<table border=\"1\" class=\"dataframe\">\n",
       "  <thead>\n",
       "    <tr style=\"text-align: right;\">\n",
       "      <th></th>\n",
       "      <th>Name</th>\n",
       "      <th>Sex</th>\n",
       "      <th>Ticket</th>\n",
       "      <th>Cabin</th>\n",
       "      <th>Embarked</th>\n",
       "      <th>Title</th>\n",
       "    </tr>\n",
       "  </thead>\n",
       "  <tbody>\n",
       "    <tr>\n",
       "      <th>0</th>\n",
       "      <td>Braund, Mr. Owen Harris</td>\n",
       "      <td>male</td>\n",
       "      <td>A/5 21171</td>\n",
       "      <td>C</td>\n",
       "      <td>S</td>\n",
       "      <td>Mr</td>\n",
       "    </tr>\n",
       "    <tr>\n",
       "      <th>1</th>\n",
       "      <td>Cumings, Mrs. John Bradley (Florence Briggs Th...</td>\n",
       "      <td>female</td>\n",
       "      <td>PC 17599</td>\n",
       "      <td>C</td>\n",
       "      <td>C</td>\n",
       "      <td>Mrs</td>\n",
       "    </tr>\n",
       "    <tr>\n",
       "      <th>2</th>\n",
       "      <td>Heikkinen, Miss. Laina</td>\n",
       "      <td>female</td>\n",
       "      <td>STON/O2. 3101282</td>\n",
       "      <td>C</td>\n",
       "      <td>S</td>\n",
       "      <td>Miss</td>\n",
       "    </tr>\n",
       "    <tr>\n",
       "      <th>3</th>\n",
       "      <td>Futrelle, Mrs. Jacques Heath (Lily May Peel)</td>\n",
       "      <td>female</td>\n",
       "      <td>113803</td>\n",
       "      <td>C</td>\n",
       "      <td>S</td>\n",
       "      <td>Mrs</td>\n",
       "    </tr>\n",
       "    <tr>\n",
       "      <th>4</th>\n",
       "      <td>Allen, Mr. William Henry</td>\n",
       "      <td>male</td>\n",
       "      <td>373450</td>\n",
       "      <td>E</td>\n",
       "      <td>S</td>\n",
       "      <td>Mr</td>\n",
       "    </tr>\n",
       "    <tr>\n",
       "      <th>...</th>\n",
       "      <td>...</td>\n",
       "      <td>...</td>\n",
       "      <td>...</td>\n",
       "      <td>...</td>\n",
       "      <td>...</td>\n",
       "      <td>...</td>\n",
       "    </tr>\n",
       "    <tr>\n",
       "      <th>886</th>\n",
       "      <td>Montvila, Rev. Juozas</td>\n",
       "      <td>male</td>\n",
       "      <td>211536</td>\n",
       "      <td>D</td>\n",
       "      <td>S</td>\n",
       "      <td>Rev</td>\n",
       "    </tr>\n",
       "    <tr>\n",
       "      <th>887</th>\n",
       "      <td>Graham, Miss. Margaret Edith</td>\n",
       "      <td>female</td>\n",
       "      <td>112053</td>\n",
       "      <td>B</td>\n",
       "      <td>S</td>\n",
       "      <td>Miss</td>\n",
       "    </tr>\n",
       "    <tr>\n",
       "      <th>888</th>\n",
       "      <td>Johnston, Miss. Catherine Helen \"Carrie\"</td>\n",
       "      <td>female</td>\n",
       "      <td>W./C. 6607</td>\n",
       "      <td>C</td>\n",
       "      <td>S</td>\n",
       "      <td>Miss</td>\n",
       "    </tr>\n",
       "    <tr>\n",
       "      <th>889</th>\n",
       "      <td>Behr, Mr. Karl Howell</td>\n",
       "      <td>male</td>\n",
       "      <td>111369</td>\n",
       "      <td>C</td>\n",
       "      <td>C</td>\n",
       "      <td>Mr</td>\n",
       "    </tr>\n",
       "    <tr>\n",
       "      <th>890</th>\n",
       "      <td>Dooley, Mr. Patrick</td>\n",
       "      <td>male</td>\n",
       "      <td>370376</td>\n",
       "      <td>F</td>\n",
       "      <td>Q</td>\n",
       "      <td>Mr</td>\n",
       "    </tr>\n",
       "  </tbody>\n",
       "</table>\n",
       "<p>891 rows × 6 columns</p>\n",
       "</div>"
      ],
      "text/plain": [
       "                                                  Name     Sex  \\\n",
       "0                              Braund, Mr. Owen Harris    male   \n",
       "1    Cumings, Mrs. John Bradley (Florence Briggs Th...  female   \n",
       "2                               Heikkinen, Miss. Laina  female   \n",
       "3         Futrelle, Mrs. Jacques Heath (Lily May Peel)  female   \n",
       "4                             Allen, Mr. William Henry    male   \n",
       "..                                                 ...     ...   \n",
       "886                              Montvila, Rev. Juozas    male   \n",
       "887                       Graham, Miss. Margaret Edith  female   \n",
       "888           Johnston, Miss. Catherine Helen \"Carrie\"  female   \n",
       "889                              Behr, Mr. Karl Howell    male   \n",
       "890                                Dooley, Mr. Patrick    male   \n",
       "\n",
       "               Ticket Cabin Embarked Title  \n",
       "0           A/5 21171     C        S    Mr  \n",
       "1            PC 17599     C        C   Mrs  \n",
       "2    STON/O2. 3101282     C        S  Miss  \n",
       "3              113803     C        S   Mrs  \n",
       "4              373450     E        S    Mr  \n",
       "..                ...   ...      ...   ...  \n",
       "886            211536     D        S   Rev  \n",
       "887            112053     B        S  Miss  \n",
       "888        W./C. 6607     C        S  Miss  \n",
       "889            111369     C        C    Mr  \n",
       "890            370376     F        Q    Mr  \n",
       "\n",
       "[891 rows x 6 columns]"
      ]
     },
     "execution_count": 26,
     "metadata": {},
     "output_type": "execute_result"
    }
   ],
   "source": [
    "object_columns = df.select_dtypes(include='object')    \n",
    "object_columns"
   ]
  },
  {
   "cell_type": "code",
   "execution_count": 27,
   "id": "1ec8bc45",
   "metadata": {},
   "outputs": [
    {
     "data": {
      "text/plain": [
       "Name        891\n",
       "Sex           2\n",
       "Ticket      681\n",
       "Cabin         8\n",
       "Embarked      3\n",
       "Title        16\n",
       "dtype: int64"
      ]
     },
     "execution_count": 27,
     "metadata": {},
     "output_type": "execute_result"
    }
   ],
   "source": [
    "object_columns.nunique()"
   ]
  },
  {
   "cell_type": "markdown",
   "id": "79c1ddde",
   "metadata": {},
   "source": [
    "## Except Name , Ticket column others can be categorized. \n",
    " "
   ]
  },
  {
   "cell_type": "markdown",
   "id": "a1591b76",
   "metadata": {},
   "source": [
    "# Float Columns : "
   ]
  },
  {
   "cell_type": "code",
   "execution_count": 28,
   "id": "b0a32c59",
   "metadata": {},
   "outputs": [
    {
     "data": {
      "text/html": [
       "<div>\n",
       "<style scoped>\n",
       "    .dataframe tbody tr th:only-of-type {\n",
       "        vertical-align: middle;\n",
       "    }\n",
       "\n",
       "    .dataframe tbody tr th {\n",
       "        vertical-align: top;\n",
       "    }\n",
       "\n",
       "    .dataframe thead th {\n",
       "        text-align: right;\n",
       "    }\n",
       "</style>\n",
       "<table border=\"1\" class=\"dataframe\">\n",
       "  <thead>\n",
       "    <tr style=\"text-align: right;\">\n",
       "      <th></th>\n",
       "      <th>Age</th>\n",
       "      <th>Fare</th>\n",
       "    </tr>\n",
       "  </thead>\n",
       "  <tbody>\n",
       "    <tr>\n",
       "      <th>0</th>\n",
       "      <td>22.0</td>\n",
       "      <td>7.2500</td>\n",
       "    </tr>\n",
       "    <tr>\n",
       "      <th>1</th>\n",
       "      <td>38.0</td>\n",
       "      <td>71.2833</td>\n",
       "    </tr>\n",
       "    <tr>\n",
       "      <th>2</th>\n",
       "      <td>26.0</td>\n",
       "      <td>7.9250</td>\n",
       "    </tr>\n",
       "    <tr>\n",
       "      <th>3</th>\n",
       "      <td>35.0</td>\n",
       "      <td>53.1000</td>\n",
       "    </tr>\n",
       "    <tr>\n",
       "      <th>4</th>\n",
       "      <td>35.0</td>\n",
       "      <td>8.0500</td>\n",
       "    </tr>\n",
       "    <tr>\n",
       "      <th>...</th>\n",
       "      <td>...</td>\n",
       "      <td>...</td>\n",
       "    </tr>\n",
       "    <tr>\n",
       "      <th>886</th>\n",
       "      <td>27.0</td>\n",
       "      <td>13.0000</td>\n",
       "    </tr>\n",
       "    <tr>\n",
       "      <th>887</th>\n",
       "      <td>19.0</td>\n",
       "      <td>30.0000</td>\n",
       "    </tr>\n",
       "    <tr>\n",
       "      <th>888</th>\n",
       "      <td>9.6</td>\n",
       "      <td>23.4500</td>\n",
       "    </tr>\n",
       "    <tr>\n",
       "      <th>889</th>\n",
       "      <td>26.0</td>\n",
       "      <td>30.0000</td>\n",
       "    </tr>\n",
       "    <tr>\n",
       "      <th>890</th>\n",
       "      <td>32.0</td>\n",
       "      <td>7.7500</td>\n",
       "    </tr>\n",
       "  </tbody>\n",
       "</table>\n",
       "<p>891 rows × 2 columns</p>\n",
       "</div>"
      ],
      "text/plain": [
       "      Age     Fare\n",
       "0    22.0   7.2500\n",
       "1    38.0  71.2833\n",
       "2    26.0   7.9250\n",
       "3    35.0  53.1000\n",
       "4    35.0   8.0500\n",
       "..    ...      ...\n",
       "886  27.0  13.0000\n",
       "887  19.0  30.0000\n",
       "888   9.6  23.4500\n",
       "889  26.0  30.0000\n",
       "890  32.0   7.7500\n",
       "\n",
       "[891 rows x 2 columns]"
      ]
     },
     "execution_count": 28,
     "metadata": {},
     "output_type": "execute_result"
    }
   ],
   "source": [
    "float_columns = df.select_dtypes(include='float')    \n",
    "float_columns"
   ]
  },
  {
   "cell_type": "code",
   "execution_count": null,
   "id": "b3e63fab",
   "metadata": {},
   "outputs": [],
   "source": [
    "### Now with this updated data : Drop columns , Passanger Id, Name , Ticket. "
   ]
  },
  {
   "cell_type": "code",
   "execution_count": 29,
   "id": "7d37028b",
   "metadata": {},
   "outputs": [],
   "source": [
    "cols = ['PassengerId','Name','Ticket']\n",
    "\n",
    "df = df.drop(columns=cols)\n"
   ]
  },
  {
   "cell_type": "code",
   "execution_count": 30,
   "id": "c8ff25c8",
   "metadata": {},
   "outputs": [
    {
     "data": {
      "text/html": [
       "<div>\n",
       "<style scoped>\n",
       "    .dataframe tbody tr th:only-of-type {\n",
       "        vertical-align: middle;\n",
       "    }\n",
       "\n",
       "    .dataframe tbody tr th {\n",
       "        vertical-align: top;\n",
       "    }\n",
       "\n",
       "    .dataframe thead th {\n",
       "        text-align: right;\n",
       "    }\n",
       "</style>\n",
       "<table border=\"1\" class=\"dataframe\">\n",
       "  <thead>\n",
       "    <tr style=\"text-align: right;\">\n",
       "      <th></th>\n",
       "      <th>Survived</th>\n",
       "      <th>Pclass</th>\n",
       "      <th>Sex</th>\n",
       "      <th>Age</th>\n",
       "      <th>SibSp</th>\n",
       "      <th>Parch</th>\n",
       "      <th>Fare</th>\n",
       "      <th>Cabin</th>\n",
       "      <th>Embarked</th>\n",
       "      <th>Title</th>\n",
       "    </tr>\n",
       "  </thead>\n",
       "  <tbody>\n",
       "    <tr>\n",
       "      <th>0</th>\n",
       "      <td>0</td>\n",
       "      <td>3</td>\n",
       "      <td>male</td>\n",
       "      <td>22.0</td>\n",
       "      <td>1</td>\n",
       "      <td>0</td>\n",
       "      <td>7.2500</td>\n",
       "      <td>C</td>\n",
       "      <td>S</td>\n",
       "      <td>Mr</td>\n",
       "    </tr>\n",
       "    <tr>\n",
       "      <th>1</th>\n",
       "      <td>1</td>\n",
       "      <td>1</td>\n",
       "      <td>female</td>\n",
       "      <td>38.0</td>\n",
       "      <td>1</td>\n",
       "      <td>0</td>\n",
       "      <td>71.2833</td>\n",
       "      <td>C</td>\n",
       "      <td>C</td>\n",
       "      <td>Mrs</td>\n",
       "    </tr>\n",
       "    <tr>\n",
       "      <th>2</th>\n",
       "      <td>1</td>\n",
       "      <td>3</td>\n",
       "      <td>female</td>\n",
       "      <td>26.0</td>\n",
       "      <td>0</td>\n",
       "      <td>0</td>\n",
       "      <td>7.9250</td>\n",
       "      <td>C</td>\n",
       "      <td>S</td>\n",
       "      <td>Miss</td>\n",
       "    </tr>\n",
       "    <tr>\n",
       "      <th>3</th>\n",
       "      <td>1</td>\n",
       "      <td>1</td>\n",
       "      <td>female</td>\n",
       "      <td>35.0</td>\n",
       "      <td>1</td>\n",
       "      <td>0</td>\n",
       "      <td>53.1000</td>\n",
       "      <td>C</td>\n",
       "      <td>S</td>\n",
       "      <td>Mrs</td>\n",
       "    </tr>\n",
       "    <tr>\n",
       "      <th>4</th>\n",
       "      <td>0</td>\n",
       "      <td>3</td>\n",
       "      <td>male</td>\n",
       "      <td>35.0</td>\n",
       "      <td>0</td>\n",
       "      <td>0</td>\n",
       "      <td>8.0500</td>\n",
       "      <td>E</td>\n",
       "      <td>S</td>\n",
       "      <td>Mr</td>\n",
       "    </tr>\n",
       "    <tr>\n",
       "      <th>...</th>\n",
       "      <td>...</td>\n",
       "      <td>...</td>\n",
       "      <td>...</td>\n",
       "      <td>...</td>\n",
       "      <td>...</td>\n",
       "      <td>...</td>\n",
       "      <td>...</td>\n",
       "      <td>...</td>\n",
       "      <td>...</td>\n",
       "      <td>...</td>\n",
       "    </tr>\n",
       "    <tr>\n",
       "      <th>886</th>\n",
       "      <td>0</td>\n",
       "      <td>2</td>\n",
       "      <td>male</td>\n",
       "      <td>27.0</td>\n",
       "      <td>0</td>\n",
       "      <td>0</td>\n",
       "      <td>13.0000</td>\n",
       "      <td>D</td>\n",
       "      <td>S</td>\n",
       "      <td>Rev</td>\n",
       "    </tr>\n",
       "    <tr>\n",
       "      <th>887</th>\n",
       "      <td>1</td>\n",
       "      <td>1</td>\n",
       "      <td>female</td>\n",
       "      <td>19.0</td>\n",
       "      <td>0</td>\n",
       "      <td>0</td>\n",
       "      <td>30.0000</td>\n",
       "      <td>B</td>\n",
       "      <td>S</td>\n",
       "      <td>Miss</td>\n",
       "    </tr>\n",
       "    <tr>\n",
       "      <th>888</th>\n",
       "      <td>0</td>\n",
       "      <td>3</td>\n",
       "      <td>female</td>\n",
       "      <td>9.6</td>\n",
       "      <td>1</td>\n",
       "      <td>2</td>\n",
       "      <td>23.4500</td>\n",
       "      <td>C</td>\n",
       "      <td>S</td>\n",
       "      <td>Miss</td>\n",
       "    </tr>\n",
       "    <tr>\n",
       "      <th>889</th>\n",
       "      <td>1</td>\n",
       "      <td>1</td>\n",
       "      <td>male</td>\n",
       "      <td>26.0</td>\n",
       "      <td>0</td>\n",
       "      <td>0</td>\n",
       "      <td>30.0000</td>\n",
       "      <td>C</td>\n",
       "      <td>C</td>\n",
       "      <td>Mr</td>\n",
       "    </tr>\n",
       "    <tr>\n",
       "      <th>890</th>\n",
       "      <td>0</td>\n",
       "      <td>3</td>\n",
       "      <td>male</td>\n",
       "      <td>32.0</td>\n",
       "      <td>0</td>\n",
       "      <td>0</td>\n",
       "      <td>7.7500</td>\n",
       "      <td>F</td>\n",
       "      <td>Q</td>\n",
       "      <td>Mr</td>\n",
       "    </tr>\n",
       "  </tbody>\n",
       "</table>\n",
       "<p>891 rows × 10 columns</p>\n",
       "</div>"
      ],
      "text/plain": [
       "     Survived  Pclass     Sex   Age  SibSp  Parch     Fare Cabin Embarked  \\\n",
       "0           0       3    male  22.0      1      0   7.2500     C        S   \n",
       "1           1       1  female  38.0      1      0  71.2833     C        C   \n",
       "2           1       3  female  26.0      0      0   7.9250     C        S   \n",
       "3           1       1  female  35.0      1      0  53.1000     C        S   \n",
       "4           0       3    male  35.0      0      0   8.0500     E        S   \n",
       "..        ...     ...     ...   ...    ...    ...      ...   ...      ...   \n",
       "886         0       2    male  27.0      0      0  13.0000     D        S   \n",
       "887         1       1  female  19.0      0      0  30.0000     B        S   \n",
       "888         0       3  female   9.6      1      2  23.4500     C        S   \n",
       "889         1       1    male  26.0      0      0  30.0000     C        C   \n",
       "890         0       3    male  32.0      0      0   7.7500     F        Q   \n",
       "\n",
       "    Title  \n",
       "0      Mr  \n",
       "1     Mrs  \n",
       "2    Miss  \n",
       "3     Mrs  \n",
       "4      Mr  \n",
       "..    ...  \n",
       "886   Rev  \n",
       "887  Miss  \n",
       "888  Miss  \n",
       "889    Mr  \n",
       "890    Mr  \n",
       "\n",
       "[891 rows x 10 columns]"
      ]
     },
     "execution_count": 30,
     "metadata": {},
     "output_type": "execute_result"
    }
   ],
   "source": [
    "df"
   ]
  },
  {
   "cell_type": "markdown",
   "id": "bf921f83",
   "metadata": {},
   "source": [
    "## 3.5 Output Column : Survived (0 : Dead , 1: Alive)"
   ]
  },
  {
   "cell_type": "code",
   "execution_count": 31,
   "id": "e6af9154",
   "metadata": {},
   "outputs": [],
   "source": [
    "y = df['Survived']"
   ]
  },
  {
   "cell_type": "code",
   "execution_count": 32,
   "id": "29f1feb5",
   "metadata": {},
   "outputs": [
    {
     "data": {
      "text/plain": [
       "0    549\n",
       "1    342\n",
       "Name: Survived, dtype: int64"
      ]
     },
     "execution_count": 32,
     "metadata": {},
     "output_type": "execute_result"
    }
   ],
   "source": [
    "value_counts = df['Survived'].value_counts()\n",
    "value_counts"
   ]
  },
  {
   "cell_type": "code",
   "execution_count": 33,
   "id": "b0184e16",
   "metadata": {},
   "outputs": [
    {
     "data": {
      "image/png": "[encoded data removed]",
      "text/plain": [
       "<Figure size 432x288 with 1 Axes>"
      ]
     },
     "metadata": {},
     "output_type": "display_data"
    }
   ],
   "source": [
    "\n",
    "\n",
    "# Map values to human-readable labels\n",
    "value_labels = {1: 'Alive', 0: 'Dead'}\n",
    "value_counts.index = value_counts.index.map(value_labels)\n",
    "\n",
    "# Create a colored pie chart\n",
    "plt.pie(value_counts, labels=value_counts.index, autopct='%1.1f%%', colors=plt.cm.Paired.colors)\n",
    "\n",
    "# Add a title\n",
    "plt.title(f'Pie Chart for Survived')\n",
    "\n",
    "# Show the plot\n",
    "plt.show()"
   ]
  },
  {
   "cell_type": "code",
   "execution_count": 34,
   "id": "6fc48bb8",
   "metadata": {},
   "outputs": [
    {
     "data": {
      "image/png": "[encoded data removed]",
      "text/plain": [
       "<Figure size 432x288 with 1 Axes>"
      ]
     },
     "metadata": {
      "needs_background": "light"
     },
     "output_type": "display_data"
    }
   ],
   "source": [
    "# Create a colored bar graph\n",
    "plt.bar(value_counts.index, value_counts.values, color=plt.cm.Paired.colors)\n",
    "\n",
    "# Add labels and title\n",
    "plt.xlabel('Status')\n",
    "plt.ylabel('Frequency')\n",
    "plt.title(f'Bar Graph for Survived')\n",
    "\n",
    "# Show the plot\n",
    "plt.show()"
   ]
  },
  {
   "cell_type": "markdown",
   "id": "e9688d48",
   "metadata": {},
   "source": [
    "## 549 people who boarded the titanic couldn't survive.\n",
    "## 342 people survived the Titaninc ."
   ]
  },
  {
   "cell_type": "markdown",
   "id": "7ac0414f",
   "metadata": {},
   "source": [
    "### Step 4 : Separate Output and Input Columns  and Visualise it. \n"
   ]
  },
  {
   "cell_type": "code",
   "execution_count": 36,
   "id": "58aa14d1",
   "metadata": {},
   "outputs": [
    {
     "data": {
      "text/html": [
       "<div>\n",
       "<style scoped>\n",
       "    .dataframe tbody tr th:only-of-type {\n",
       "        vertical-align: middle;\n",
       "    }\n",
       "\n",
       "    .dataframe tbody tr th {\n",
       "        vertical-align: top;\n",
       "    }\n",
       "\n",
       "    .dataframe thead th {\n",
       "        text-align: right;\n",
       "    }\n",
       "</style>\n",
       "<table border=\"1\" class=\"dataframe\">\n",
       "  <thead>\n",
       "    <tr style=\"text-align: right;\">\n",
       "      <th></th>\n",
       "      <th>Pclass</th>\n",
       "      <th>Sex</th>\n",
       "      <th>Age</th>\n",
       "      <th>SibSp</th>\n",
       "      <th>Parch</th>\n",
       "      <th>Fare</th>\n",
       "      <th>Cabin</th>\n",
       "      <th>Embarked</th>\n",
       "      <th>Title</th>\n",
       "    </tr>\n",
       "  </thead>\n",
       "  <tbody>\n",
       "    <tr>\n",
       "      <th>0</th>\n",
       "      <td>3</td>\n",
       "      <td>male</td>\n",
       "      <td>22.0</td>\n",
       "      <td>1</td>\n",
       "      <td>0</td>\n",
       "      <td>7.2500</td>\n",
       "      <td>C</td>\n",
       "      <td>S</td>\n",
       "      <td>Mr</td>\n",
       "    </tr>\n",
       "    <tr>\n",
       "      <th>1</th>\n",
       "      <td>1</td>\n",
       "      <td>female</td>\n",
       "      <td>38.0</td>\n",
       "      <td>1</td>\n",
       "      <td>0</td>\n",
       "      <td>71.2833</td>\n",
       "      <td>C</td>\n",
       "      <td>C</td>\n",
       "      <td>Mrs</td>\n",
       "    </tr>\n",
       "    <tr>\n",
       "      <th>2</th>\n",
       "      <td>3</td>\n",
       "      <td>female</td>\n",
       "      <td>26.0</td>\n",
       "      <td>0</td>\n",
       "      <td>0</td>\n",
       "      <td>7.9250</td>\n",
       "      <td>C</td>\n",
       "      <td>S</td>\n",
       "      <td>Miss</td>\n",
       "    </tr>\n",
       "    <tr>\n",
       "      <th>3</th>\n",
       "      <td>1</td>\n",
       "      <td>female</td>\n",
       "      <td>35.0</td>\n",
       "      <td>1</td>\n",
       "      <td>0</td>\n",
       "      <td>53.1000</td>\n",
       "      <td>C</td>\n",
       "      <td>S</td>\n",
       "      <td>Mrs</td>\n",
       "    </tr>\n",
       "    <tr>\n",
       "      <th>4</th>\n",
       "      <td>3</td>\n",
       "      <td>male</td>\n",
       "      <td>35.0</td>\n",
       "      <td>0</td>\n",
       "      <td>0</td>\n",
       "      <td>8.0500</td>\n",
       "      <td>E</td>\n",
       "      <td>S</td>\n",
       "      <td>Mr</td>\n",
       "    </tr>\n",
       "    <tr>\n",
       "      <th>...</th>\n",
       "      <td>...</td>\n",
       "      <td>...</td>\n",
       "      <td>...</td>\n",
       "      <td>...</td>\n",
       "      <td>...</td>\n",
       "      <td>...</td>\n",
       "      <td>...</td>\n",
       "      <td>...</td>\n",
       "      <td>...</td>\n",
       "    </tr>\n",
       "    <tr>\n",
       "      <th>886</th>\n",
       "      <td>2</td>\n",
       "      <td>male</td>\n",
       "      <td>27.0</td>\n",
       "      <td>0</td>\n",
       "      <td>0</td>\n",
       "      <td>13.0000</td>\n",
       "      <td>D</td>\n",
       "      <td>S</td>\n",
       "      <td>Rev</td>\n",
       "    </tr>\n",
       "    <tr>\n",
       "      <th>887</th>\n",
       "      <td>1</td>\n",
       "      <td>female</td>\n",
       "      <td>19.0</td>\n",
       "      <td>0</td>\n",
       "      <td>0</td>\n",
       "      <td>30.0000</td>\n",
       "      <td>B</td>\n",
       "      <td>S</td>\n",
       "      <td>Miss</td>\n",
       "    </tr>\n",
       "    <tr>\n",
       "      <th>888</th>\n",
       "      <td>3</td>\n",
       "      <td>female</td>\n",
       "      <td>9.6</td>\n",
       "      <td>1</td>\n",
       "      <td>2</td>\n",
       "      <td>23.4500</td>\n",
       "      <td>C</td>\n",
       "      <td>S</td>\n",
       "      <td>Miss</td>\n",
       "    </tr>\n",
       "    <tr>\n",
       "      <th>889</th>\n",
       "      <td>1</td>\n",
       "      <td>male</td>\n",
       "      <td>26.0</td>\n",
       "      <td>0</td>\n",
       "      <td>0</td>\n",
       "      <td>30.0000</td>\n",
       "      <td>C</td>\n",
       "      <td>C</td>\n",
       "      <td>Mr</td>\n",
       "    </tr>\n",
       "    <tr>\n",
       "      <th>890</th>\n",
       "      <td>3</td>\n",
       "      <td>male</td>\n",
       "      <td>32.0</td>\n",
       "      <td>0</td>\n",
       "      <td>0</td>\n",
       "      <td>7.7500</td>\n",
       "      <td>F</td>\n",
       "      <td>Q</td>\n",
       "      <td>Mr</td>\n",
       "    </tr>\n",
       "  </tbody>\n",
       "</table>\n",
       "<p>891 rows × 9 columns</p>\n",
       "</div>"
      ],
      "text/plain": [
       "     Pclass     Sex   Age  SibSp  Parch     Fare Cabin Embarked Title\n",
       "0         3    male  22.0      1      0   7.2500     C        S    Mr\n",
       "1         1  female  38.0      1      0  71.2833     C        C   Mrs\n",
       "2         3  female  26.0      0      0   7.9250     C        S  Miss\n",
       "3         1  female  35.0      1      0  53.1000     C        S   Mrs\n",
       "4         3    male  35.0      0      0   8.0500     E        S    Mr\n",
       "..      ...     ...   ...    ...    ...      ...   ...      ...   ...\n",
       "886       2    male  27.0      0      0  13.0000     D        S   Rev\n",
       "887       1  female  19.0      0      0  30.0000     B        S  Miss\n",
       "888       3  female   9.6      1      2  23.4500     C        S  Miss\n",
       "889       1    male  26.0      0      0  30.0000     C        C    Mr\n",
       "890       3    male  32.0      0      0   7.7500     F        Q    Mr\n",
       "\n",
       "[891 rows x 9 columns]"
      ]
     },
     "execution_count": 36,
     "metadata": {},
     "output_type": "execute_result"
    }
   ],
   "source": [
    "X = df.drop(columns='Survived')\n",
    "X"
   ]
  },
  {
   "cell_type": "code",
   "execution_count": 37,
   "id": "14129e61",
   "metadata": {},
   "outputs": [
    {
     "data": {
      "image/png": "[encoded data removed]",
      "text/plain": [
       "<Figure size 432x288 with 1 Axes>"
      ]
     },
     "metadata": {
      "needs_background": "light"
     },
     "output_type": "display_data"
    },
    {
     "data": {
      "image/png": "[encoded data removed]",
      "text/plain": [
       "<Figure size 432x288 with 1 Axes>"
      ]
     },
     "metadata": {
      "needs_background": "light"
     },
     "output_type": "display_data"
    },
    {
     "data": {
      "image/png": "[encoded data removed]",
      "text/plain": [
       "<Figure size 432x288 with 1 Axes>"
      ]
     },
     "metadata": {
      "needs_background": "light"
     },
     "output_type": "display_data"
    },
    {
     "data": {
      "image/png": "[encoded data removed]",
      "text/plain": [
       "<Figure size 432x288 with 1 Axes>"
      ]
     },
     "metadata": {
      "needs_background": "light"
     },
     "output_type": "display_data"
    },
    {
     "data": {
      "image/png": "[encoded data removed]",
      "text/plain": [
       "<Figure size 432x288 with 1 Axes>"
      ]
     },
     "metadata": {
      "needs_background": "light"
     },
     "output_type": "display_data"
    },
    {
     "data": {
      "image/png": "[encoded data removed]",
      "text/plain": [
       "<Figure size 432x288 with 1 Axes>"
      ]
     },
     "metadata": {
      "needs_background": "light"
     },
     "output_type": "display_data"
    },
    {
     "data": {
      "image/png": "[encoded data removed]",
      "text/plain": [
       "<Figure size 432x288 with 1 Axes>"
      ]
     },
     "metadata": {
      "needs_background": "light"
     },
     "output_type": "display_data"
    },
    {
     "data": {
      "image/png": "[encoded data removed]",
      "text/plain": [
       "<Figure size 432x288 with 1 Axes>"
      ]
     },
     "metadata": {
      "needs_background": "light"
     },
     "output_type": "display_data"
    },
    {
     "data": {
      "image/png": "[encoded data removed]",
      "text/plain": [
       "<Figure size 432x288 with 1 Axes>"
      ]
     },
     "metadata": {
      "needs_background": "light"
     },
     "output_type": "display_data"
    }
   ],
   "source": [
    "# Loop through each categorical column\n",
    "for col in X.columns:\n",
    "    # Calculate the frequency of each category in the column\n",
    "    value_counts = X[col].value_counts()\n",
    "    \n",
    "    # Create a bar graph for the current column\n",
    "    plt.bar(value_counts.index, value_counts.values, color=plt.cm.Paired.colors)\n",
    "    \n",
    "    # Add labels and title\n",
    "    plt.xlabel('Categories')\n",
    "    plt.ylabel('Frequency')\n",
    "    plt.title(f'Bar Graph for {col}')\n",
    "    \n",
    "    # Rotate x-axis labels for better readability\n",
    "    plt.xticks(rotation=45)\n",
    "    \n",
    "    # Show the plot\n",
    "    plt.show()"
   ]
  },
  {
   "cell_type": "markdown",
   "id": "c4515206",
   "metadata": {},
   "source": [
    "## Sex s Vs Survived \n"
   ]
  },
  {
   "cell_type": "code",
   "execution_count": 38,
   "id": "d7ae978c",
   "metadata": {},
   "outputs": [
    {
     "data": {
      "text/plain": [
       "<AxesSubplot:ylabel='Sex'>"
      ]
     },
     "execution_count": 38,
     "metadata": {},
     "output_type": "execute_result"
    },
    {
     "data": {
      "image/png": "[encoded data removed]",
      "text/plain": [
       "<Figure size 432x288 with 1 Axes>"
      ]
     },
     "metadata": {},
     "output_type": "display_data"
    }
   ],
   "source": [
    "df['Sex'].value_counts().plot.pie(autopct='%1.1f%%',shadow=True, cmap='Set3')"
   ]
  },
  {
   "cell_type": "code",
   "execution_count": 39,
   "id": "1a2afe29",
   "metadata": {},
   "outputs": [
    {
     "data": {
      "text/plain": [
       "<Figure size 720x432 with 0 Axes>"
      ]
     },
     "metadata": {},
     "output_type": "display_data"
    },
    {
     "data": {
      "image/png": "[encoded data removed]",
      "text/plain": [
       "<Figure size 432x288 with 1 Axes>"
      ]
     },
     "metadata": {
      "needs_background": "light"
     },
     "output_type": "display_data"
    }
   ],
   "source": [
    "# Create a pivot table to count the frequency of each feature value based on the output\n",
    "pivot_table = df.groupby([y, X['Sex']]).size().unstack()\n",
    "\n",
    "# Create a stacked bar plot using seaborn\n",
    "plt.figure(figsize=(10, 6))  # Adjust the figure size if needed\n",
    "sns.set_palette(\"pastel\")\n",
    "pivot_table.plot(kind='bar', stacked=True)\n",
    "\n",
    "# Add labels and title\n",
    "plt.xlabel('Survived')\n",
    "plt.ylabel('Frequency')\n",
    "plt.title(f'Stacked Bar Plot: Frequency of Sex by Survived')\n",
    "\n",
    "# Show the plot\n",
    "plt.legend(title= 'Sex')\n",
    "plt.show()"
   ]
  },
  {
   "cell_type": "markdown",
   "id": "f5c4db2a",
   "metadata": {},
   "source": [
    "## From above it can be easily infered More females Survivded than Males. "
   ]
  },
  {
   "cell_type": "markdown",
   "id": "cf2bb10c",
   "metadata": {},
   "source": [
    "## Pclass Vs Survived "
   ]
  },
  {
   "cell_type": "code",
   "execution_count": 40,
   "id": "bac25be7",
   "metadata": {},
   "outputs": [
    {
     "data": {
      "text/plain": [
       "<AxesSubplot:ylabel='Pclass'>"
      ]
     },
     "execution_count": 40,
     "metadata": {},
     "output_type": "execute_result"
    },
    {
     "data": {
      "image/png": "[encoded data removed]",
      "text/plain": [
       "<Figure size 432x288 with 1 Axes>"
      ]
     },
     "metadata": {},
     "output_type": "display_data"
    }
   ],
   "source": [
    "df['Pclass'].value_counts().plot.pie(autopct='%1.1f%%',shadow=True, cmap='Set3')"
   ]
  },
  {
   "cell_type": "code",
   "execution_count": 41,
   "id": "4b9d856f",
   "metadata": {},
   "outputs": [
    {
     "data": {
      "text/plain": [
       "<Figure size 720x432 with 0 Axes>"
      ]
     },
     "metadata": {},
     "output_type": "display_data"
    },
    {
     "data": {
      "image/png": "[encoded data removed]",
      "text/plain": [
       "<Figure size 432x288 with 1 Axes>"
      ]
     },
     "metadata": {
      "needs_background": "light"
     },
     "output_type": "display_data"
    }
   ],
   "source": [
    "# Create a pivot table to count the frequency of each feature value based on the output\n",
    "pivot_table = df.groupby([y, X['Pclass']]).size().unstack()\n",
    "\n",
    "# Create a stacked bar plot using seaborn\n",
    "plt.figure(figsize=(10, 6))  # Adjust the figure size if needed\n",
    "sns.set_palette(\"pastel\")\n",
    "pivot_table.plot(kind='bar', stacked=True)\n",
    "\n",
    "# Add labels and title\n",
    "plt.xlabel('Survived')\n",
    "plt.ylabel('Frequency')\n",
    "plt.title(f'Stacked Bar Plot: Frequency of Pclass by Survived')\n",
    "\n",
    "# Show the plot\n",
    "plt.legend(title= 'Pclass')\n",
    "plt.show()"
   ]
  },
  {
   "cell_type": "code",
   "execution_count": 42,
   "id": "ffd9b753",
   "metadata": {},
   "outputs": [
    {
     "data": {
      "text/html": [
       "<style type=\"text/css\">\n",
       "</style>\n",
       "<table id=\"T_915ac_\">\n",
       "  <thead>\n",
       "    <tr>\n",
       "      <th class=\"blank\" >&nbsp;</th>\n",
       "      <th class=\"index_name level0\" >Pclass</th>\n",
       "      <th class=\"col_heading level0 col0\" >1</th>\n",
       "      <th class=\"col_heading level0 col1\" >2</th>\n",
       "      <th class=\"col_heading level0 col2\" >3</th>\n",
       "      <th class=\"col_heading level0 col3\" >All</th>\n",
       "    </tr>\n",
       "    <tr>\n",
       "      <th class=\"index_name level0\" >Sex</th>\n",
       "      <th class=\"index_name level1\" >Survived</th>\n",
       "      <th class=\"blank col0\" >&nbsp;</th>\n",
       "      <th class=\"blank col1\" >&nbsp;</th>\n",
       "      <th class=\"blank col2\" >&nbsp;</th>\n",
       "      <th class=\"blank col3\" >&nbsp;</th>\n",
       "    </tr>\n",
       "  </thead>\n",
       "  <tbody>\n",
       "    <tr>\n",
       "      <th id=\"T_915ac_level0_row0\" class=\"row_heading level0 row0\" rowspan=\"2\">female</th>\n",
       "      <th id=\"T_915ac_level1_row0\" class=\"row_heading level1 row0\" >0</th>\n",
       "      <td id=\"T_915ac_row0_col0\" class=\"data row0 col0\" >3</td>\n",
       "      <td id=\"T_915ac_row0_col1\" class=\"data row0 col1\" >6</td>\n",
       "      <td id=\"T_915ac_row0_col2\" class=\"data row0 col2\" >72</td>\n",
       "      <td id=\"T_915ac_row0_col3\" class=\"data row0 col3\" >81</td>\n",
       "    </tr>\n",
       "    <tr>\n",
       "      <th id=\"T_915ac_level1_row1\" class=\"row_heading level1 row1\" >1</th>\n",
       "      <td id=\"T_915ac_row1_col0\" class=\"data row1 col0\" >91</td>\n",
       "      <td id=\"T_915ac_row1_col1\" class=\"data row1 col1\" >70</td>\n",
       "      <td id=\"T_915ac_row1_col2\" class=\"data row1 col2\" >72</td>\n",
       "      <td id=\"T_915ac_row1_col3\" class=\"data row1 col3\" >233</td>\n",
       "    </tr>\n",
       "    <tr>\n",
       "      <th id=\"T_915ac_level0_row2\" class=\"row_heading level0 row2\" rowspan=\"2\">male</th>\n",
       "      <th id=\"T_915ac_level1_row2\" class=\"row_heading level1 row2\" >0</th>\n",
       "      <td id=\"T_915ac_row2_col0\" class=\"data row2 col0\" >77</td>\n",
       "      <td id=\"T_915ac_row2_col1\" class=\"data row2 col1\" >91</td>\n",
       "      <td id=\"T_915ac_row2_col2\" class=\"data row2 col2\" >300</td>\n",
       "      <td id=\"T_915ac_row2_col3\" class=\"data row2 col3\" >468</td>\n",
       "    </tr>\n",
       "    <tr>\n",
       "      <th id=\"T_915ac_level1_row3\" class=\"row_heading level1 row3\" >1</th>\n",
       "      <td id=\"T_915ac_row3_col0\" class=\"data row3 col0\" >45</td>\n",
       "      <td id=\"T_915ac_row3_col1\" class=\"data row3 col1\" >17</td>\n",
       "      <td id=\"T_915ac_row3_col2\" class=\"data row3 col2\" >47</td>\n",
       "      <td id=\"T_915ac_row3_col3\" class=\"data row3 col3\" >109</td>\n",
       "    </tr>\n",
       "    <tr>\n",
       "      <th id=\"T_915ac_level0_row4\" class=\"row_heading level0 row4\" >All</th>\n",
       "      <th id=\"T_915ac_level1_row4\" class=\"row_heading level1 row4\" ></th>\n",
       "      <td id=\"T_915ac_row4_col0\" class=\"data row4 col0\" >216</td>\n",
       "      <td id=\"T_915ac_row4_col1\" class=\"data row4 col1\" >184</td>\n",
       "      <td id=\"T_915ac_row4_col2\" class=\"data row4 col2\" >491</td>\n",
       "      <td id=\"T_915ac_row4_col3\" class=\"data row4 col3\" >891</td>\n",
       "    </tr>\n",
       "  </tbody>\n",
       "</table>\n"
      ],
      "text/plain": [
       "<pandas.io.formats.style.Styler at 0x7ff525366a60>"
      ]
     },
     "execution_count": 42,
     "metadata": {},
     "output_type": "execute_result"
    }
   ],
   "source": [
    "# Also Check for Sex , Pclass and Survived . \n",
    "\n",
    "pd.crosstab([df.Sex,df.Survived],df.Pclass,margins=True).style"
   ]
  },
  {
   "cell_type": "code",
   "execution_count": 43,
   "id": "2e5129c3",
   "metadata": {},
   "outputs": [
    {
     "name": "stderr",
     "output_type": "stream",
     "text": [
      "/Users/sneha/opt/anaconda3/lib/python3.9/site-packages/seaborn/categorical.py:3717: UserWarning: The `factorplot` function has been renamed to `catplot`. The original name will be removed in a future release. Please update your code. Note that the default `kind` in `factorplot` (`'point'`) has changed `'strip'` in `catplot`.\n",
      "  warnings.warn(msg)\n",
      "/Users/sneha/opt/anaconda3/lib/python3.9/site-packages/seaborn/_decorators.py:36: FutureWarning: Pass the following variables as keyword args: x, y. From version 0.12, the only valid positional argument will be `data`, and passing other arguments without an explicit keyword will result in an error or misinterpretation.\n",
      "  warnings.warn(\n"
     ]
    },
    {
     "data": {
      "image/png": "[encoded data removed]",
      "text/plain": [
       "<Figure size 430.5x360 with 1 Axes>"
      ]
     },
     "metadata": {
      "needs_background": "light"
     },
     "output_type": "display_data"
    }
   ],
   "source": [
    "sns.factorplot('Pclass','Survived',hue='Sex',data=df, palette='Set2')\n",
    "plt.show()"
   ]
  },
  {
   "cell_type": "markdown",
   "id": "eb73cd2d",
   "metadata": {},
   "source": [
    "## Females in Pclass 1 are more likely to survive than females in P class 3.\n",
    "## Survival Rate for Pclass = 1 is more, Death rate for Pclass= 3 is more. "
   ]
  },
  {
   "cell_type": "markdown",
   "id": "77e8ea3e",
   "metadata": {},
   "source": [
    "## SibSp vs Survived"
   ]
  },
  {
   "cell_type": "code",
   "execution_count": 44,
   "id": "1964c479",
   "metadata": {},
   "outputs": [
    {
     "data": {
      "text/plain": [
       "<Figure size 720x432 with 0 Axes>"
      ]
     },
     "metadata": {},
     "output_type": "display_data"
    },
    {
     "data": {
      "image/png": "[encoded data removed]",
      "text/plain": [
       "<Figure size 432x288 with 1 Axes>"
      ]
     },
     "metadata": {
      "needs_background": "light"
     },
     "output_type": "display_data"
    }
   ],
   "source": [
    "# Create a pivot table to count the frequency of each feature value based on the output\n",
    "pivot_table = df.groupby([y, X['SibSp']]).size().unstack()\n",
    "\n",
    "# Create a stacked bar plot using seaborn\n",
    "plt.figure(figsize=(10, 6))  # Adjust the figure size if needed\n",
    "sns.set_palette(\"pastel\")\n",
    "pivot_table.plot(kind='bar', stacked=True)\n",
    "\n",
    "# Add labels and title\n",
    "plt.xlabel('Survived')\n",
    "plt.ylabel('Frequency')\n",
    "plt.title(f'Stacked Bar Plot: Frequency of SibSp by Survived')\n",
    "\n",
    "# Show the plot\n",
    "plt.legend(title= 'SibSp')\n",
    "plt.show()"
   ]
  },
  {
   "cell_type": "markdown",
   "id": "433f9480",
   "metadata": {},
   "source": [
    "## People with 1 or more siblings or spouses are more likely to survive.\n",
    "## People with no fam are more likely to die. \n",
    "## One thing that can be infered is Sibsp with value == 8 , ALL DIED. "
   ]
  },
  {
   "cell_type": "markdown",
   "id": "398ace25",
   "metadata": {},
   "source": [
    "## Parch Vs Survived "
   ]
  },
  {
   "cell_type": "code",
   "execution_count": 45,
   "id": "c26f02a7",
   "metadata": {},
   "outputs": [
    {
     "data": {
      "text/plain": [
       "<Figure size 720x432 with 0 Axes>"
      ]
     },
     "metadata": {},
     "output_type": "display_data"
    },
    {
     "data": {
      "image/png": "[encoded data removed]",
      "text/plain": [
       "<Figure size 432x288 with 1 Axes>"
      ]
     },
     "metadata": {
      "needs_background": "light"
     },
     "output_type": "display_data"
    }
   ],
   "source": [
    "# Create a pivot table to count the frequency of each feature value based on the output\n",
    "pivot_table = df.groupby([y, X['Parch']]).size().unstack()\n",
    "\n",
    "# Create a stacked bar plot using seaborn\n",
    "plt.figure(figsize=(10, 6))  # Adjust the figure size if needed\n",
    "sns.set_palette(\"pastel\")\n",
    "pivot_table.plot(kind='bar', stacked=True)\n",
    "\n",
    "# Add labels and title\n",
    "plt.xlabel('Survived')\n",
    "plt.ylabel('Frequency')\n",
    "plt.title(f'Stacked Bar Plot: Frequency of Parch by Survived')\n",
    "\n",
    "# Show the plot\n",
    "plt.legend(title= 'Parch')\n",
    "plt.show()"
   ]
  },
  {
   "cell_type": "markdown",
   "id": "474c1840",
   "metadata": {},
   "source": [
    "## People with More than 0 Parch more likely to survive. \n",
    "## People with 0 Parch less likely to survive. "
   ]
  },
  {
   "cell_type": "markdown",
   "id": "be9cdcf8",
   "metadata": {},
   "source": [
    "## Embarked Vs Survived "
   ]
  },
  {
   "cell_type": "code",
   "execution_count": 46,
   "id": "c8308df0",
   "metadata": {},
   "outputs": [
    {
     "data": {
      "text/plain": [
       "<Figure size 720x432 with 0 Axes>"
      ]
     },
     "metadata": {},
     "output_type": "display_data"
    },
    {
     "data": {
      "image/png": "[encoded data removed]",
      "text/plain": [
       "<Figure size 432x288 with 1 Axes>"
      ]
     },
     "metadata": {
      "needs_background": "light"
     },
     "output_type": "display_data"
    }
   ],
   "source": [
    "# Create a pivot table to count the frequency of each feature value based on the output\n",
    "pivot_table = df.groupby([y, X['Embarked']]).size().unstack()\n",
    "\n",
    "# Create a stacked bar plot using seaborn\n",
    "plt.figure(figsize=(10, 6))  # Adjust the figure size if needed\n",
    "sns.set_palette(\"pastel\")\n",
    "pivot_table.plot(kind='bar', stacked=True)\n",
    "\n",
    "# Add labels and title\n",
    "plt.xlabel('Survived')\n",
    "plt.ylabel('Frequency')\n",
    "plt.title(f'Stacked Bar Plot: Frequency of Embarked by Survived')\n",
    "\n",
    "# Show the plot\n",
    "plt.legend(title= 'Embarked')\n",
    "plt.show()"
   ]
  },
  {
   "cell_type": "markdown",
   "id": "ed48c479",
   "metadata": {},
   "source": [
    "## People with Embarked < 2 are more likely to survive. \n",
    "embarked: Port of Embarkation C/0 = Cherbourg, Q/1 = Queenstown, S/2 = Southampton \n",
    "\n",
    "People Boarding From C more likely to survive. \n",
    "\n",
    "People Boarding From S more likely to be dead. "
   ]
  },
  {
   "cell_type": "markdown",
   "id": "fd73da1c",
   "metadata": {},
   "source": [
    "## Title Vs Survived"
   ]
  },
  {
   "cell_type": "code",
   "execution_count": 47,
   "id": "e0567ad5",
   "metadata": {},
   "outputs": [
    {
     "data": {
      "text/plain": [
       "<Figure size 720x432 with 0 Axes>"
      ]
     },
     "metadata": {},
     "output_type": "display_data"
    },
    {
     "data": {
      "image/png": "[encoded data removed]",
      "text/plain": [
       "<Figure size 432x288 with 1 Axes>"
      ]
     },
     "metadata": {
      "needs_background": "light"
     },
     "output_type": "display_data"
    }
   ],
   "source": [
    "# Create a pivot table to count the frequency of each feature value based on the output\n",
    "pivot_table = df.groupby([y, X['Title']]).size().unstack()\n",
    "\n",
    "# Create a stacked bar plot using seaborn\n",
    "plt.figure(figsize=(10, 6))  # Adjust the figure size if needed\n",
    "sns.set_palette(\"pastel\")\n",
    "pivot_table.plot(kind='bar', stacked=True)\n",
    "\n",
    "# Add labels and title\n",
    "plt.xlabel('Survived')\n",
    "plt.ylabel('Frequency')\n",
    "plt.title(f'Stacked Bar Plot: Frequency of Title by Survived')\n",
    "\n",
    "# Show the plot\n",
    "plt.legend(title= 'Title')\n",
    "plt.show()"
   ]
  },
  {
   "cell_type": "markdown",
   "id": "87b1814d",
   "metadata": {},
   "source": [
    "## Age Vs Survived"
   ]
  },
  {
   "cell_type": "code",
   "execution_count": 48,
   "id": "d73299a6",
   "metadata": {},
   "outputs": [
    {
     "data": {
      "image/png": "[encoded data removed]",
      "text/plain": [
       "<Figure size 699.875x432 with 1 Axes>"
      ]
     },
     "metadata": {
      "needs_background": "light"
     },
     "output_type": "display_data"
    }
   ],
   "source": [
    "# Create a plot using Seaborn\n",
    "# Create a plot using Seaborn displot\n",
    "g = sns.displot(data=df, x='Age', hue='Survived', multiple='stack', bins=5, height=6, aspect=1.5)\n",
    "g.set(title='Frequency Distribution of Age by Survived')\n",
    "g.set_axis_labels('Age', 'Frequency')\n",
    "\n",
    "plt.show()"
   ]
  },
  {
   "cell_type": "code",
   "execution_count": 49,
   "id": "5c06c430",
   "metadata": {},
   "outputs": [
    {
     "data": {
      "image/png": "[encoded data removed]",
      "text/plain": [
       "<Figure size 720x432 with 1 Axes>"
      ]
     },
     "metadata": {
      "needs_background": "light"
     },
     "output_type": "display_data"
    }
   ],
   "source": [
    "# Create a KDE plot using Seaborn\n",
    "plt.figure(figsize=(10, 6))\n",
    "sns.kdeplot(data=df, x='Age', hue='Survived', common_norm=False, fill=True)\n",
    "plt.title('KDE Plot of Age by Output Variable')\n",
    "plt.xlabel('Age')\n",
    "plt.ylabel('Density')\n",
    "\n",
    "\n",
    "plt.show()"
   ]
  },
  {
   "cell_type": "markdown",
   "id": "890d5d00",
   "metadata": {},
   "source": [
    "## Age group between 18-32 are more likely to survive. \n",
    "## Almost half of children survived.\n",
    "## No one aobe 60 survived. "
   ]
  },
  {
   "cell_type": "markdown",
   "id": "f2fbd23f",
   "metadata": {},
   "source": [
    "## Fare Vs Survived"
   ]
  },
  {
   "cell_type": "code",
   "execution_count": 50,
   "id": "614b1f99",
   "metadata": {},
   "outputs": [
    {
     "data": {
      "image/png": "[encoded data removed]",
      "text/plain": [
       "<Figure size 699.875x432 with 1 Axes>"
      ]
     },
     "metadata": {
      "needs_background": "light"
     },
     "output_type": "display_data"
    }
   ],
   "source": [
    "# Create a plot using Seaborn\n",
    "# Create a plot using Seaborn displot\n",
    "g = sns.displot(data=df, x='Fare', hue='Survived', multiple='stack', bins=50, height=6, aspect=1.5)\n",
    "g.set(title='Frequency Distribution of Fare by Survived')\n",
    "g.set_axis_labels('Fare', 'Frequency')\n",
    "\n",
    "plt.show()"
   ]
  },
  {
   "cell_type": "code",
   "execution_count": 51,
   "id": "77f70cee",
   "metadata": {},
   "outputs": [
    {
     "data": {
      "image/png": "[encoded data removed]",
      "text/plain": [
       "<Figure size 720x432 with 1 Axes>"
      ]
     },
     "metadata": {
      "needs_background": "light"
     },
     "output_type": "display_data"
    }
   ],
   "source": [
    "# Create a KDE plot using Seaborn\n",
    "plt.figure(figsize=(10, 6))\n",
    "sns.kdeplot(data=df, x='Fare', hue='Survived', common_norm=False, fill=True)\n",
    "plt.title('KDE Plot of Fare by Survived')\n",
    "plt.xlabel('Fare')\n",
    "plt.ylabel('Density')\n",
    "\n",
    "\n",
    "plt.show()"
   ]
  },
  {
   "cell_type": "markdown",
   "id": "d13b612a",
   "metadata": {},
   "source": [
    "## Ticket with highest value 500! Did Survive. \n",
    "## Tickets which is of the cheapest value are more likely to die. \n",
    "## Tickets which are expensive are more likely to survive. "
   ]
  },
  {
   "cell_type": "markdown",
   "id": "bb74e9ae",
   "metadata": {},
   "source": [
    "## Step 5:  Label Encoding  Converting Object Vlaues to Categroical values (BInary)"
   ]
  },
  {
   "cell_type": "code",
   "execution_count": 52,
   "id": "b4885381",
   "metadata": {},
   "outputs": [],
   "source": [
    "cols = 'Sex','Cabin','Embarked','Title'\n",
    "from sklearn.preprocessing import LabelEncoder\n",
    "\n",
    "\n",
    "# Initialize the LabelEncoder\n",
    "label_encoder = LabelEncoder()\n",
    "\n",
    "# Loop through each object column and perform label encoding\n",
    "for column in cols:\n",
    "    df[column] = label_encoder.fit_transform(df[column])\n",
    "\n",
    "# Now, the object columns have been converted to integer type"
   ]
  },
  {
   "cell_type": "markdown",
   "id": "aff3cfd9",
   "metadata": {},
   "source": [
    "## STep 6 : Sorting Float variables to Integer Variables. "
   ]
  },
  {
   "cell_type": "code",
   "execution_count": 53,
   "id": "e0600779",
   "metadata": {},
   "outputs": [],
   "source": [
    "\n",
    "float_columns = df.select_dtypes(include=\"float\")\n",
    "for col in float_columns:\n",
    "    df[col] = df[col].astype(int)"
   ]
  },
  {
   "cell_type": "markdown",
   "id": "5b94c58d",
   "metadata": {},
   "source": [
    "## STep 7 : Understanding Cor-relation between Features and Out put variable "
   ]
  },
  {
   "cell_type": "code",
   "execution_count": 55,
   "id": "eda463aa",
   "metadata": {},
   "outputs": [
    {
     "data": {
      "image/png": "[encoded data removed]",
      "text/plain": [
       "<Figure size 720x576 with 2 Axes>"
      ]
     },
     "metadata": {
      "needs_background": "light"
     },
     "output_type": "display_data"
    }
   ],
   "source": [
    "# Compute the correlation matrix\n",
    "correlation_matrix = df.corr()\n",
    "\n",
    "# Create a heatmap using Seaborn\n",
    "plt.figure(figsize=(10, 8))\n",
    "sns.heatmap(correlation_matrix, annot=True, cmap='coolwarm')\n",
    "plt.title('Correlation Heatmap')\n",
    "plt.show()"
   ]
  },
  {
   "cell_type": "markdown",
   "id": "d9967d13",
   "metadata": {},
   "source": [
    "## Visualise the follwing features Vs Output \n",
    "\n",
    "Group 1 : Survived + Age + Sex \n",
    "Group 2 : Survived + Age + Pclass\n",
    "Group 3 : Survived + Sex + SibSp/Parch     "
   ]
  },
  {
   "cell_type": "markdown",
   "id": "735f412d",
   "metadata": {},
   "source": [
    "## Group 1 : Survived + Age + Sex "
   ]
  },
  {
   "cell_type": "code",
   "execution_count": 56,
   "id": "239f6379",
   "metadata": {},
   "outputs": [],
   "source": [
    "from tabulate import tabulate"
   ]
  },
  {
   "cell_type": "code",
   "execution_count": 57,
   "id": "050ed6db",
   "metadata": {},
   "outputs": [
    {
     "name": "stdout",
     "output_type": "stream",
     "text": [
      "+---------+-----+-----+\n",
      "|         |   0 |   1 |\n",
      "+=========+=====+=====+\n",
      "| (0, 0)  |   0 |   2 |\n",
      "+---------+-----+-----+\n",
      "| (0, 1)  |   0 |   2 |\n",
      "+---------+-----+-----+\n",
      "| (0, 2)  |   4 |   2 |\n",
      "+---------+-----+-----+\n",
      "| (0, 3)  |   1 |   1 |\n",
      "+---------+-----+-----+\n",
      "| (0, 4)  |   0 |   5 |\n",
      "+---------+-----+-----+\n",
      "| (0, 5)  |   3 |   4 |\n",
      "+---------+-----+-----+\n",
      "| (0, 6)  |   1 |   1 |\n",
      "+---------+-----+-----+\n",
      "| (0, 7)  |   0 |   1 |\n",
      "+---------+-----+-----+\n",
      "| (0, 8)  |   1 |   1 |\n",
      "+---------+-----+-----+\n",
      "| (0, 9)  |   5 |   0 |\n",
      "+---------+-----+-----+\n",
      "| (0, 10) |   1 |   0 |\n",
      "+---------+-----+-----+\n",
      "| (0, 11) |   1 |   0 |\n",
      "+---------+-----+-----+\n",
      "| (0, 12) |   0 |   1 |\n",
      "+---------+-----+-----+\n",
      "| (0, 13) |   3 |   2 |\n",
      "+---------+-----+-----+\n",
      "| (0, 14) |   2 |   3 |\n",
      "+---------+-----+-----+\n",
      "| (0, 15) |   1 |   4 |\n",
      "+---------+-----+-----+\n",
      "| (0, 16) |   1 |   5 |\n",
      "+---------+-----+-----+\n",
      "| (0, 17) |   1 |   5 |\n",
      "+---------+-----+-----+\n",
      "| (0, 18) |   5 |   9 |\n",
      "+---------+-----+-----+\n",
      "| (0, 19) |   0 |   7 |\n",
      "+---------+-----+-----+\n",
      "| (0, 20) |   2 |   0 |\n",
      "+---------+-----+-----+\n",
      "| (0, 21) |   3 |   4 |\n",
      "+---------+-----+-----+\n",
      "| (0, 22) |   2 |  10 |\n",
      "+---------+-----+-----+\n",
      "| (0, 23) |   1 |   4 |\n",
      "+---------+-----+-----+\n",
      "| (0, 24) |   2 |  14 |\n",
      "+---------+-----+-----+\n",
      "| (0, 25) |   3 |   2 |\n",
      "+---------+-----+-----+\n",
      "| (0, 26) |   2 |   3 |\n",
      "+---------+-----+-----+\n",
      "| (0, 27) |   6 |  22 |\n",
      "+---------+-----+-----+\n",
      "| (0, 28) |   3 |   8 |\n",
      "+---------+-----+-----+\n",
      "| (0, 29) |   3 |   6 |\n",
      "+---------+-----+-----+\n",
      "| (0, 30) |   3 |   9 |\n",
      "+---------+-----+-----+\n",
      "| (0, 31) |   2 |   5 |\n",
      "+---------+-----+-----+\n",
      "| (0, 32) |   2 |  12 |\n",
      "+---------+-----+-----+\n",
      "| (0, 33) |   0 |   6 |\n",
      "+---------+-----+-----+\n",
      "| (0, 34) |   0 |   4 |\n",
      "+---------+-----+-----+\n",
      "| (0, 35) |   0 |   8 |\n",
      "+---------+-----+-----+\n",
      "| (0, 36) |   0 |   7 |\n",
      "+---------+-----+-----+\n",
      "| (0, 37) |   1 |   0 |\n",
      "+---------+-----+-----+\n",
      "| (0, 38) |   1 |   4 |\n",
      "+---------+-----+-----+\n",
      "| (0, 39) |   2 |   4 |\n",
      "+---------+-----+-----+\n",
      "| (0, 40) |   1 |   6 |\n",
      "+---------+-----+-----+\n",
      "| (0, 41) |   3 |   5 |\n",
      "+---------+-----+-----+\n",
      "| (0, 42) |   0 |   3 |\n",
      "+---------+-----+-----+\n",
      "| (0, 43) |   1 |   1 |\n",
      "+---------+-----+-----+\n",
      "| (0, 44) |   1 |   2 |\n",
      "+---------+-----+-----+\n",
      "| (0, 45) |   3 |   3 |\n",
      "+---------+-----+-----+\n",
      "| (0, 47) |   1 |   1 |\n",
      "+---------+-----+-----+\n",
      "| (0, 48) |   1 |   3 |\n",
      "+---------+-----+-----+\n",
      "| (0, 49) |   0 |   2 |\n",
      "+---------+-----+-----+\n",
      "| (0, 50) |   1 |   4 |\n",
      "+---------+-----+-----+\n",
      "| (0, 51) |   0 |   1 |\n",
      "+---------+-----+-----+\n",
      "| (0, 52) |   0 |   2 |\n",
      "+---------+-----+-----+\n",
      "| (0, 53) |   0 |   1 |\n",
      "+---------+-----+-----+\n",
      "| (0, 54) |   0 |   3 |\n",
      "+---------+-----+-----+\n",
      "| (0, 55) |   0 |   1 |\n",
      "+---------+-----+-----+\n",
      "| (0, 56) |   0 |   1 |\n",
      "+---------+-----+-----+\n",
      "| (0, 57) |   1 |   0 |\n",
      "+---------+-----+-----+\n",
      "| (0, 58) |   0 |   3 |\n",
      "+---------+-----+-----+\n",
      "| (0, 60) |   0 |   1 |\n",
      "+---------+-----+-----+\n",
      "| (0, 62) |   0 |   1 |\n",
      "+---------+-----+-----+\n",
      "| (0, 63) |   0 |   2 |\n",
      "+---------+-----+-----+\n",
      "| (1, 0)  |   0 |   5 |\n",
      "+---------+-----+-----+\n",
      "| (1, 1)  |   2 |   3 |\n",
      "+---------+-----+-----+\n",
      "| (1, 2)  |   4 |   1 |\n",
      "+---------+-----+-----+\n",
      "| (1, 3)  |   0 |   6 |\n",
      "+---------+-----+-----+\n",
      "| (1, 4)  |   3 |   2 |\n",
      "+---------+-----+-----+\n",
      "| (1, 5)  |   1 |   0 |\n",
      "+---------+-----+-----+\n",
      "| (1, 6)  |   0 |   1 |\n",
      "+---------+-----+-----+\n",
      "| (1, 7)  |   2 |   0 |\n",
      "+---------+-----+-----+\n",
      "| (1, 8)  |   1 |   1 |\n",
      "+---------+-----+-----+\n",
      "| (1, 9)  |   2 |   2 |\n",
      "+---------+-----+-----+\n",
      "| (1, 10) |   1 |   0 |\n",
      "+---------+-----+-----+\n",
      "| (1, 11) |   2 |   1 |\n",
      "+---------+-----+-----+\n",
      "| (1, 12) |   0 |   1 |\n",
      "+---------+-----+-----+\n",
      "| (1, 14) |   2 |   0 |\n",
      "+---------+-----+-----+\n",
      "| (1, 15) |   1 |   0 |\n",
      "+---------+-----+-----+\n",
      "| (1, 16) |  10 |   1 |\n",
      "+---------+-----+-----+\n",
      "| (1, 17) |   6 |   1 |\n",
      "+---------+-----+-----+\n",
      "| (1, 18) |  12 |   1 |\n",
      "+---------+-----+-----+\n",
      "| (1, 19) |  16 |   2 |\n",
      "+---------+-----+-----+\n",
      "| (1, 20) |  11 |   3 |\n",
      "+---------+-----+-----+\n",
      "| (1, 21) |  16 |   1 |\n",
      "+---------+-----+-----+\n",
      "| (1, 22) |  14 |   1 |\n",
      "+---------+-----+-----+\n",
      "| (1, 23) |  10 |   1 |\n",
      "+---------+-----+-----+\n",
      "| (1, 24) |  14 |   1 |\n",
      "+---------+-----+-----+\n",
      "| (1, 25) |  14 |   4 |\n",
      "+---------+-----+-----+\n",
      "| (1, 26) |  10 |   3 |\n",
      "+---------+-----+-----+\n",
      "| (1, 27) |   7 |   7 |\n",
      "+---------+-----+-----+\n",
      "| (1, 28) |  18 |   2 |\n",
      "+---------+-----+-----+\n",
      "| (1, 29) |  10 |   3 |\n",
      "+---------+-----+-----+\n",
      "| (1, 30) |  18 |   1 |\n",
      "+---------+-----+-----+\n",
      "| (1, 31) |  14 |   3 |\n",
      "+---------+-----+-----+\n",
      "| (1, 32) | 102 |  20 |\n",
      "+---------+-----+-----+\n",
      "| (1, 33) |   9 |   0 |\n",
      "+---------+-----+-----+\n",
      "| (1, 34) |  10 |   2 |\n",
      "+---------+-----+-----+\n",
      "| (1, 35) |   7 |   3 |\n",
      "+---------+-----+-----+\n",
      "| (1, 36) |  12 |   4 |\n",
      "+---------+-----+-----+\n",
      "| (1, 37) |   4 |   1 |\n",
      "+---------+-----+-----+\n",
      "| (1, 38) |   5 |   1 |\n",
      "+---------+-----+-----+\n",
      "| (1, 39) |   8 |   1 |\n",
      "+---------+-----+-----+\n",
      "| (1, 40) |   8 |   1 |\n",
      "+---------+-----+-----+\n",
      "| (1, 41) |   2 |   0 |\n",
      "+---------+-----+-----+\n",
      "| (1, 42) |   7 |   3 |\n",
      "+---------+-----+-----+\n",
      "| (1, 43) |   3 |   0 |\n",
      "+---------+-----+-----+\n",
      "| (1, 44) |   5 |   1 |\n",
      "+---------+-----+-----+\n",
      "| (1, 45) |   6 |   2 |\n",
      "+---------+-----+-----+\n",
      "| (1, 46) |   3 |   0 |\n",
      "+---------+-----+-----+\n",
      "| (1, 47) |   7 |   0 |\n",
      "+---------+-----+-----+\n",
      "| (1, 48) |   2 |   3 |\n",
      "+---------+-----+-----+\n",
      "| (1, 49) |   2 |   2 |\n",
      "+---------+-----+-----+\n",
      "| (1, 50) |   4 |   1 |\n",
      "+---------+-----+-----+\n",
      "| (1, 51) |   5 |   1 |\n",
      "+---------+-----+-----+\n",
      "| (1, 52) |   3 |   1 |\n",
      "+---------+-----+-----+\n",
      "| (1, 54) |   5 |   0 |\n",
      "+---------+-----+-----+\n",
      "| (1, 55) |   2 |   0 |\n",
      "+---------+-----+-----+\n",
      "| (1, 56) |   2 |   1 |\n",
      "+---------+-----+-----+\n",
      "| (1, 57) |   1 |   0 |\n",
      "+---------+-----+-----+\n",
      "| (1, 58) |   2 |   0 |\n",
      "+---------+-----+-----+\n",
      "| (1, 59) |   2 |   0 |\n",
      "+---------+-----+-----+\n",
      "| (1, 60) |   2 |   1 |\n",
      "+---------+-----+-----+\n",
      "| (1, 61) |   3 |   0 |\n",
      "+---------+-----+-----+\n",
      "| (1, 62) |   2 |   1 |\n",
      "+---------+-----+-----+\n",
      "| (1, 64) |   2 |   0 |\n",
      "+---------+-----+-----+\n",
      "| (1, 65) |   3 |   0 |\n",
      "+---------+-----+-----+\n",
      "| (1, 66) |   1 |   0 |\n",
      "+---------+-----+-----+\n",
      "| (1, 70) |   3 |   0 |\n",
      "+---------+-----+-----+\n",
      "| (1, 71) |   2 |   0 |\n",
      "+---------+-----+-----+\n",
      "| (1, 74) |   1 |   0 |\n",
      "+---------+-----+-----+\n",
      "| (1, 80) |   0 |   1 |\n",
      "+---------+-----+-----+\n"
     ]
    }
   ],
   "source": [
    "# Create a cross tab using pandas\n",
    "group_1  = pd.crosstab(index=[df['Sex'], df['Age']], columns=df['Survived'])\n",
    "# Display the cross tab with lines using the tabulate library\n",
    "print(tabulate(group_1, tablefmt='grid', headers='keys',showindex=True))"
   ]
  },
  {
   "cell_type": "code",
   "execution_count": 58,
   "id": "6f8b96b4",
   "metadata": {},
   "outputs": [
    {
     "data": {
      "image/png": "[encoded data removed]",
      "text/plain": [
       "<Figure size 720x432 with 1 Axes>"
      ]
     },
     "metadata": {
      "needs_background": "light"
     },
     "output_type": "display_data"
    }
   ],
   "source": [
    "plt.figure(figsize=(10, 6))\n",
    "sns.stripplot(data=df, x='Sex', y='Age', hue='Survived', jitter=True)\n",
    "plt.title('Scatter Plot-like Visualization')\n",
    "plt.xlabel('Sex')\n",
    "plt.ylabel('Age')\n",
    "plt.legend(title='Survived')\n",
    "plt.show()"
   ]
  },
  {
   "cell_type": "markdown",
   "id": "e2891e59",
   "metadata": {},
   "source": [
    "## Group 2 : Survived + Age + Pclass "
   ]
  },
  {
   "cell_type": "code",
   "execution_count": 59,
   "id": "4062c80e",
   "metadata": {},
   "outputs": [
    {
     "name": "stdout",
     "output_type": "stream",
     "text": [
      "+---------+-----+-----+\n",
      "|         |   0 |   1 |\n",
      "+=========+=====+=====+\n",
      "| (1, 0)  |   0 |   1 |\n",
      "+---------+-----+-----+\n",
      "| (1, 2)  |   1 |   0 |\n",
      "+---------+-----+-----+\n",
      "| (1, 4)  |   0 |   1 |\n",
      "+---------+-----+-----+\n",
      "| (1, 11) |   0 |   1 |\n",
      "+---------+-----+-----+\n",
      "| (1, 14) |   0 |   1 |\n",
      "+---------+-----+-----+\n",
      "| (1, 15) |   0 |   1 |\n",
      "+---------+-----+-----+\n",
      "| (1, 16) |   0 |   3 |\n",
      "+---------+-----+-----+\n",
      "| (1, 17) |   0 |   3 |\n",
      "+---------+-----+-----+\n",
      "| (1, 18) |   1 |   3 |\n",
      "+---------+-----+-----+\n",
      "| (1, 19) |   2 |   3 |\n",
      "+---------+-----+-----+\n",
      "| (1, 21) |   1 |   2 |\n",
      "+---------+-----+-----+\n",
      "| (1, 22) |   1 |   4 |\n",
      "+---------+-----+-----+\n",
      "| (1, 23) |   0 |   3 |\n",
      "+---------+-----+-----+\n",
      "| (1, 24) |   2 |   5 |\n",
      "+---------+-----+-----+\n",
      "| (1, 25) |   1 |   2 |\n",
      "+---------+-----+-----+\n",
      "| (1, 26) |   0 |   2 |\n",
      "+---------+-----+-----+\n",
      "| (1, 27) |   1 |   4 |\n",
      "+---------+-----+-----+\n",
      "| (1, 28) |   2 |   2 |\n",
      "+---------+-----+-----+\n",
      "| (1, 29) |   2 |   1 |\n",
      "+---------+-----+-----+\n",
      "| (1, 30) |   1 |   5 |\n",
      "+---------+-----+-----+\n",
      "| (1, 31) |   2 |   3 |\n",
      "+---------+-----+-----+\n",
      "| (1, 32) |  15 |  13 |\n",
      "+---------+-----+-----+\n",
      "| (1, 33) |   1 |   3 |\n",
      "+---------+-----+-----+\n",
      "| (1, 34) |   0 |   1 |\n",
      "+---------+-----+-----+\n",
      "| (1, 35) |   0 |   9 |\n",
      "+---------+-----+-----+\n",
      "| (1, 36) |   2 |   7 |\n",
      "+---------+-----+-----+\n",
      "| (1, 37) |   2 |   1 |\n",
      "+---------+-----+-----+\n",
      "| (1, 38) |   2 |   4 |\n",
      "+---------+-----+-----+\n",
      "| (1, 39) |   2 |   4 |\n",
      "+---------+-----+-----+\n",
      "| (1, 40) |   2 |   4 |\n",
      "+---------+-----+-----+\n",
      "| (1, 41) |   0 |   2 |\n",
      "+---------+-----+-----+\n",
      "| (1, 42) |   1 |   3 |\n",
      "+---------+-----+-----+\n",
      "| (1, 43) |   0 |   1 |\n",
      "+---------+-----+-----+\n",
      "| (1, 44) |   1 |   2 |\n",
      "+---------+-----+-----+\n",
      "| (1, 45) |   4 |   2 |\n",
      "+---------+-----+-----+\n",
      "| (1, 46) |   2 |   0 |\n",
      "+---------+-----+-----+\n",
      "| (1, 47) |   4 |   1 |\n",
      "+---------+-----+-----+\n",
      "| (1, 48) |   0 |   5 |\n",
      "+---------+-----+-----+\n",
      "| (1, 49) |   1 |   4 |\n",
      "+---------+-----+-----+\n",
      "| (1, 50) |   3 |   2 |\n",
      "+---------+-----+-----+\n",
      "| (1, 51) |   1 |   2 |\n",
      "+---------+-----+-----+\n",
      "| (1, 52) |   1 |   3 |\n",
      "+---------+-----+-----+\n",
      "| (1, 53) |   0 |   1 |\n",
      "+---------+-----+-----+\n",
      "| (1, 54) |   2 |   2 |\n",
      "+---------+-----+-----+\n",
      "| (1, 55) |   1 |   0 |\n",
      "+---------+-----+-----+\n",
      "| (1, 56) |   2 |   2 |\n",
      "+---------+-----+-----+\n",
      "| (1, 58) |   2 |   3 |\n",
      "+---------+-----+-----+\n",
      "| (1, 60) |   1 |   2 |\n",
      "+---------+-----+-----+\n",
      "| (1, 61) |   2 |   0 |\n",
      "+---------+-----+-----+\n",
      "| (1, 62) |   2 |   1 |\n",
      "+---------+-----+-----+\n",
      "| (1, 63) |   0 |   1 |\n",
      "+---------+-----+-----+\n",
      "| (1, 64) |   2 |   0 |\n",
      "+---------+-----+-----+\n",
      "| (1, 65) |   2 |   0 |\n",
      "+---------+-----+-----+\n",
      "| (1, 70) |   1 |   0 |\n",
      "+---------+-----+-----+\n",
      "| (1, 71) |   2 |   0 |\n",
      "+---------+-----+-----+\n",
      "| (1, 80) |   0 |   1 |\n",
      "+---------+-----+-----+\n",
      "| (2, 0)  |   0 |   3 |\n",
      "+---------+-----+-----+\n",
      "| (2, 1)  |   0 |   2 |\n",
      "+---------+-----+-----+\n",
      "| (2, 2)  |   0 |   2 |\n",
      "+---------+-----+-----+\n",
      "| (2, 3)  |   0 |   3 |\n",
      "+---------+-----+-----+\n",
      "| (2, 4)  |   0 |   2 |\n",
      "+---------+-----+-----+\n",
      "| (2, 5)  |   0 |   1 |\n",
      "+---------+-----+-----+\n",
      "| (2, 6)  |   0 |   1 |\n",
      "+---------+-----+-----+\n",
      "| (2, 7)  |   0 |   1 |\n",
      "+---------+-----+-----+\n",
      "| (2, 8)  |   0 |   2 |\n",
      "+---------+-----+-----+\n",
      "| (2, 13) |   0 |   1 |\n",
      "+---------+-----+-----+\n",
      "| (2, 14) |   0 |   1 |\n",
      "+---------+-----+-----+\n",
      "| (2, 16) |   2 |   0 |\n",
      "+---------+-----+-----+\n",
      "| (2, 17) |   0 |   2 |\n",
      "+---------+-----+-----+\n",
      "| (2, 18) |   4 |   2 |\n",
      "+---------+-----+-----+\n",
      "| (2, 19) |   3 |   3 |\n",
      "+---------+-----+-----+\n",
      "| (2, 21) |   3 |   1 |\n",
      "+---------+-----+-----+\n",
      "| (2, 22) |   0 |   2 |\n",
      "+---------+-----+-----+\n",
      "| (2, 23) |   6 |   1 |\n",
      "+---------+-----+-----+\n",
      "| (2, 24) |   4 |   6 |\n",
      "+---------+-----+-----+\n",
      "| (2, 25) |   5 |   2 |\n",
      "+---------+-----+-----+\n",
      "| (2, 26) |   2 |   0 |\n",
      "+---------+-----+-----+\n",
      "| (2, 27) |   4 |   4 |\n",
      "+---------+-----+-----+\n",
      "| (2, 28) |   4 |   5 |\n",
      "+---------+-----+-----+\n",
      "| (2, 29) |   3 |   3 |\n",
      "+---------+-----+-----+\n",
      "| (2, 30) |   5 |   3 |\n",
      "+---------+-----+-----+\n",
      "| (2, 31) |   3 |   2 |\n",
      "+---------+-----+-----+\n",
      "| (2, 32) |  10 |   5 |\n",
      "+---------+-----+-----+\n",
      "| (2, 33) |   1 |   2 |\n",
      "+---------+-----+-----+\n",
      "| (2, 34) |   5 |   5 |\n",
      "+---------+-----+-----+\n",
      "| (2, 35) |   2 |   1 |\n",
      "+---------+-----+-----+\n",
      "| (2, 36) |   5 |   3 |\n",
      "+---------+-----+-----+\n",
      "| (2, 37) |   1 |   0 |\n",
      "+---------+-----+-----+\n",
      "| (2, 38) |   1 |   0 |\n",
      "+---------+-----+-----+\n",
      "| (2, 39) |   3 |   0 |\n",
      "+---------+-----+-----+\n",
      "| (2, 40) |   0 |   3 |\n",
      "+---------+-----+-----+\n",
      "| (2, 41) |   0 |   1 |\n",
      "+---------+-----+-----+\n",
      "| (2, 42) |   2 |   3 |\n",
      "+---------+-----+-----+\n",
      "| (2, 43) |   1 |   0 |\n",
      "+---------+-----+-----+\n",
      "| (2, 44) |   2 |   0 |\n",
      "+---------+-----+-----+\n",
      "| (2, 45) |   0 |   2 |\n",
      "+---------+-----+-----+\n",
      "| (2, 46) |   1 |   0 |\n",
      "+---------+-----+-----+\n",
      "| (2, 47) |   1 |   0 |\n",
      "+---------+-----+-----+\n",
      "| (2, 48) |   1 |   1 |\n",
      "+---------+-----+-----+\n",
      "| (2, 50) |   1 |   3 |\n",
      "+---------+-----+-----+\n",
      "| (2, 51) |   1 |   0 |\n",
      "+---------+-----+-----+\n",
      "| (2, 52) |   2 |   0 |\n",
      "+---------+-----+-----+\n",
      "| (2, 54) |   3 |   1 |\n",
      "+---------+-----+-----+\n",
      "| (2, 55) |   0 |   1 |\n",
      "+---------+-----+-----+\n",
      "| (2, 57) |   2 |   0 |\n",
      "+---------+-----+-----+\n",
      "| (2, 59) |   1 |   0 |\n",
      "+---------+-----+-----+\n",
      "| (2, 60) |   1 |   0 |\n",
      "+---------+-----+-----+\n",
      "| (2, 62) |   0 |   1 |\n",
      "+---------+-----+-----+\n",
      "| (2, 66) |   1 |   0 |\n",
      "+---------+-----+-----+\n",
      "| (2, 70) |   1 |   0 |\n",
      "+---------+-----+-----+\n",
      "| (3, 0)  |   0 |   3 |\n",
      "+---------+-----+-----+\n",
      "| (3, 1)  |   2 |   3 |\n",
      "+---------+-----+-----+\n",
      "| (3, 2)  |   7 |   1 |\n",
      "+---------+-----+-----+\n",
      "| (3, 3)  |   1 |   4 |\n",
      "+---------+-----+-----+\n",
      "| (3, 4)  |   3 |   4 |\n",
      "+---------+-----+-----+\n",
      "| (3, 5)  |   4 |   3 |\n",
      "+---------+-----+-----+\n",
      "| (3, 6)  |   1 |   1 |\n",
      "+---------+-----+-----+\n",
      "| (3, 7)  |   2 |   0 |\n",
      "+---------+-----+-----+\n",
      "| (3, 8)  |   2 |   0 |\n",
      "+---------+-----+-----+\n",
      "| (3, 9)  |   7 |   2 |\n",
      "+---------+-----+-----+\n",
      "| (3, 10) |   2 |   0 |\n",
      "+---------+-----+-----+\n",
      "| (3, 11) |   3 |   0 |\n",
      "+---------+-----+-----+\n",
      "| (3, 12) |   0 |   2 |\n",
      "+---------+-----+-----+\n",
      "| (3, 13) |   3 |   1 |\n",
      "+---------+-----+-----+\n",
      "| (3, 14) |   4 |   1 |\n",
      "+---------+-----+-----+\n",
      "| (3, 15) |   2 |   3 |\n",
      "+---------+-----+-----+\n",
      "| (3, 16) |   9 |   3 |\n",
      "+---------+-----+-----+\n",
      "| (3, 17) |   7 |   1 |\n",
      "+---------+-----+-----+\n",
      "| (3, 18) |  12 |   5 |\n",
      "+---------+-----+-----+\n",
      "| (3, 19) |  11 |   3 |\n",
      "+---------+-----+-----+\n",
      "| (3, 20) |  13 |   3 |\n",
      "+---------+-----+-----+\n",
      "| (3, 21) |  15 |   2 |\n",
      "+---------+-----+-----+\n",
      "| (3, 22) |  15 |   5 |\n",
      "+---------+-----+-----+\n",
      "| (3, 23) |   5 |   1 |\n",
      "+---------+-----+-----+\n",
      "| (3, 24) |  10 |   4 |\n",
      "+---------+-----+-----+\n",
      "| (3, 25) |  11 |   2 |\n",
      "+---------+-----+-----+\n",
      "| (3, 26) |  10 |   4 |\n",
      "+---------+-----+-----+\n",
      "| (3, 27) |   8 |  21 |\n",
      "+---------+-----+-----+\n",
      "| (3, 28) |  15 |   3 |\n",
      "+---------+-----+-----+\n",
      "| (3, 29) |   8 |   5 |\n",
      "+---------+-----+-----+\n",
      "| (3, 30) |  15 |   2 |\n",
      "+---------+-----+-----+\n",
      "| (3, 31) |  11 |   3 |\n",
      "+---------+-----+-----+\n",
      "| (3, 32) |  79 |  14 |\n",
      "+---------+-----+-----+\n",
      "| (3, 33) |   7 |   1 |\n",
      "+---------+-----+-----+\n",
      "| (3, 34) |   5 |   0 |\n",
      "+---------+-----+-----+\n",
      "| (3, 35) |   5 |   1 |\n",
      "+---------+-----+-----+\n",
      "| (3, 36) |   5 |   1 |\n",
      "+---------+-----+-----+\n",
      "| (3, 37) |   2 |   0 |\n",
      "+---------+-----+-----+\n",
      "| (3, 38) |   3 |   1 |\n",
      "+---------+-----+-----+\n",
      "| (3, 39) |   5 |   1 |\n",
      "+---------+-----+-----+\n",
      "| (3, 40) |   7 |   0 |\n",
      "+---------+-----+-----+\n",
      "| (3, 41) |   5 |   2 |\n",
      "+---------+-----+-----+\n",
      "| (3, 42) |   4 |   0 |\n",
      "+---------+-----+-----+\n",
      "| (3, 43) |   3 |   0 |\n",
      "+---------+-----+-----+\n",
      "| (3, 44) |   3 |   1 |\n",
      "+---------+-----+-----+\n",
      "| (3, 45) |   5 |   1 |\n",
      "+---------+-----+-----+\n",
      "| (3, 47) |   3 |   0 |\n",
      "+---------+-----+-----+\n",
      "| (3, 48) |   2 |   0 |\n",
      "+---------+-----+-----+\n",
      "| (3, 49) |   1 |   0 |\n",
      "+---------+-----+-----+\n",
      "| (3, 50) |   1 |   0 |\n",
      "+---------+-----+-----+\n",
      "| (3, 51) |   3 |   0 |\n",
      "+---------+-----+-----+\n",
      "| (3, 55) |   1 |   0 |\n",
      "+---------+-----+-----+\n",
      "| (3, 59) |   1 |   0 |\n",
      "+---------+-----+-----+\n",
      "| (3, 61) |   1 |   0 |\n",
      "+---------+-----+-----+\n",
      "| (3, 63) |   0 |   1 |\n",
      "+---------+-----+-----+\n",
      "| (3, 65) |   1 |   0 |\n",
      "+---------+-----+-----+\n",
      "| (3, 70) |   1 |   0 |\n",
      "+---------+-----+-----+\n",
      "| (3, 74) |   1 |   0 |\n",
      "+---------+-----+-----+\n"
     ]
    }
   ],
   "source": [
    "# Create a cross tab using pandas\n",
    "group_1  = pd.crosstab(index=[df['Pclass'], df['Age']], columns=df['Survived'])\n",
    "# Display the cross tab with lines using the tabulate library\n",
    "print(tabulate(group_1, tablefmt='grid', headers='keys',showindex=True))"
   ]
  },
  {
   "cell_type": "code",
   "execution_count": 60,
   "id": "157eabc9",
   "metadata": {},
   "outputs": [
    {
     "data": {
      "image/png": "[encoded data removed]",
      "text/plain": [
       "<Figure size 720x432 with 1 Axes>"
      ]
     },
     "metadata": {
      "needs_background": "light"
     },
     "output_type": "display_data"
    }
   ],
   "source": [
    "plt.figure(figsize=(10, 6))\n",
    "sns.stripplot(data=df, x='Pclass', y='Age', hue='Survived', jitter=True)\n",
    "plt.title('Scatter Plot-like Visualization')\n",
    "plt.xlabel('Pclass')\n",
    "plt.ylabel('Age')\n",
    "plt.legend(title='Survived')\n",
    "plt.show()"
   ]
  },
  {
   "cell_type": "markdown",
   "id": "86fd2295",
   "metadata": {},
   "source": [
    "## Group 3 : Survived + Sex + SibSp/Parch \n"
   ]
  },
  {
   "cell_type": "code",
   "execution_count": 61,
   "id": "087e3273",
   "metadata": {},
   "outputs": [
    {
     "name": "stdout",
     "output_type": "stream",
     "text": [
      "+--------+-----+-----+\n",
      "|        |   0 |   1 |\n",
      "+========+=====+=====+\n",
      "| (0, 0) |  37 | 137 |\n",
      "+--------+-----+-----+\n",
      "| (0, 1) |  26 |  80 |\n",
      "+--------+-----+-----+\n",
      "| (0, 2) |   3 |  10 |\n",
      "+--------+-----+-----+\n",
      "| (0, 3) |   7 |   4 |\n",
      "+--------+-----+-----+\n",
      "| (0, 4) |   4 |   2 |\n",
      "+--------+-----+-----+\n",
      "| (0, 5) |   1 |   0 |\n",
      "+--------+-----+-----+\n",
      "| (0, 8) |   3 |   0 |\n",
      "+--------+-----+-----+\n",
      "| (1, 0) | 361 |  73 |\n",
      "+--------+-----+-----+\n",
      "| (1, 1) |  71 |  32 |\n",
      "+--------+-----+-----+\n",
      "| (1, 2) |  12 |   3 |\n",
      "+--------+-----+-----+\n",
      "| (1, 3) |   5 |   0 |\n",
      "+--------+-----+-----+\n",
      "| (1, 4) |  11 |   1 |\n",
      "+--------+-----+-----+\n",
      "| (1, 5) |   4 |   0 |\n",
      "+--------+-----+-----+\n",
      "| (1, 8) |   4 |   0 |\n",
      "+--------+-----+-----+\n"
     ]
    }
   ],
   "source": [
    "# Create a cross tab using pandas\n",
    "group_3  = pd.crosstab(index=[df['Sex'], df['SibSp']], columns=df['Survived'])\n",
    "# Display the cross tab with lines using the tabulate library\n",
    "print(tabulate(group_3, tablefmt='grid', headers='keys',showindex=True))"
   ]
  },
  {
   "cell_type": "markdown",
   "id": "8e9b277b",
   "metadata": {},
   "source": [
    "## Step 9 : Standardising the data"
   ]
  },
  {
   "cell_type": "code",
   "execution_count": 62,
   "id": "f7eb071a",
   "metadata": {},
   "outputs": [
    {
     "data": {
      "text/html": [
       "<div>\n",
       "<style scoped>\n",
       "    .dataframe tbody tr th:only-of-type {\n",
       "        vertical-align: middle;\n",
       "    }\n",
       "\n",
       "    .dataframe tbody tr th {\n",
       "        vertical-align: top;\n",
       "    }\n",
       "\n",
       "    .dataframe thead th {\n",
       "        text-align: right;\n",
       "    }\n",
       "</style>\n",
       "<table border=\"1\" class=\"dataframe\">\n",
       "  <thead>\n",
       "    <tr style=\"text-align: right;\">\n",
       "      <th></th>\n",
       "      <th>Pclass</th>\n",
       "      <th>Sex</th>\n",
       "      <th>Age</th>\n",
       "      <th>SibSp</th>\n",
       "      <th>Parch</th>\n",
       "      <th>Fare</th>\n",
       "      <th>Cabin</th>\n",
       "      <th>Embarked</th>\n",
       "      <th>Title</th>\n",
       "    </tr>\n",
       "  </thead>\n",
       "  <tbody>\n",
       "    <tr>\n",
       "      <th>0</th>\n",
       "      <td>0.827377</td>\n",
       "      <td>0.737695</td>\n",
       "      <td>-0.573453</td>\n",
       "      <td>0.432793</td>\n",
       "      <td>-0.473674</td>\n",
       "      <td>-0.498948</td>\n",
       "      <td>-0.403344</td>\n",
       "      <td>0.585954</td>\n",
       "      <td>0.420010</td>\n",
       "    </tr>\n",
       "    <tr>\n",
       "      <th>1</th>\n",
       "      <td>-1.566107</td>\n",
       "      <td>-1.355574</td>\n",
       "      <td>0.625248</td>\n",
       "      <td>0.432793</td>\n",
       "      <td>-0.473674</td>\n",
       "      <td>0.789405</td>\n",
       "      <td>-0.403344</td>\n",
       "      <td>-1.942303</td>\n",
       "      <td>0.969540</td>\n",
       "    </tr>\n",
       "    <tr>\n",
       "      <th>2</th>\n",
       "      <td>0.827377</td>\n",
       "      <td>-1.355574</td>\n",
       "      <td>-0.273777</td>\n",
       "      <td>-0.474545</td>\n",
       "      <td>-0.473674</td>\n",
       "      <td>-0.498948</td>\n",
       "      <td>-0.403344</td>\n",
       "      <td>0.585954</td>\n",
       "      <td>-1.228577</td>\n",
       "    </tr>\n",
       "    <tr>\n",
       "      <th>3</th>\n",
       "      <td>-1.566107</td>\n",
       "      <td>-1.355574</td>\n",
       "      <td>0.400492</td>\n",
       "      <td>0.432793</td>\n",
       "      <td>-0.473674</td>\n",
       "      <td>0.427056</td>\n",
       "      <td>-0.403344</td>\n",
       "      <td>0.585954</td>\n",
       "      <td>0.969540</td>\n",
       "    </tr>\n",
       "    <tr>\n",
       "      <th>4</th>\n",
       "      <td>0.827377</td>\n",
       "      <td>0.737695</td>\n",
       "      <td>0.400492</td>\n",
       "      <td>-0.474545</td>\n",
       "      <td>-0.473674</td>\n",
       "      <td>-0.478817</td>\n",
       "      <td>1.291843</td>\n",
       "      <td>0.585954</td>\n",
       "      <td>0.420010</td>\n",
       "    </tr>\n",
       "    <tr>\n",
       "      <th>...</th>\n",
       "      <td>...</td>\n",
       "      <td>...</td>\n",
       "      <td>...</td>\n",
       "      <td>...</td>\n",
       "      <td>...</td>\n",
       "      <td>...</td>\n",
       "      <td>...</td>\n",
       "      <td>...</td>\n",
       "      <td>...</td>\n",
       "    </tr>\n",
       "    <tr>\n",
       "      <th>886</th>\n",
       "      <td>-0.369365</td>\n",
       "      <td>0.737695</td>\n",
       "      <td>-0.198859</td>\n",
       "      <td>-0.474545</td>\n",
       "      <td>-0.473674</td>\n",
       "      <td>-0.378164</td>\n",
       "      <td>0.444249</td>\n",
       "      <td>0.585954</td>\n",
       "      <td>2.068598</td>\n",
       "    </tr>\n",
       "    <tr>\n",
       "      <th>887</th>\n",
       "      <td>-1.566107</td>\n",
       "      <td>-1.355574</td>\n",
       "      <td>-0.798209</td>\n",
       "      <td>-0.474545</td>\n",
       "      <td>-0.473674</td>\n",
       "      <td>-0.035946</td>\n",
       "      <td>-1.250937</td>\n",
       "      <td>0.585954</td>\n",
       "      <td>-1.228577</td>\n",
       "    </tr>\n",
       "    <tr>\n",
       "      <th>888</th>\n",
       "      <td>0.827377</td>\n",
       "      <td>-1.355574</td>\n",
       "      <td>-1.547397</td>\n",
       "      <td>0.432793</td>\n",
       "      <td>2.008933</td>\n",
       "      <td>-0.176859</td>\n",
       "      <td>-0.403344</td>\n",
       "      <td>0.585954</td>\n",
       "      <td>-1.228577</td>\n",
       "    </tr>\n",
       "    <tr>\n",
       "      <th>889</th>\n",
       "      <td>-1.566107</td>\n",
       "      <td>0.737695</td>\n",
       "      <td>-0.273777</td>\n",
       "      <td>-0.474545</td>\n",
       "      <td>-0.473674</td>\n",
       "      <td>-0.035946</td>\n",
       "      <td>-0.403344</td>\n",
       "      <td>-1.942303</td>\n",
       "      <td>0.420010</td>\n",
       "    </tr>\n",
       "    <tr>\n",
       "      <th>890</th>\n",
       "      <td>0.827377</td>\n",
       "      <td>0.737695</td>\n",
       "      <td>0.175735</td>\n",
       "      <td>-0.474545</td>\n",
       "      <td>-0.473674</td>\n",
       "      <td>-0.498948</td>\n",
       "      <td>2.139436</td>\n",
       "      <td>-0.678175</td>\n",
       "      <td>0.420010</td>\n",
       "    </tr>\n",
       "  </tbody>\n",
       "</table>\n",
       "<p>891 rows × 9 columns</p>\n",
       "</div>"
      ],
      "text/plain": [
       "       Pclass       Sex       Age     SibSp     Parch      Fare     Cabin  \\\n",
       "0    0.827377  0.737695 -0.573453  0.432793 -0.473674 -0.498948 -0.403344   \n",
       "1   -1.566107 -1.355574  0.625248  0.432793 -0.473674  0.789405 -0.403344   \n",
       "2    0.827377 -1.355574 -0.273777 -0.474545 -0.473674 -0.498948 -0.403344   \n",
       "3   -1.566107 -1.355574  0.400492  0.432793 -0.473674  0.427056 -0.403344   \n",
       "4    0.827377  0.737695  0.400492 -0.474545 -0.473674 -0.478817  1.291843   \n",
       "..        ...       ...       ...       ...       ...       ...       ...   \n",
       "886 -0.369365  0.737695 -0.198859 -0.474545 -0.473674 -0.378164  0.444249   \n",
       "887 -1.566107 -1.355574 -0.798209 -0.474545 -0.473674 -0.035946 -1.250937   \n",
       "888  0.827377 -1.355574 -1.547397  0.432793  2.008933 -0.176859 -0.403344   \n",
       "889 -1.566107  0.737695 -0.273777 -0.474545 -0.473674 -0.035946 -0.403344   \n",
       "890  0.827377  0.737695  0.175735 -0.474545 -0.473674 -0.498948  2.139436   \n",
       "\n",
       "     Embarked     Title  \n",
       "0    0.585954  0.420010  \n",
       "1   -1.942303  0.969540  \n",
       "2    0.585954 -1.228577  \n",
       "3    0.585954  0.969540  \n",
       "4    0.585954  0.420010  \n",
       "..        ...       ...  \n",
       "886  0.585954  2.068598  \n",
       "887  0.585954 -1.228577  \n",
       "888  0.585954 -1.228577  \n",
       "889 -1.942303  0.420010  \n",
       "890 -0.678175  0.420010  \n",
       "\n",
       "[891 rows x 9 columns]"
      ]
     },
     "execution_count": 62,
     "metadata": {},
     "output_type": "execute_result"
    }
   ],
   "source": [
    "\n",
    "# Separate features and target variable\n",
    "X = df.drop(columns=\"Survived\")\n",
    "y = df['Survived']\n",
    "\n",
    "from sklearn.preprocessing import StandardScaler\n",
    "\n",
    "scale= StandardScaler()\n",
    "\n",
    "X_data = scale.fit_transform(X)\n",
    "X_data = pd.DataFrame(data=X_data,columns=X.columns)\n",
    "X_data"
   ]
  },
  {
   "cell_type": "markdown",
   "id": "2a3055c3",
   "metadata": {},
   "source": [
    "## Step 10 : Feature Importance "
   ]
  },
  {
   "cell_type": "code",
   "execution_count": 63,
   "id": "c5d38db0",
   "metadata": {},
   "outputs": [
    {
     "name": "stdout",
     "output_type": "stream",
     "text": [
      "Feature Importances:\n",
      "Pclass: 0.0798375186031712\n",
      "Sex: 0.21871694537782108\n",
      "Age: 0.2408501476167388\n",
      "SibSp: 0.051815152480870735\n",
      "Parch: 0.0327301607174583\n",
      "Fare: 0.18308269437936128\n",
      "Cabin: 0.0468856711100726\n",
      "Embarked: 0.03431229264801651\n",
      "Title: 0.11176941706648963\n"
     ]
    }
   ],
   "source": [
    "from sklearn.ensemble import RandomForestClassifier\n",
    "\n",
    "# Initialize the Random Forest classifier\n",
    "rf = RandomForestClassifier()\n",
    "\n",
    "# Fit the model to the data\n",
    "rf.fit(X, y)\n",
    "\n",
    "# Get feature importances\n",
    "feature_importance = rf.feature_importances_\n",
    "\n",
    "# Display feature importances\n",
    "print(\"Feature Importances:\")\n",
    "for feature, importance in zip(X.columns, feature_importance):\n",
    "    print(f\"{feature}: {importance}\")"
   ]
  },
  {
   "cell_type": "markdown",
   "id": "2747742b",
   "metadata": {},
   "source": [
    "## Age , Sex , Fare and Title plays a vital role in Output. \n",
    "\n",
    "## least important feature : Embarked , Parch"
   ]
  },
  {
   "cell_type": "markdown",
   "id": "ef99d467",
   "metadata": {},
   "source": [
    "### We understand that Since SibSp : defines # no of Siblings / spouse  and parch Defines # parents or children. \n",
    "\n",
    "## We can create a new column of family members , by adding SibSp and Parch +1(himslef) \n",
    "\n",
    "## This will allow us to drop these two columns , which either way are contributing less to the output."
   ]
  },
  {
   "cell_type": "code",
   "execution_count": 64,
   "id": "192c6c0c",
   "metadata": {},
   "outputs": [],
   "source": [
    "X['family_members'] = X['SibSp'] + X['Parch'] + 1\n"
   ]
  },
  {
   "cell_type": "code",
   "execution_count": 65,
   "id": "745c318f",
   "metadata": {},
   "outputs": [
    {
     "data": {
      "text/html": [
       "<div>\n",
       "<style scoped>\n",
       "    .dataframe tbody tr th:only-of-type {\n",
       "        vertical-align: middle;\n",
       "    }\n",
       "\n",
       "    .dataframe tbody tr th {\n",
       "        vertical-align: top;\n",
       "    }\n",
       "\n",
       "    .dataframe thead th {\n",
       "        text-align: right;\n",
       "    }\n",
       "</style>\n",
       "<table border=\"1\" class=\"dataframe\">\n",
       "  <thead>\n",
       "    <tr style=\"text-align: right;\">\n",
       "      <th></th>\n",
       "      <th>Pclass</th>\n",
       "      <th>Sex</th>\n",
       "      <th>Age</th>\n",
       "      <th>Fare</th>\n",
       "      <th>Cabin</th>\n",
       "      <th>Embarked</th>\n",
       "      <th>Title</th>\n",
       "      <th>family_members</th>\n",
       "    </tr>\n",
       "  </thead>\n",
       "  <tbody>\n",
       "    <tr>\n",
       "      <th>0</th>\n",
       "      <td>3</td>\n",
       "      <td>1</td>\n",
       "      <td>22</td>\n",
       "      <td>7</td>\n",
       "      <td>2</td>\n",
       "      <td>2</td>\n",
       "      <td>11</td>\n",
       "      <td>2</td>\n",
       "    </tr>\n",
       "    <tr>\n",
       "      <th>1</th>\n",
       "      <td>1</td>\n",
       "      <td>0</td>\n",
       "      <td>38</td>\n",
       "      <td>71</td>\n",
       "      <td>2</td>\n",
       "      <td>0</td>\n",
       "      <td>12</td>\n",
       "      <td>2</td>\n",
       "    </tr>\n",
       "    <tr>\n",
       "      <th>2</th>\n",
       "      <td>3</td>\n",
       "      <td>0</td>\n",
       "      <td>26</td>\n",
       "      <td>7</td>\n",
       "      <td>2</td>\n",
       "      <td>2</td>\n",
       "      <td>8</td>\n",
       "      <td>1</td>\n",
       "    </tr>\n",
       "    <tr>\n",
       "      <th>3</th>\n",
       "      <td>1</td>\n",
       "      <td>0</td>\n",
       "      <td>35</td>\n",
       "      <td>53</td>\n",
       "      <td>2</td>\n",
       "      <td>2</td>\n",
       "      <td>12</td>\n",
       "      <td>2</td>\n",
       "    </tr>\n",
       "    <tr>\n",
       "      <th>4</th>\n",
       "      <td>3</td>\n",
       "      <td>1</td>\n",
       "      <td>35</td>\n",
       "      <td>8</td>\n",
       "      <td>4</td>\n",
       "      <td>2</td>\n",
       "      <td>11</td>\n",
       "      <td>1</td>\n",
       "    </tr>\n",
       "    <tr>\n",
       "      <th>...</th>\n",
       "      <td>...</td>\n",
       "      <td>...</td>\n",
       "      <td>...</td>\n",
       "      <td>...</td>\n",
       "      <td>...</td>\n",
       "      <td>...</td>\n",
       "      <td>...</td>\n",
       "      <td>...</td>\n",
       "    </tr>\n",
       "    <tr>\n",
       "      <th>886</th>\n",
       "      <td>2</td>\n",
       "      <td>1</td>\n",
       "      <td>27</td>\n",
       "      <td>13</td>\n",
       "      <td>3</td>\n",
       "      <td>2</td>\n",
       "      <td>14</td>\n",
       "      <td>1</td>\n",
       "    </tr>\n",
       "    <tr>\n",
       "      <th>887</th>\n",
       "      <td>1</td>\n",
       "      <td>0</td>\n",
       "      <td>19</td>\n",
       "      <td>30</td>\n",
       "      <td>1</td>\n",
       "      <td>2</td>\n",
       "      <td>8</td>\n",
       "      <td>1</td>\n",
       "    </tr>\n",
       "    <tr>\n",
       "      <th>888</th>\n",
       "      <td>3</td>\n",
       "      <td>0</td>\n",
       "      <td>9</td>\n",
       "      <td>23</td>\n",
       "      <td>2</td>\n",
       "      <td>2</td>\n",
       "      <td>8</td>\n",
       "      <td>4</td>\n",
       "    </tr>\n",
       "    <tr>\n",
       "      <th>889</th>\n",
       "      <td>1</td>\n",
       "      <td>1</td>\n",
       "      <td>26</td>\n",
       "      <td>30</td>\n",
       "      <td>2</td>\n",
       "      <td>0</td>\n",
       "      <td>11</td>\n",
       "      <td>1</td>\n",
       "    </tr>\n",
       "    <tr>\n",
       "      <th>890</th>\n",
       "      <td>3</td>\n",
       "      <td>1</td>\n",
       "      <td>32</td>\n",
       "      <td>7</td>\n",
       "      <td>5</td>\n",
       "      <td>1</td>\n",
       "      <td>11</td>\n",
       "      <td>1</td>\n",
       "    </tr>\n",
       "  </tbody>\n",
       "</table>\n",
       "<p>891 rows × 8 columns</p>\n",
       "</div>"
      ],
      "text/plain": [
       "     Pclass  Sex  Age  Fare  Cabin  Embarked  Title  family_members\n",
       "0         3    1   22     7      2         2     11               2\n",
       "1         1    0   38    71      2         0     12               2\n",
       "2         3    0   26     7      2         2      8               1\n",
       "3         1    0   35    53      2         2     12               2\n",
       "4         3    1   35     8      4         2     11               1\n",
       "..      ...  ...  ...   ...    ...       ...    ...             ...\n",
       "886       2    1   27    13      3         2     14               1\n",
       "887       1    0   19    30      1         2      8               1\n",
       "888       3    0    9    23      2         2      8               4\n",
       "889       1    1   26    30      2         0     11               1\n",
       "890       3    1   32     7      5         1     11               1\n",
       "\n",
       "[891 rows x 8 columns]"
      ]
     },
     "execution_count": 65,
     "metadata": {},
     "output_type": "execute_result"
    }
   ],
   "source": [
    "cols = ['SibSp','Parch']\n",
    "X.drop(columns=cols)"
   ]
  },
  {
   "cell_type": "markdown",
   "id": "59ae6f29",
   "metadata": {},
   "source": [
    "## Step 10. Splitting the data"
   ]
  },
  {
   "cell_type": "code",
   "execution_count": 66,
   "id": "03dac591",
   "metadata": {},
   "outputs": [
    {
     "name": "stdout",
     "output_type": "stream",
     "text": [
      "(891, 10) (712, 9) (179, 9)\n"
     ]
    }
   ],
   "source": [
    "from sklearn.model_selection import train_test_split\n",
    "\n",
    "X_train,X_test,Y_train,Y_test = train_test_split(X_data, y, test_size=0.2, random_state =1000)\n",
    "\n",
    "print(X.shape, X_train.shape, X_test.shape)"
   ]
  },
  {
   "cell_type": "markdown",
   "id": "fb06e8f9",
   "metadata": {},
   "source": [
    "## Step 11. Data Modeling \n",
    "\n",
    "Create a machine learning model pipeline which contains a list of model from which. we want to compare and find the most appropiate algorithm"
   ]
  },
  {
   "cell_type": "code",
   "execution_count": 67,
   "id": "39f383e9",
   "metadata": {},
   "outputs": [],
   "source": [
    "### Import the model:\n",
    "\n",
    "from sklearn.linear_model import LogisticRegression\n",
    "\n",
    "from sklearn.neighbors import KNeighborsClassifier\n",
    "\n",
    "#from sklearn.svm import SVC \n",
    "\n",
    "from sklearn.ensemble import RandomForestClassifier\n",
    "\n",
    "from sklearn.tree import DecisionTreeClassifier\n",
    "\n",
    "from sklearn.naive_bayes import GaussianNB\n",
    "\n",
    "#import xgboost as xgb\n",
    "\n",
    "\n",
    "\n",
    "\n",
    "model_pipeline = []    ### create a pipeline model_pipeline\n",
    "\n",
    "### Append the models and make some necessary updates to their parameters for better model performance.\n",
    "\n",
    "model_pipeline.append(LogisticRegression())\n",
    "\n",
    "model_pipeline.append(KNeighborsClassifier(n_neighbors=3))\n",
    "\n",
    "model_pipeline.append(DecisionTreeClassifier(criterion='entropy',random_state=7))\n",
    "\n",
    "model_pipeline.append(RandomForestClassifier(random_state=1))\n",
    "\n",
    "model_pipeline.append(GaussianNB())\n",
    "\n",
    "#model_pipeline.append(SVC())\n",
    "\n",
    "#model_pipeline.append(xgb.XGBClassifier(random_state=1))"
   ]
  },
  {
   "cell_type": "markdown",
   "id": "dba75343",
   "metadata": {},
   "source": [
    "## Step 12. Fit model for train dataset  "
   ]
  },
  {
   "cell_type": "code",
   "execution_count": 68,
   "id": "17aa51e6",
   "metadata": {},
   "outputs": [],
   "source": [
    "for model in model_pipeline:\n",
    "    model.fit(X_train,Y_train)    "
   ]
  },
  {
   "cell_type": "markdown",
   "id": "386dbf46",
   "metadata": {},
   "source": [
    "## Step 13 . Model Evaluation "
   ]
  },
  {
   "cell_type": "markdown",
   "id": "791ab7a3",
   "metadata": {},
   "source": [
    "## 13.1 Fetch Classification_Report for predictied data by each model. \n"
   ]
  },
  {
   "cell_type": "code",
   "execution_count": 69,
   "id": "fbb03db3",
   "metadata": {},
   "outputs": [
    {
     "name": "stdout",
     "output_type": "stream",
     "text": [
      "MODEL NAME :  LogisticRegression() \n",
      "\n",
      "               precision    recall  f1-score   support\n",
      "\n",
      "           0       0.82      0.87      0.85       549\n",
      "           1       0.77      0.69      0.73       342\n",
      "\n",
      "    accuracy                           0.80       891\n",
      "   macro avg       0.80      0.78      0.79       891\n",
      "weighted avg       0.80      0.80      0.80       891\n",
      " \n",
      "\n",
      "\n",
      "\n",
      "MODEL NAME :  KNeighborsClassifier(n_neighbors=3) \n",
      "\n",
      "               precision    recall  f1-score   support\n",
      "\n",
      "           0       0.88      0.91      0.89       549\n",
      "           1       0.84      0.80      0.82       342\n",
      "\n",
      "    accuracy                           0.86       891\n",
      "   macro avg       0.86      0.85      0.85       891\n",
      "weighted avg       0.86      0.86      0.86       891\n",
      " \n",
      "\n",
      "\n",
      "\n",
      "MODEL NAME :  DecisionTreeClassifier(criterion='entropy', random_state=7) \n",
      "\n",
      "               precision    recall  f1-score   support\n",
      "\n",
      "           0       0.94      0.97      0.95       549\n",
      "           1       0.95      0.90      0.92       342\n",
      "\n",
      "    accuracy                           0.94       891\n",
      "   macro avg       0.94      0.93      0.94       891\n",
      "weighted avg       0.94      0.94      0.94       891\n",
      " \n",
      "\n",
      "\n",
      "\n",
      "MODEL NAME :  RandomForestClassifier(random_state=1) \n",
      "\n",
      "               precision    recall  f1-score   support\n",
      "\n",
      "           0       0.94      0.96      0.95       549\n",
      "           1       0.93      0.91      0.92       342\n",
      "\n",
      "    accuracy                           0.94       891\n",
      "   macro avg       0.94      0.93      0.94       891\n",
      "weighted avg       0.94      0.94      0.94       891\n",
      " \n",
      "\n",
      "\n",
      "\n",
      "MODEL NAME :  GaussianNB() \n",
      "\n",
      "               precision    recall  f1-score   support\n",
      "\n",
      "           0       0.82      0.83      0.82       549\n",
      "           1       0.72      0.71      0.72       342\n",
      "\n",
      "    accuracy                           0.78       891\n",
      "   macro avg       0.77      0.77      0.77       891\n",
      "weighted avg       0.78      0.78      0.78       891\n",
      " \n",
      "\n",
      "\n",
      "\n"
     ]
    }
   ],
   "source": [
    "from sklearn.metrics import classification_report\n",
    "from sklearn import metrics\n",
    "for model in model_pipeline:\n",
    "    print(\"MODEL NAME : \",model,\"\\n\\n\",classification_report(y,model.predict(X_data)),\"\\n\\n\\n\")"
   ]
  },
  {
   "cell_type": "markdown",
   "id": "416535fd",
   "metadata": {},
   "source": [
    "## 13.2 Fetch model_score ; accuracy score of original and predicted data .\n",
    "#### Accuracy score is the indicator of model performance."
   ]
  },
  {
   "cell_type": "code",
   "execution_count": 70,
   "id": "00eaacd6",
   "metadata": {},
   "outputs": [
    {
     "data": {
      "text/html": [
       "<div>\n",
       "<style scoped>\n",
       "    .dataframe tbody tr th:only-of-type {\n",
       "        vertical-align: middle;\n",
       "    }\n",
       "\n",
       "    .dataframe tbody tr th {\n",
       "        vertical-align: top;\n",
       "    }\n",
       "\n",
       "    .dataframe thead th {\n",
       "        text-align: right;\n",
       "    }\n",
       "</style>\n",
       "<table border=\"1\" class=\"dataframe\">\n",
       "  <thead>\n",
       "    <tr style=\"text-align: right;\">\n",
       "      <th></th>\n",
       "      <th>Model</th>\n",
       "      <th>Model_score</th>\n",
       "      <th>Accuracy</th>\n",
       "    </tr>\n",
       "  </thead>\n",
       "  <tbody>\n",
       "    <tr>\n",
       "      <th>0</th>\n",
       "      <td>Logistic_Regression</td>\n",
       "      <td>0.808989</td>\n",
       "      <td>0.787709</td>\n",
       "    </tr>\n",
       "    <tr>\n",
       "      <th>1</th>\n",
       "      <td>KNN Classifier</td>\n",
       "      <td>0.879213</td>\n",
       "      <td>0.798883</td>\n",
       "    </tr>\n",
       "    <tr>\n",
       "      <th>2</th>\n",
       "      <td>Decision Tree Classifier</td>\n",
       "      <td>0.973315</td>\n",
       "      <td>0.815642</td>\n",
       "    </tr>\n",
       "    <tr>\n",
       "      <th>3</th>\n",
       "      <td>Random Forest Classifier</td>\n",
       "      <td>0.973315</td>\n",
       "      <td>0.810056</td>\n",
       "    </tr>\n",
       "    <tr>\n",
       "      <th>4</th>\n",
       "      <td>GaussianNB</td>\n",
       "      <td>0.785112</td>\n",
       "      <td>0.776536</td>\n",
       "    </tr>\n",
       "  </tbody>\n",
       "</table>\n",
       "</div>"
      ],
      "text/plain": [
       "                      Model  Model_score  Accuracy\n",
       "0       Logistic_Regression     0.808989  0.787709\n",
       "1            KNN Classifier     0.879213  0.798883\n",
       "2  Decision Tree Classifier     0.973315  0.815642\n",
       "3  Random Forest Classifier     0.973315  0.810056\n",
       "4                GaussianNB     0.785112  0.776536"
      ]
     },
     "execution_count": 70,
     "metadata": {},
     "output_type": "execute_result"
    }
   ],
   "source": [
    "#importing\n",
    "\n",
    "model_score = []\n",
    "acc_list = []\n",
    "\n",
    "for model in model_pipeline:\n",
    "    \n",
    "    y_pred = model.predict(X_test)\n",
    "    \n",
    "    model_score.append(model.score(X_train,Y_train))\n",
    "    \n",
    "    acc_list.append(metrics.accuracy_score(Y_test,y_pred))\n",
    "\n",
    "model_list=['Logistic_Regression','KNN Classifier','Decision Tree Classifier','Random Forest Classifier','GaussianNB']\n",
    "\n",
    "score_list = pd.DataFrame({'Model':model_list, 'Model_score':model_score, 'Accuracy': acc_list})\n",
    "score_list"
   ]
  },
  {
   "cell_type": "markdown",
   "id": "265c6e56",
   "metadata": {},
   "source": [
    "#### Accuracy Score of Random Forest Classifier and Decision Tree Classifier is the highest.\n",
    "#### Model with Least accuracy score is Gaussian NB classifier. "
   ]
  },
  {
   "cell_type": "markdown",
   "id": "896f86bb",
   "metadata": {},
   "source": [
    "## Step 13.4  Plot ROC Curve for each model : \n",
    "#### ROC is the plot of true positive rate against false positive rate at various classification threshold. \n",
    "#### AUC is the area under the ROC curve, and higher AUC indicates better model performance."
   ]
  },
  {
   "cell_type": "code",
   "execution_count": 71,
   "id": "19f41a69",
   "metadata": {},
   "outputs": [
    {
     "data": {
      "image/png": "[encoded data removed]",
      "text/plain": [
       "<Figure size 576x360 with 1 Axes>"
      ]
     },
     "metadata": {
      "needs_background": "light"
     },
     "output_type": "display_data"
    },
    {
     "data": {
      "image/png": "[encoded data removed]",
      "text/plain": [
       "<Figure size 576x360 with 1 Axes>"
      ]
     },
     "metadata": {
      "needs_background": "light"
     },
     "output_type": "display_data"
    },
    {
     "data": {
      "image/png": "[encoded data removed]",
      "text/plain": [
       "<Figure size 576x360 with 1 Axes>"
      ]
     },
     "metadata": {
      "needs_background": "light"
     },
     "output_type": "display_data"
    },
    {
     "data": {
      "image/png": "[encoded data removed]",
      "text/plain": [
       "<Figure size 576x360 with 1 Axes>"
      ]
     },
     "metadata": {
      "needs_background": "light"
     },
     "output_type": "display_data"
    },
    {
     "data": {
      "image/png": "[encoded data removed]",
      "text/plain": [
       "<Figure size 576x360 with 1 Axes>"
      ]
     },
     "metadata": {
      "needs_background": "light"
     },
     "output_type": "display_data"
    }
   ],
   "source": [
    "#Preparing ROC Curve (Receiver Operating Characteristics Curve)\n",
    "from sklearn.metrics import roc_curve\n",
    "from sklearn.metrics import roc_auc_score\n",
    "\n",
    "auc_roc=[] # list to store model roc_auc_score \n",
    "b_auc=[]\n",
    "for model in model_pipeline:\n",
    "    # generate a baseline prediction (majority class)\n",
    "    baseline_probs = [0 for _ in range(len(Y_test))]\n",
    "    # predict probabilities\n",
    "    probs = model.predict_proba(X_test)\n",
    "    # keep probabilities for the positive outcome only\n",
    "    probs = probs[:, 1]\n",
    "    # calculate scores\n",
    "    auc_roc.append(roc_auc_score(Y_test, probs))\n",
    "    b_auc.append(roc_auc_score(Y_test,baseline_probs))\n",
    "    # calculate roc curves\n",
    "    fpr, tpr, thresholds = roc_curve(Y_test, probs)\n",
    "    bl_fpr, bl_tpr, thresholds = roc_curve(Y_test, baseline_probs) \n",
    "    # plot the roc curve for the model\n",
    "    fig = plt.figure(figsize=(8,5))\n",
    "    plt.plot(bl_fpr,bl_tpr, linestyle='--',label='baseline')\n",
    "    plt.plot(fpr, tpr, marker='.',label='ROC Curve')\n",
    "    # plot title\n",
    "    plt.title(\"ROC curve with AUC for {} \".format(model))\n",
    "    # axis labels\n",
    "    plt.xlabel(\"False Positive Rate\")\n",
    "    plt.ylabel(\"True Positive Rate\")\n",
    "    # show the legend\n",
    "    plt.legend()"
   ]
  },
  {
   "cell_type": "code",
   "execution_count": 72,
   "id": "59d64b87",
   "metadata": {},
   "outputs": [
    {
     "data": {
      "text/html": [
       "<div>\n",
       "<style scoped>\n",
       "    .dataframe tbody tr th:only-of-type {\n",
       "        vertical-align: middle;\n",
       "    }\n",
       "\n",
       "    .dataframe tbody tr th {\n",
       "        vertical-align: top;\n",
       "    }\n",
       "\n",
       "    .dataframe thead th {\n",
       "        text-align: right;\n",
       "    }\n",
       "</style>\n",
       "<table border=\"1\" class=\"dataframe\">\n",
       "  <thead>\n",
       "    <tr style=\"text-align: right;\">\n",
       "      <th></th>\n",
       "      <th>Model</th>\n",
       "      <th>roc_auc_score</th>\n",
       "      <th>baseline_auc</th>\n",
       "    </tr>\n",
       "  </thead>\n",
       "  <tbody>\n",
       "    <tr>\n",
       "      <th>0</th>\n",
       "      <td>Logistic_Regression</td>\n",
       "      <td>0.864304</td>\n",
       "      <td>0.5</td>\n",
       "    </tr>\n",
       "    <tr>\n",
       "      <th>1</th>\n",
       "      <td>KNN Classifier</td>\n",
       "      <td>0.847848</td>\n",
       "      <td>0.5</td>\n",
       "    </tr>\n",
       "    <tr>\n",
       "      <th>2</th>\n",
       "      <td>Decision Tree Classifier</td>\n",
       "      <td>0.811962</td>\n",
       "      <td>0.5</td>\n",
       "    </tr>\n",
       "    <tr>\n",
       "      <th>3</th>\n",
       "      <td>Random Forest Classifier</td>\n",
       "      <td>0.883544</td>\n",
       "      <td>0.5</td>\n",
       "    </tr>\n",
       "    <tr>\n",
       "      <th>4</th>\n",
       "      <td>GaussianNB</td>\n",
       "      <td>0.828608</td>\n",
       "      <td>0.5</td>\n",
       "    </tr>\n",
       "  </tbody>\n",
       "</table>\n",
       "</div>"
      ],
      "text/plain": [
       "                      Model  roc_auc_score  baseline_auc\n",
       "0       Logistic_Regression       0.864304           0.5\n",
       "1            KNN Classifier       0.847848           0.5\n",
       "2  Decision Tree Classifier       0.811962           0.5\n",
       "3  Random Forest Classifier       0.883544           0.5\n",
       "4                GaussianNB       0.828608           0.5"
      ]
     },
     "execution_count": 72,
     "metadata": {},
     "output_type": "execute_result"
    }
   ],
   "source": [
    "AUC_score = pd.DataFrame({'Model':model_list, 'roc_auc_score': auc_roc ,'baseline_auc' :b_auc})\n",
    "AUC_score"
   ]
  },
  {
   "cell_type": "markdown",
   "id": "73124038",
   "metadata": {},
   "source": [
    "#### Since , higher AUC indicates better model performance : Random Forest Classifier has Highest auc score\n",
    "#### While, Decision Tree Classifier has least AUC score"
   ]
  },
  {
   "cell_type": "markdown",
   "id": "883d914a",
   "metadata": {},
   "source": [
    "## Step 13.4   Plot Precision Recall curve for each model :\n",
    "#### The precision-recall curve shows the tradeoff between precision and recall for different threshold. A high area under the curve represents both high recall and high precision, where high precision relates to a low false positive rate, and high recall relates to a low false negative rate."
   ]
  },
  {
   "cell_type": "code",
   "execution_count": 73,
   "id": "ed473d7f",
   "metadata": {},
   "outputs": [
    {
     "data": {
      "image/png": "[encoded data removed]",
      "text/plain": [
       "<Figure size 576x360 with 1 Axes>"
      ]
     },
     "metadata": {
      "needs_background": "light"
     },
     "output_type": "display_data"
    },
    {
     "data": {
      "image/png": "[encoded data removed]",
      "text/plain": [
       "<Figure size 576x360 with 1 Axes>"
      ]
     },
     "metadata": {
      "needs_background": "light"
     },
     "output_type": "display_data"
    },
    {
     "data": {
      "image/png": "[encoded data removed]",
      "text/plain": [
       "<Figure size 576x360 with 1 Axes>"
      ]
     },
     "metadata": {
      "needs_background": "light"
     },
     "output_type": "display_data"
    },
    {
     "data": {
      "image/png": "[encoded data removed]",
      "text/plain": [
       "<Figure size 576x360 with 1 Axes>"
      ]
     },
     "metadata": {
      "needs_background": "light"
     },
     "output_type": "display_data"
    },
    {
     "data": {
      "image/png": "[encoded data removed]",
      "text/plain": [
       "<Figure size 576x360 with 1 Axes>"
      ]
     },
     "metadata": {
      "needs_background": "light"
     },
     "output_type": "display_data"
    }
   ],
   "source": [
    "#Precision Recall Curve\n",
    "from sklearn.metrics import precision_recall_curve\n",
    "from sklearn.metrics import f1_score\n",
    "from sklearn.metrics import auc\n",
    "from sklearn.metrics import average_precision_score\n",
    "\n",
    "\n",
    "auc_pc=[]\n",
    "ap=[]\n",
    "f1=[]\n",
    "for model in model_pipeline:\n",
    "    # predict probabilities\n",
    "    probs = model.predict_proba(X_test)\n",
    "    # keep probabilities for the positive outcome only\n",
    "    probs = probs[:,1]\n",
    "    # predict class values\n",
    "    prediction = model.predict(X_test)\n",
    "    precision, recall,thresholds = precision_recall_curve(Y_test, probs)\n",
    "    auc_pc.append(metrics.auc(recall, precision))\n",
    "    f1.append(f1_score(Y_test, prediction))\n",
    "    ap.append(average_precision_score(Y_test, probs))\n",
    "    \n",
    "    # plot the precision-recall curves\n",
    "    fig = plt.figure(figsize=(8,5))\n",
    "    \n",
    "    plt.ylabel(\"Precision values\")\n",
    "    plt.xlabel(\"Recall values\")\n",
    "    \n",
    "    plt.title(\"Precision Recall Curve of : %s\"%model)\n",
    "    \n",
    "    plt.plot([0, 1], [0.5, 0.5], linestyle='--',label = \"baseline\")\n",
    "    plt.plot(recall, precision, marker='.',label=\"PR curve\")\n"
   ]
  },
  {
   "cell_type": "markdown",
   "id": "01dd95da",
   "metadata": {},
   "source": [
    "\n",
    "#### Random Forest Classifier covers the larger area under its curve, its AUC score is highest.\n",
    "#### While, GaussianNB classifier covers the least area under its curve."
   ]
  },
  {
   "cell_type": "markdown",
   "id": "952ef4c3",
   "metadata": {},
   "source": [
    "### Step 13.5 Summarize the Model Evaluation : \n"
   ]
  },
  {
   "cell_type": "code",
   "execution_count": 74,
   "id": "3d1705a0",
   "metadata": {},
   "outputs": [
    {
     "data": {
      "text/html": [
       "<div>\n",
       "<style scoped>\n",
       "    .dataframe tbody tr th:only-of-type {\n",
       "        vertical-align: middle;\n",
       "    }\n",
       "\n",
       "    .dataframe tbody tr th {\n",
       "        vertical-align: top;\n",
       "    }\n",
       "\n",
       "    .dataframe thead th {\n",
       "        text-align: right;\n",
       "    }\n",
       "</style>\n",
       "<table border=\"1\" class=\"dataframe\">\n",
       "  <thead>\n",
       "    <tr style=\"text-align: right;\">\n",
       "      <th></th>\n",
       "      <th>Model</th>\n",
       "      <th>Model_score</th>\n",
       "      <th>Accuracy</th>\n",
       "      <th>roc_auc_score</th>\n",
       "      <th>f1-score</th>\n",
       "      <th>precision-recall AUC</th>\n",
       "      <th>average precision score</th>\n",
       "    </tr>\n",
       "  </thead>\n",
       "  <tbody>\n",
       "    <tr>\n",
       "      <th>0</th>\n",
       "      <td>Logistic_Regression</td>\n",
       "      <td>0.808989</td>\n",
       "      <td>0.787709</td>\n",
       "      <td>0.864304</td>\n",
       "      <td>0.743243</td>\n",
       "      <td>0.840113</td>\n",
       "      <td>0.841624</td>\n",
       "    </tr>\n",
       "    <tr>\n",
       "      <th>1</th>\n",
       "      <td>KNN Classifier</td>\n",
       "      <td>0.879213</td>\n",
       "      <td>0.798883</td>\n",
       "      <td>0.847848</td>\n",
       "      <td>0.766234</td>\n",
       "      <td>0.856555</td>\n",
       "      <td>0.799194</td>\n",
       "    </tr>\n",
       "    <tr>\n",
       "      <th>2</th>\n",
       "      <td>Decision Tree Classifier</td>\n",
       "      <td>0.973315</td>\n",
       "      <td>0.815642</td>\n",
       "      <td>0.811962</td>\n",
       "      <td>0.787097</td>\n",
       "      <td>0.829042</td>\n",
       "      <td>0.728530</td>\n",
       "    </tr>\n",
       "    <tr>\n",
       "      <th>3</th>\n",
       "      <td>Random Forest Classifier</td>\n",
       "      <td>0.973315</td>\n",
       "      <td>0.810056</td>\n",
       "      <td>0.883544</td>\n",
       "      <td>0.784810</td>\n",
       "      <td>0.867880</td>\n",
       "      <td>0.863480</td>\n",
       "    </tr>\n",
       "    <tr>\n",
       "      <th>4</th>\n",
       "      <td>GaussianNB</td>\n",
       "      <td>0.785112</td>\n",
       "      <td>0.776536</td>\n",
       "      <td>0.828608</td>\n",
       "      <td>0.736842</td>\n",
       "      <td>0.737956</td>\n",
       "      <td>0.743301</td>\n",
       "    </tr>\n",
       "  </tbody>\n",
       "</table>\n",
       "</div>"
      ],
      "text/plain": [
       "                      Model  Model_score  Accuracy  roc_auc_score  f1-score  \\\n",
       "0       Logistic_Regression     0.808989  0.787709       0.864304  0.743243   \n",
       "1            KNN Classifier     0.879213  0.798883       0.847848  0.766234   \n",
       "2  Decision Tree Classifier     0.973315  0.815642       0.811962  0.787097   \n",
       "3  Random Forest Classifier     0.973315  0.810056       0.883544  0.784810   \n",
       "4                GaussianNB     0.785112  0.776536       0.828608  0.736842   \n",
       "\n",
       "   precision-recall AUC  average precision score  \n",
       "0              0.840113                 0.841624  \n",
       "1              0.856555                 0.799194  \n",
       "2              0.829042                 0.728530  \n",
       "3              0.867880                 0.863480  \n",
       "4              0.737956                 0.743301  "
      ]
     },
     "execution_count": 74,
     "metadata": {},
     "output_type": "execute_result"
    }
   ],
   "source": [
    "result = pd.DataFrame({'Model':model_list, 'Model_score':model_score, 'Accuracy': acc_list, \n",
    "                       'roc_auc_score': auc_roc, 'f1-score': f1,'precision-recall AUC': auc_pc, \n",
    "                       'average precision score': ap })\n",
    "result"
   ]
  },
  {
   "cell_type": "markdown",
   "id": "dcd89e22",
   "metadata": {},
   "source": [
    "## After looking at the values My top 2 models are : Logistic and random Forest classifier"
   ]
  },
  {
   "cell_type": "markdown",
   "id": "f678537e",
   "metadata": {},
   "source": [
    "## Step 14 : Comapre the models with KNN algorithm. "
   ]
  },
  {
   "cell_type": "code",
   "execution_count": 122,
   "id": "7aadef4d",
   "metadata": {},
   "outputs": [
    {
     "name": "stdout",
     "output_type": "stream",
     "text": [
      "LogisticRegression():\n",
      " Mean: 0.796891\n",
      " Std: (0.032873) \n",
      " Max:(0.853933)\n",
      "\n",
      "\n",
      "KNeighborsClassifier(n_neighbors=3):\n",
      " Mean: 0.807041\n",
      " Std: (0.039890) \n",
      " Max:(0.865169)\n",
      "\n",
      "\n",
      "DecisionTreeClassifier(criterion='entropy', random_state=7):\n",
      " Mean: 0.793483\n",
      " Std: (0.018324) \n",
      " Max:(0.820225)\n",
      "\n",
      "\n",
      "RandomForestClassifier(random_state=1):\n",
      " Mean: 0.826105\n",
      " Std: (0.035528) \n",
      " Max:(0.865169)\n",
      "\n",
      "\n",
      "GaussianNB():\n",
      " Mean: 0.783396\n",
      " Std: (0.025581) \n",
      " Max:(0.820225)\n",
      "\n",
      "\n"
     ]
    },
    {
     "data": {
      "text/plain": [
       "Text(0.5, 1.0, 'Model Comparision')"
      ]
     },
     "execution_count": 122,
     "metadata": {},
     "output_type": "execute_result"
    },
    {
     "data": {
      "image/png": "[encoded data removed]",
      "text/plain": [
       "<Figure size 1440x720 with 1 Axes>"
      ]
     },
     "metadata": {
      "needs_background": "light"
     },
     "output_type": "display_data"
    }
   ],
   "source": [
    "from sklearn import model_selection\n",
    "seed = 7\n",
    "results = []\n",
    "names = [model_list]\n",
    "scoring = 'accuracy'\n",
    "for model in model_pipeline:\n",
    "    kfold = model_selection.KFold(n_splits=10)\n",
    "    cv_results = model_selection.cross_val_score(model, X_data, y, cv=kfold, scoring=scoring)\n",
    "    results.append(cv_results)\n",
    "    msg = \"%s:\\n Mean: %f\\n Std: (%f) \\n Max:(%f)\\n\\n\" % (model, cv_results.mean(), cv_results.std(), cv_results.max())\n",
    "    print(msg)  \n",
    "fig = plt.figure(figsize=(20,10))\n",
    "plt.boxplot(results)\n",
    "plt.ylabel(\"Model_score\",fontsize =20)\n",
    "plt.xlabel(\"Model\",fontsize=20)\n",
    "plt.xticks(range(1,len(model_list)+1), model_list,fontsize =14)\n",
    "plt.title(\"Model Comparision\",fontsize =20)"
   ]
  },
  {
   "cell_type": "markdown",
   "id": "9f117ad7",
   "metadata": {},
   "source": [
    "## Clearly Random Forest Classifier is the best Model ."
   ]
  }
 ],
 "metadata": {
  "kernelspec": {
   "display_name": "Python 3 (ipykernel)",
   "language": "python",
   "name": "python3"
  },
  "language_info": {
   "codemirror_mode": {
    "name": "ipython",
    "version": 3
   },
   "file_extension": ".py",
   "mimetype": "text/x-python",
   "name": "python",
   "nbconvert_exporter": "python",
   "pygments_lexer": "ipython3",
   "version": "3.9.7"
  }
 },
 "nbformat": 4,
 "nbformat_minor": 5
}
